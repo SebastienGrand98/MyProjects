{
 "cells": [
  {
   "cell_type": "code",
   "execution_count": 46,
   "metadata": {},
   "outputs": [],
   "source": [
    "import requests\n",
    "from bs4 import BeautifulSoup\n",
    "\n",
    "# Define the URL of the webpage you want to scrape\n",
    "url = \"https://www.espn.com/rugby/playerstats?gameId=596218&league=180659\"\n",
    "\n",
    "# Send a GET request to the website\n",
    "response = requests.get(url)\n",
    "\n",
    "# Create a BeautifulSoup object to parse the HTML content\n",
    "soup = BeautifulSoup(response.content, \"html.parser\")\n",
    "\n",
    "# Find the relevant elements on the webpage and extract the desired data\n",
    "tab = soup.find_all(\"div\", class_=\"table-wrap active\")\n",
    "\n",
    "\n"
   ]
  },
  {
   "cell_type": "code",
   "execution_count": 57,
   "metadata": {},
   "outputs": [
    {
     "name": "stdout",
     "output_type": "stream",
     "text": [
      "Title: T Ramos\n",
      "Poste: T\n",
      "------------------\n"
     ]
    }
   ],
   "source": [
    "# Iterate over the articles and extract specific information\n",
    "for line in tab:\n",
    "    for player in line:\n",
    "        title = player.find(\"a\", target=\"_blank\").text.strip()\n",
    "        poste = player.find(\"span\", \n",
    "                            class_=\"tooltip icon-font icon-soccer-goal-solid\").text.strip()\n",
    "\n",
    "    # Print the extracted data\n",
    "    print(\"Title:\", title)\n",
    "    print(\"Poste:\", poste)\n",
    "    print(\"------------------\")"
   ]
  },
  {
   "cell_type": "code",
   "execution_count": 58,
   "metadata": {},
   "outputs": [],
   "source": [
    "# Find the table body\n",
    "tbody = soup.find('tbody')\n",
    "\n",
    "# Extract data from table rows\n",
    "rows = tbody.find_all('tr')"
   ]
  },
  {
   "cell_type": "code",
   "execution_count": 64,
   "metadata": {},
   "outputs": [
    {
     "name": "stdout",
     "output_type": "stream",
     "text": [
      "Player: T Ramos\n",
      "Stats: ['0', '2', '5', '2', '0', '16']\n",
      "---\n",
      "Player: D Penaud\n",
      "Stats: ['2', '1', '0', '0', '0', '10']\n",
      "---\n",
      "Player: G Fickou\n",
      "Stats: ['1', '0', '0', '0', '0', '5']\n",
      "---\n",
      "Player: J Danty\n",
      "Stats: ['1', '0', '0', '0', '0', '5']\n",
      "---\n",
      "Player: E Dumortier\n",
      "Stats: ['0', '0', '0', '0', '0', '0']\n",
      "---\n",
      "Player: R Ntamack\n",
      "Stats: ['0', '1', '0', '0', '0', '0']\n",
      "---\n",
      "Player: A Dupont\n",
      "Stats: ['0', '1', '0', '0', '0', '0']\n",
      "---\n",
      "Player: C Baille\n",
      "Stats: ['0', '0', '0', '0', '0', '0']\n",
      "---\n",
      "Player: J Marchand\n",
      "Stats: ['0', '0', '0', '0', '0', '0']\n",
      "---\n",
      "Player: U Atonio\n",
      "Stats: ['1', '0', '0', '0', '0', '5']\n",
      "---\n",
      "Player: T Flament\n",
      "Stats: ['0', '0', '0', '0', '0', '0']\n",
      "---\n",
      "Player: R Taofifenua\n",
      "Stats: ['0', '0', '0', '0', '0', '0']\n",
      "---\n",
      "Player: F Cros\n",
      "Stats: ['0', '0', '0', '0', '0', '0']\n",
      "---\n",
      "Player: C Ollivon\n",
      "Stats: ['0', '0', '0', '0', '0', '0']\n",
      "---\n",
      "Player: G Alldritt\n",
      "Stats: ['0', '0', '0', '0', '0', '0']\n",
      "---\n",
      "Player: P Mauvaka\n",
      "Stats: ['0', '0', '0', '0', '0', '0']\n",
      "---\n",
      "Player: R Wardi\n",
      "Stats: ['0', '0', '0', '0', '0', '0']\n",
      "---\n",
      "Player: S Falatea\n",
      "Stats: ['0', '0', '0', '0', '0', '0']\n",
      "---\n",
      "Player: B Chalureau\n",
      "Stats: ['0', '0', '0', '0', '0', '0']\n",
      "---\n",
      "Player: S Macalou\n",
      "Stats: ['0', '0', '0', '0', '0', '0']\n",
      "---\n",
      "Player: M Lucu\n",
      "Stats: ['0', '0', '0', '0', '0', '0']\n",
      "---\n",
      "Player: Y Moefana\n",
      "Stats: ['0', '0', '0', '0', '0', '0']\n",
      "---\n",
      "Player: M Jaminet\n",
      "Stats: ['0', '0', '0', '0', '0', '0']\n",
      "---\n"
     ]
    }
   ],
   "source": [
    "# Process each row\n",
    "for row in rows:\n",
    "    # Extract data from cells in the row\n",
    "    cells = row.find_all('td')\n",
    "    player_name = cells[0].find('a').text\n",
    "    stats = [cell.text for cell in cells[1:]]\n",
    "    \n",
    "\n",
    "    # Print the extracted data\n",
    "    print('Player:', player_name)\n",
    "    print('Stats:', stats)\n",
    "    print('---')"
   ]
  }
 ],
 "metadata": {
  "kernelspec": {
   "display_name": "myenv",
   "language": "python",
   "name": "myenv"
  },
  "language_info": {
   "codemirror_mode": {
    "name": "ipython",
    "version": 3
   },
   "file_extension": ".py",
   "mimetype": "text/x-python",
   "name": "python",
   "nbconvert_exporter": "python",
   "pygments_lexer": "ipython3",
   "version": "3.10.11"
  }
 },
 "nbformat": 4,
 "nbformat_minor": 4
}
