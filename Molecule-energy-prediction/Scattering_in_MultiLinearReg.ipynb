{
  "nbformat": 4,
  "nbformat_minor": 0,
  "metadata": {
    "colab": {
      "name": "Scattering_in_MultiLinearReg.ipynb",
      "provenance": [],
      "collapsed_sections": []
    },
    "kernelspec": {
      "name": "python3",
      "display_name": "Python 3"
    },
    "language_info": {
      "name": "python"
    },
    "gpuClass": "standard"
  },
  "cells": [
    {
      "cell_type": "code",
      "source": [
        "import pandas as pd\n",
        "import numpy as np\n",
        "import torch\n",
        "import torch.nn as nn"
      ],
      "metadata": {
        "id": "xwnlUot-QTlo"
      },
      "execution_count": null,
      "outputs": []
    },
    {
      "cell_type": "code",
      "execution_count": null,
      "metadata": {
        "id": "SXG5YBinKFAe"
      },
      "outputs": [],
      "source": [
        "device = torch.device('cuda' if torch.cuda.is_available() else 'cpu')\n",
        "device"
      ]
    },
    {
      "cell_type": "code",
      "source": [
        "import torch\n",
        "import torch.nn as nn\n",
        "\n",
        "class MultiLinearRegression(nn.Module):\n",
        "    # defining a class for multi linear regression\n",
        "    def __init__(self):\n",
        "        super(MultiLinearRegression, self).__init__()\n",
        "        # defining the constructor\n",
        "        self.lin = nn.Linear(5, 1)\n",
        "\n",
        "    def subLayer(self, x) :\n",
        "        # r = 1\n",
        "        layer1 = nn.Linear(300, 1)(x)\n",
        "        # r = 2\n",
        "        layer2 = nn.Linear(300, 1)(x)\n",
        "        # r = 3\n",
        "        layer3 = nn.Linear(300, 1)(x)\n",
        "        \n",
        "        # product\n",
        "        product = layer1 * layer2 * layer3\n",
        "\n",
        "        return product\n",
        "\n",
        "\n",
        "    def forward(self, x):\n",
        "        # defining the forward pass\n",
        "        x1 = self.subLayer(x)\n",
        "        x2 = self.subLayer(x)\n",
        "        x3 = self.subLayer(x)\n",
        "        x4 = self.subLayer(x)\n",
        "        x5 = self.subLayer(x)\n",
        "\n",
        "        x = torch.cat((x1, x2, x3, x4, x5), 1)\n",
        "\n",
        "        x = self.lin(x)\n",
        "\n",
        "        return x\n",
        "\n",
        "net = MultiLinearRegression()\n",
        "net.to(device)"
      ],
      "metadata": {
        "id": "9vDSYDPBzuri"
      },
      "execution_count": null,
      "outputs": []
    },
    {
      "cell_type": "code",
      "source": [
        "def test(model, dataloader):\n",
        "    test_corrects = 0\n",
        "    total = 0\n",
        "    with torch.no_grad():\n",
        "        for x, y in dataloader:\n",
        "            y = torch.reshape(y, (-1,1)).float()\n",
        "            x = x.to(device)\n",
        "            y = y.to(device)\n",
        "            y_hat = model(x.float())\n",
        "            test_loss = torch.sqrt(nn.MSELoss()(y, y_hat))\n",
        "    return test_loss"
      ],
      "metadata": {
        "id": "RT19VlAYQnkZ"
      },
      "execution_count": null,
      "outputs": []
    },
    {
      "cell_type": "code",
      "source": [
        "from tqdm import tqdm\n",
        "from statistics import mean\n",
        "import torch\n",
        "import torchvision\n",
        "import torch.nn as nn\n",
        "import torch.nn.functional as F\n",
        "import torch.optim as optim\n",
        "\n",
        "\n",
        "def train(net, optimizer, loader, epochs=10):\n",
        "    great_val_loss = torch.zeros(1)*10000\n",
        "    criterion = nn.MSELoss()\n",
        "    for epoch in range(epochs):\n",
        "        running_loss = []\n",
        "        t = tqdm(loader)\n",
        "        for x, y in t:\n",
        "            y = torch.reshape(y, (8,1))\n",
        "            x, y = x.to(device), y.to(device)\n",
        "            outputs = net(x.float())\n",
        "            loss = criterion(outputs, y.float())\n",
        "            running_loss.append(loss.item())\n",
        "            optimizer.zero_grad()\n",
        "            loss.backward()\n",
        "            optimizer.step()\n",
        "            t.set_description(f'training loss: {np.sqrt(mean(running_loss))}')\n",
        "        \n",
        "        validation_loss = test(net, loader)\n",
        "\n",
        "        if validation_loss < great_val_loss :\n",
        "          torch.save(net, 'drive/MyDrive/Network/torch_model.pt')\n",
        "          \n",
        "        print(f'Epoch {epoch + 1}/{epochs} : loss {np.sqrt(mean(running_loss))} : val_loss {validation_loss}')"
      ],
      "metadata": {
        "id": "7Xawx1K4Qkwi"
      },
      "execution_count": null,
      "outputs": []
    },
    {
      "cell_type": "code",
      "source": [
        "class ScatteringDataset():\n",
        "\n",
        "    def __init__(self, start=0, end=-1):\n",
        "        self.path = 'drive/MyDrive/Data/'\n",
        "        self.input = pd.read_csv(self.path + 'scaled_scattering_coef.csv', sep=',', header=None)[start:end]\n",
        "        self.output = pd.read_csv(self.path + 'train.csv')[start:end]['energy']\n",
        "\n",
        "    def __len__(self):\n",
        "        return len(self.input)\n",
        "\n",
        "    def __getitem__(self, idx):\n",
        "       \n",
        "        input = self.input.iloc[idx].values\n",
        "        output = self.output.iloc[idx]\n",
        "\n",
        "\n",
        "        return (input.astype(float), output.astype(float))\n",
        "        "
      ],
      "metadata": {
        "id": "c_9yAnOEQqjz"
      },
      "execution_count": null,
      "outputs": []
    },
    {
      "cell_type": "code",
      "source": [
        "trainset = ScatteringDataset(start=0, end=6400)\n",
        "testset = ScatteringDataset(start=6400, end=6770)\n",
        "\n",
        "# dataloaders\n",
        "trainloader = torch.utils.data.DataLoader(trainset, batch_size=8, shuffle=True, num_workers=2)\n",
        "testloader = torch.utils.data.DataLoader(testset, batch_size=8, shuffle=True, num_workers=2)"
      ],
      "metadata": {
        "id": "4gEB4YIxQuCb"
      },
      "execution_count": null,
      "outputs": []
    },
    {
      "cell_type": "code",
      "source": [
        "optimizer = optim.Adam(net.parameters(), lr=0.01)\n",
        "\n",
        "train(net, optimizer, trainloader, epochs=100)"
      ],
      "metadata": {
        "id": "d7SFBqr6Qw30"
      },
      "execution_count": null,
      "outputs": []
    },
    {
      "cell_type": "code",
      "source": [
        "class TestScatteringDataset():\n",
        "\n",
        "    def __init__(self, start=0, end=-1):\n",
        "        self.path = 'drive/MyDrive/Data/'\n",
        "        self.input = pd.read_csv(self.path + 'test_scaled_scattering_coef.csv', sep=',', header=None)[start:end]\n",
        "      \n",
        "\n",
        "    def __len__(self):\n",
        "        return len(self.input)\n",
        "\n",
        "    def __getitem__(self, idx):\n",
        "       \n",
        "        input = self.input.iloc[idx].values\n",
        "\n",
        "        return input.astype(float)"
      ],
      "metadata": {
        "id": "g0zFeJY4UOkt"
      },
      "execution_count": null,
      "outputs": []
    },
    {
      "cell_type": "code",
      "source": [
        "evalset = TestScatteringDataset()\n",
        "evalloader = torch.utils.data.DataLoader(evalset, batch_size=1, shuffle=False, num_workers=2)"
      ],
      "metadata": {
        "id": "drszUVXuUWmk"
      },
      "execution_count": null,
      "outputs": []
    },
    {
      "cell_type": "code",
      "source": [
        "def evaluate(model, dataloader, index_range = None):\n",
        "\n",
        "    y_hat = []\n",
        "    counter = 0\n",
        "    with torch.no_grad():\n",
        "        for x_pos in dataloader:\n",
        "            x_pos = x_pos[:, 1:].to(device)\n",
        "            y_hat.append(model(x_pos.float()).detach().tolist())\n",
        "\n",
        "    if index_range is None:\n",
        "        ids = range(len(y_hat))\n",
        "    else:\n",
        "        ids = range(index_range[0],index_range[1]+1)\n",
        "\n",
        "    print(len(y_hat))\n",
        "    print(len(ids))\n",
        "    results = pd.DataFrame({\"id\": list(ids), \"predicted\": np.ravel(y_hat)})\n",
        "\n",
        "    return results"
      ],
      "metadata": {
        "id": "M06NMKp_Tx4d"
      },
      "execution_count": null,
      "outputs": []
    },
    {
      "cell_type": "code",
      "source": [
        "results = evaluate(net, evalloader)\n",
        "to_sub = results[4:-3].reset_index(drop=True)\n",
        "to_sub_index = np.arange(6774, 8463)\n",
        "to_sub['id'] = to_sub_index\n",
        "to_sub"
      ],
      "metadata": {
        "id": "9n3lkLzlUe3Z"
      },
      "execution_count": null,
      "outputs": []
    },
    {
      "cell_type": "code",
      "source": [
        "to_sub.to_csv('/content/drive/MyDrive/Data/to_sub.csv', sep=',', index=False)"
      ],
      "metadata": {
        "id": "WCikp4FqjcEx"
      },
      "execution_count": null,
      "outputs": []
    }
  ]
}