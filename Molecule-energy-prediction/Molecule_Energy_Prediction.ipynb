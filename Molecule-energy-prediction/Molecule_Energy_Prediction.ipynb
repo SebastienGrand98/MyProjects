{
 "cells": [
  {
   "cell_type": "markdown",
   "id": "ab4221d9",
   "metadata": {},
   "source": [
    "# Prediction de l'energie des molécules"
   ]
  },
  {
   "cell_type": "markdown",
   "id": "a2a5f9eb",
   "metadata": {},
   "source": [
    "#### imporation des librairies"
   ]
  },
  {
   "cell_type": "code",
   "execution_count": 1,
   "id": "08802937",
   "metadata": {},
   "outputs": [],
   "source": [
    "import pandas as pd\n",
    "import numpy as np\n",
    "import scipy, matplotlib\n",
    "from scipy.fft import fft\n",
    "import plotly.express as px\n",
    "# ase est une librairie pour lire les fichiers .xyz (souvent utilisé pour representer des atomes.) site : https://wiki.fysik.dtu.dk/\n",
    "from ase.io.xyz import read_xyz\n",
    "from ase.io import read\n",
    "from ase.visualize import view\n",
    "import os \n",
    "from dscribe.descriptors.coulombmatrix import CoulombMatrix\n",
    "from dscribe.descriptors.sinematrix import SineMatrix\n",
    "from dscribe.descriptors.ewaldsummatrix import EwaldSumMatrix\n",
    "from dscribe.descriptors.mbtr import MBTR\n",
    "# librairies de data science.\n",
    "from sklearn.model_selection import train_test_split"
   ]
  },
  {
   "cell_type": "code",
   "execution_count": 2,
   "id": "0cb0b1a2",
   "metadata": {},
   "outputs": [],
   "source": [
    "from sklearn.preprocessing import StandardScaler\n",
    "from sklearn import preprocessing"
   ]
  },
  {
   "cell_type": "code",
   "execution_count": 3,
   "id": "e6fed2f4",
   "metadata": {},
   "outputs": [],
   "source": [
    "import pywt"
   ]
  },
  {
   "cell_type": "code",
   "execution_count": 4,
   "id": "e6ebe872",
   "metadata": {},
   "outputs": [],
   "source": [
    "from scipy.signal import cwt"
   ]
  },
  {
   "cell_type": "code",
   "execution_count": 5,
   "id": "de48a311",
   "metadata": {},
   "outputs": [],
   "source": [
    "cA, cD = pywt.dwt([1, 2, 3, 4], 'db1')"
   ]
  },
  {
   "cell_type": "code",
   "execution_count": 6,
   "id": "444cd3b3",
   "metadata": {},
   "outputs": [
    {
     "data": {
      "text/plain": [
       "array([-1.34164079, -0.4472136 ,  0.4472136 ,  1.34164079])"
      ]
     },
     "execution_count": 6,
     "metadata": {},
     "output_type": "execute_result"
    }
   ],
   "source": [
    "StandardScaler().fit_transform(np.array([1,2,3,4]).reshape(-1, 1)).flatten()"
   ]
  },
  {
   "cell_type": "code",
   "execution_count": 7,
   "id": "acede748",
   "metadata": {},
   "outputs": [],
   "source": [
    "l_atoms = [ 'H','C','O','N','S','Cl']"
   ]
  },
  {
   "cell_type": "markdown",
   "id": "cc2c91d6",
   "metadata": {},
   "source": [
    "### Prise en main de la librairie ase"
   ]
  },
  {
   "cell_type": "markdown",
   "id": "1cbcad24",
   "metadata": {},
   "source": [
    "Dans cette partie, nous prenons en main la librairie ASE et regardons les différentes fonctions qui pourrait nous être utile pour la suite."
   ]
  },
  {
   "cell_type": "code",
   "execution_count": null,
   "id": "07278a87",
   "metadata": {},
   "outputs": [],
   "source": [
    "test = read(\"./train/atoms/train/id_1.xyz\")"
   ]
  },
  {
   "cell_type": "code",
   "execution_count": null,
   "id": "1b5a8a1b",
   "metadata": {},
   "outputs": [],
   "source": [
    "view(test, viewer='x3d')"
   ]
  },
  {
   "cell_type": "code",
   "execution_count": null,
   "id": "c4d7d505",
   "metadata": {},
   "outputs": [],
   "source": [
    "from ase.calculators.abinit import Abinit"
   ]
  },
  {
   "cell_type": "code",
   "execution_count": null,
   "id": "c026dd5a",
   "metadata": {},
   "outputs": [],
   "source": [
    "calc = Abinit()"
   ]
  },
  {
   "cell_type": "code",
   "execution_count": null,
   "id": "c381469e",
   "metadata": {},
   "outputs": [],
   "source": [
    "test.calc = calc"
   ]
  },
  {
   "cell_type": "code",
   "execution_count": null,
   "id": "2b676dd9",
   "metadata": {},
   "outputs": [],
   "source": [
    "test.get_initial_charges()"
   ]
  },
  {
   "cell_type": "code",
   "execution_count": 16,
   "id": "e68770d2",
   "metadata": {},
   "outputs": [],
   "source": [
    "import numpy as np\n",
    "from dscribe.descriptors import MBTR\n",
    "\n",
    "# Setup : best = 5\n",
    "def getMBTR(N=5) :\n",
    "    mbtr = MBTR(\n",
    "        species=l_atoms,\n",
    "        k1={\n",
    "            \"geometry\": {\"function\": \"atomic_number\"},\n",
    "            \"grid\": {\"min\": 0, \"max\": 8, \"n\": N, \"sigma\": 0.1},\n",
    "        },\n",
    "        k2={\n",
    "            \"geometry\": {\"function\": \"inverse_distance\"},\n",
    "            \"grid\": {\"min\": 0, \"max\": 1, \"n\": N, \"sigma\": 0.1},\n",
    "            \"weighting\": {\"function\": \"exp\", \"scale\": 0.5, \"threshold\": 1e-3},\n",
    "        },\n",
    "        k3={\n",
    "            \"geometry\": {\"function\": \"cosine\"},\n",
    "            \"grid\": {\"min\": -1, \"max\": 1, \"n\": N, \"sigma\": 0.1},\n",
    "            \"weighting\": {\"function\": \"exp\", \"scale\": 0.5, \"threshold\": 1e-3},\n",
    "        },\n",
    "        periodic=False,\n",
    "        normalization=\"l2_each\",\n",
    "    )\n",
    "    return mbtr"
   ]
  },
  {
   "cell_type": "code",
   "execution_count": null,
   "id": "d4eebda3",
   "metadata": {},
   "outputs": [],
   "source": [
    "mbtr = getMBTR(N=5)\n",
    "mbtr_test = mbtr.create(test)\n",
    "\n",
    "#print(mbtr_test)\n",
    "print(mbtr_test.shape)\n"
   ]
  },
  {
   "cell_type": "code",
   "execution_count": null,
   "id": "04c7479e",
   "metadata": {},
   "outputs": [],
   "source": [
    "from ase.build import molecule\n",
    "\n",
    "water = molecule(\"H2O\")\n",
    "\n",
    "# Create MBTR output for the system\n",
    "mbtr_water = mbtr.create(water)\n",
    "\n",
    "print(mbtr_water)\n",
    "print(mbtr_water.shape)"
   ]
  },
  {
   "cell_type": "code",
   "execution_count": null,
   "id": "5c26ae23",
   "metadata": {},
   "outputs": [],
   "source": [
    "px.line(mbtr_water)"
   ]
  },
  {
   "cell_type": "code",
   "execution_count": null,
   "id": "67269a81",
   "metadata": {},
   "outputs": [],
   "source": [
    "px.line(mbtr_test)"
   ]
  },
  {
   "cell_type": "markdown",
   "id": "1785849d",
   "metadata": {},
   "source": [
    "#### Listing des infos (fonctions) complémentaires potentiellement interessantes pour une molécule"
   ]
  },
  {
   "cell_type": "code",
   "execution_count": null,
   "id": "7837bd6c",
   "metadata": {},
   "outputs": [],
   "source": [
    "d_tab1 = test.get_all_distances()"
   ]
  },
  {
   "cell_type": "code",
   "execution_count": null,
   "id": "d96d3da2",
   "metadata": {},
   "outputs": [],
   "source": [
    "test.euler_rotate(phi=2.0, theta=8.0, psi=5.0, center=(0, 0, 0))"
   ]
  },
  {
   "cell_type": "code",
   "execution_count": null,
   "id": "9a2cf5f1",
   "metadata": {},
   "outputs": [],
   "source": [
    "d_tab2 = test.get_all_distances()"
   ]
  },
  {
   "cell_type": "code",
   "execution_count": null,
   "id": "2380ed37",
   "metadata": {},
   "outputs": [],
   "source": [
    "d_tab1"
   ]
  },
  {
   "cell_type": "code",
   "execution_count": null,
   "id": "54cd4c01",
   "metadata": {},
   "outputs": [],
   "source": [
    "d_tab2"
   ]
  },
  {
   "cell_type": "code",
   "execution_count": null,
   "id": "5cda9a00",
   "metadata": {},
   "outputs": [],
   "source": [
    "d_tab1[0,2]"
   ]
  },
  {
   "cell_type": "code",
   "execution_count": null,
   "id": "647e0031",
   "metadata": {},
   "outputs": [],
   "source": [
    "d_tab2[0,2]"
   ]
  },
  {
   "cell_type": "code",
   "execution_count": null,
   "id": "ca97abe1",
   "metadata": {},
   "outputs": [],
   "source": [
    "np.equal(d_tab1,d_tab2)"
   ]
  },
  {
   "cell_type": "code",
   "execution_count": null,
   "id": "853857a9",
   "metadata": {},
   "outputs": [],
   "source": [
    "test.get_masses()#.sum()"
   ]
  },
  {
   "cell_type": "code",
   "execution_count": null,
   "id": "d3815ecd",
   "metadata": {},
   "outputs": [],
   "source": [
    "test.get_chemical_formula(mode='metal', empirical=False)"
   ]
  },
  {
   "cell_type": "code",
   "execution_count": null,
   "id": "066c0185",
   "metadata": {},
   "outputs": [],
   "source": [
    "test.get_atomic_numbers()"
   ]
  },
  {
   "cell_type": "code",
   "execution_count": null,
   "id": "4e3d3ee8",
   "metadata": {},
   "outputs": [],
   "source": [
    "pd.Series(test.get_chemical_symbols()).value_counts()"
   ]
  },
  {
   "cell_type": "code",
   "execution_count": null,
   "id": "9e5e2749",
   "metadata": {},
   "outputs": [],
   "source": [
    "test.get_global_number_of_atoms()"
   ]
  },
  {
   "cell_type": "code",
   "execution_count": null,
   "id": "64c9234c",
   "metadata": {},
   "outputs": [],
   "source": [
    "np.linalg.norm(test.get_positions())"
   ]
  },
  {
   "cell_type": "code",
   "execution_count": null,
   "id": "7e196666",
   "metadata": {},
   "outputs": [],
   "source": [
    "np.linalg.norm(test.get_positions())"
   ]
  },
  {
   "cell_type": "code",
   "execution_count": null,
   "id": "f530f5ef",
   "metadata": {},
   "outputs": [],
   "source": [
    "#test.get_total_energy()"
   ]
  },
  {
   "cell_type": "code",
   "execution_count": null,
   "id": "7a98e0d0",
   "metadata": {},
   "outputs": [],
   "source": [
    "test.get_kinetic_energy()"
   ]
  },
  {
   "cell_type": "code",
   "execution_count": null,
   "id": "be3caf6c",
   "metadata": {},
   "outputs": [],
   "source": [
    "test.set_scaled_positions(test.get_scaled_positions())"
   ]
  },
  {
   "cell_type": "code",
   "execution_count": null,
   "id": "446c49b2",
   "metadata": {},
   "outputs": [],
   "source": [
    "test.get_scaled_positions()"
   ]
  },
  {
   "cell_type": "code",
   "execution_count": null,
   "id": "9cd5582b",
   "metadata": {},
   "outputs": [],
   "source": [
    "# Necessite de donner un calculateur à la molécule\n",
    "try :\n",
    "    test.get_charges()\n",
    "except Exception as e: \n",
    "    print(e)\n",
    "    print(\"Erreur : Necessite de donner un calculateur à la molécule\")"
   ]
  },
  {
   "cell_type": "code",
   "execution_count": null,
   "id": "a9e8b9a9",
   "metadata": {},
   "outputs": [],
   "source": []
  },
  {
   "cell_type": "code",
   "execution_count": null,
   "id": "f3c0d1c7",
   "metadata": {},
   "outputs": [],
   "source": [
    "# Necessite de donner un calculateur à la molécule\n",
    "try :\n",
    "    test.get_dipole_moment()\n",
    "except : \n",
    "    print(\"Erreur : Necessite de donner un calculateur à la molécule\")"
   ]
  },
  {
   "cell_type": "code",
   "execution_count": null,
   "id": "b736e40e",
   "metadata": {},
   "outputs": [],
   "source": [
    "# Necessite de donner un calculateur à la molécule\n",
    "try :\n",
    "    test.get_forces(apply_constraint=True, md=False)\n",
    "except : \n",
    "    print(\"Erreur : Necessite de donner un calculateur à la molécule\")"
   ]
  },
  {
   "cell_type": "code",
   "execution_count": null,
   "id": "dcf86bd8",
   "metadata": {},
   "outputs": [],
   "source": [
    "nb_atoms = test.get_global_number_of_atoms()"
   ]
  },
  {
   "cell_type": "code",
   "execution_count": null,
   "id": "453f7b36",
   "metadata": {},
   "outputs": [],
   "source": [
    "test.get_moments_of_inertia(vectors=False)"
   ]
  },
  {
   "cell_type": "code",
   "execution_count": null,
   "id": "ab5a5089",
   "metadata": {},
   "outputs": [],
   "source": [
    "test.get_center_of_mass()"
   ]
  },
  {
   "cell_type": "code",
   "execution_count": null,
   "id": "5b918db5",
   "metadata": {},
   "outputs": [],
   "source": [
    "CM = CoulombMatrix(test.get_global_number_of_atoms(), permutation='none', sigma=None, seed=None, flatten=True, sparse=False)\n",
    "cm = CM.create(test, n_jobs=1, verbose=False)"
   ]
  },
  {
   "cell_type": "code",
   "execution_count": null,
   "id": "03303a2e",
   "metadata": {},
   "outputs": [],
   "source": [
    "np.array_equal(cm,cm_2)"
   ]
  },
  {
   "cell_type": "code",
   "execution_count": null,
   "id": "a596214b",
   "metadata": {},
   "outputs": [],
   "source": [
    "cm_2 = CM.create(test, n_jobs=1, verbose=False)"
   ]
  },
  {
   "cell_type": "code",
   "execution_count": null,
   "id": "2eae72a5",
   "metadata": {},
   "outputs": [],
   "source": [
    "# checking if both the arrays are of equal size\n",
    "a =cm\n",
    "b = a.transpose()\n",
    "if a.shape == b.shape:\n",
    "    # comparing the arrays using == and all() method\n",
    "    if (a == b).all():\n",
    "        print(\"The Array or Matrix is Symmetric\")\n",
    "    else:\n",
    "        print(\"The Array / Matrix is Not Symmetric\")\n",
    "else:\n",
    "    print(\"The Array / Matrix is Not Symmetric\")"
   ]
  },
  {
   "cell_type": "code",
   "execution_count": null,
   "id": "1367adf9",
   "metadata": {},
   "outputs": [],
   "source": [
    "pd.DataFrame(a)"
   ]
  },
  {
   "cell_type": "code",
   "execution_count": null,
   "id": "f1e89ef7",
   "metadata": {},
   "outputs": [],
   "source": [
    "from ase.build import molecule\n",
    "\n",
    "# Molecule created as an ASE.Atoms\n",
    "methanol = molecule(\"CH3OH\")"
   ]
  },
  {
   "cell_type": "code",
   "execution_count": null,
   "id": "02244a5e",
   "metadata": {},
   "outputs": [],
   "source": [
    "cm = CoulombMatrix(\n",
    "    n_atoms_max=6,\n",
    "    flatten=False,\n",
    "    permutation=\"sorted_l2\"\n",
    ")\n",
    "\n",
    "# Translation\n",
    "methanol.translate((5, 7, 9))\n",
    "cm_methanol = cm.create(methanol)\n",
    "print(cm_methanol)\n",
    "\n",
    "# Rotation\n",
    "methanol.rotate(90, 'z', center=(0, 0, 0))\n",
    "cm_methanol = cm.create(methanol)\n",
    "print(cm_methanol)\n",
    "\n",
    "# Permutation\n",
    "upside_down_methanol = methanol[::-1]\n",
    "cm_methanol = cm.create(upside_down_methanol)\n",
    "print(cm_methanol)"
   ]
  },
  {
   "cell_type": "code",
   "execution_count": null,
   "id": "a4560d7f",
   "metadata": {},
   "outputs": [],
   "source": [
    "L = []\n",
    "nb_atoms_max = 23\n",
    "nb_atoms = methanol.get_global_number_of_atoms()\n",
    "for i in range(nb_atoms) :\n",
    "    L+= list(cm_methanol[i,0:i+1])\n",
    "    \n",
    "taille = 0 \n",
    "for i in range(nb_atoms_max):\n",
    "    taille+= nb_atoms_max - i\n",
    "    \n",
    "L+= [0]*(taille-len(L))"
   ]
  },
  {
   "cell_type": "code",
   "execution_count": null,
   "id": "744de989",
   "metadata": {},
   "outputs": [],
   "source": []
  },
  {
   "cell_type": "markdown",
   "id": "dc9d8997",
   "metadata": {},
   "source": [
    "### Chargement des données et mise en forme"
   ]
  },
  {
   "cell_type": "code",
   "execution_count": 8,
   "id": "12876e7d",
   "metadata": {},
   "outputs": [],
   "source": [
    "df_train_energies = pd.read_csv(\"./train/energies/train.csv\",sep=\",\",dtype = {\"id\":\"str\"})"
   ]
  },
  {
   "cell_type": "code",
   "execution_count": 9,
   "id": "3efccc88",
   "metadata": {},
   "outputs": [],
   "source": [
    "# Dictionnaire regroupant les différents atomes.\n",
    "def get_dict_atoms(path) :\n",
    "    \"\"\"\n",
    "    input : path of the file\n",
    "    return : dictionnary of atoms\n",
    "    \"\"\"\n",
    "    dict_atoms_train = {}\n",
    "    l = os.scandir(path)\n",
    "    l = [e.name for e in l]\n",
    "    for e in l : \n",
    "        dict_atoms_train[e.split(\".\")[0].split(\"_\")[1]] = read(path+e)\n",
    "    return dict_atoms_train"
   ]
  },
  {
   "cell_type": "code",
   "execution_count": 10,
   "id": "72c6530b",
   "metadata": {},
   "outputs": [],
   "source": [
    "dict_atoms_train = get_dict_atoms(\"./train/atoms/train/\")\n",
    "dict_atoms_test = get_dict_atoms(\"./train/atoms/test/\")"
   ]
  },
  {
   "cell_type": "code",
   "execution_count": 11,
   "id": "e8787ad5",
   "metadata": {},
   "outputs": [],
   "source": [
    "pct_val = 0.33"
   ]
  },
  {
   "cell_type": "code",
   "execution_count": 12,
   "id": "408975b1",
   "metadata": {},
   "outputs": [],
   "source": [
    "import random"
   ]
  },
  {
   "cell_type": "code",
   "execution_count": 13,
   "id": "1a42a220",
   "metadata": {},
   "outputs": [],
   "source": [
    "### Fonctions utiles :\n",
    "def percentile(n):\n",
    "    def percentile_(x):\n",
    "        return np.percentile(x, n)\n",
    "    percentile_.__name__ = 'percentile_%s' % n\n",
    "    return percentile_"
   ]
  },
  {
   "cell_type": "code",
   "execution_count": 17,
   "id": "a178a673",
   "metadata": {},
   "outputs": [],
   "source": [
    "def getMBTR(N=5) :\n",
    "    mbtr = MBTR(\n",
    "        species=l_atoms,\n",
    "        k1={\n",
    "            \"geometry\": {\"function\": \"atomic_number\"},\n",
    "            \"grid\": {\"min\": 0, \"max\": 8, \"n\": N, \"sigma\": 0.1},\n",
    "        },\n",
    "        k2={\n",
    "            \"geometry\": {\"function\": \"inverse_distance\"},\n",
    "            \"grid\": {\"min\": 0, \"max\": 1, \"n\": N, \"sigma\": 0.1},\n",
    "            \"weighting\": {\"function\": \"exp\", \"scale\": 0.5, \"threshold\": 1e-3},\n",
    "        },\n",
    "        k3={\n",
    "            \"geometry\": {\"function\": \"cosine\"},\n",
    "            \"grid\": {\"min\": -1, \"max\": 1, \"n\": N, \"sigma\": 0.1},\n",
    "            \"weighting\": {\"function\": \"exp\", \"scale\": 0.5, \"threshold\": 1e-3},\n",
    "        },\n",
    "        periodic=False,\n",
    "        normalization=\"l2_each\",\n",
    "    )\n",
    "    return mbtr"
   ]
  },
  {
   "cell_type": "code",
   "execution_count": 18,
   "id": "3599cab1",
   "metadata": {},
   "outputs": [],
   "source": [
    "# require getMBTR\n",
    "def getDf(dict_atoms_train, permutation=\"sorted_l2\", sigma=None,type_d = \"Train\",transform =(\"autre\",None),representation=\"mbtr\") : #,\"sorted_l2\",\"random\",\"eigenspectrum\"\n",
    "    df_train = pd.DataFrame({\"id\":dict_atoms_train.keys(),\"Molecule\":dict_atoms_train.values()})\n",
    "    def getVectorisedMolecule(x,version = \"mbtr\") :\n",
    "        if version == \"CM\" : # matrice de coulomb\n",
    "            CM = CoulombMatrix(nb_max_atoms, permutation=permutation, sigma=sigma, seed=None, flatten=True, sparse=False)\n",
    "            # vectorised coulomb matrix.\n",
    "            vcm = np.array(CM.create(x[\"Molecule\"],verbose=False))\n",
    "            return vcm\n",
    "        else : # mbtr \n",
    "            mbtr = getMBTR(N=5)\n",
    "            # vectorised many body tensor representation.\n",
    "            vmbtr = mbtr.create(x[\"Molecule\"]).flatten()\n",
    "            return vmbtr #StandardScaler().fit_transform(cm.reshape(-1, 1)).flatten()\n",
    "    def getParams(x) :\n",
    "        return x.get_chemical_formula(mode='hill', empirical=False),x.get_global_number_of_atoms(),x.get_masses().sum()\n",
    "    def getDwt(x,representation) :\n",
    "        cA,cB = pywt.dwt(getVectorisedMolecule(x,representation),transform[1])\n",
    "        to_return = list(cA)+list(cB)\n",
    "        \n",
    "        assert len(cA)+len(cB)==len(to_return)\n",
    "        return list(cA)\n",
    "    df_train[[\"Molecule_formula\",\"Number_of_atoms\",\"Masse\"]] = None\n",
    "    df_train[[\"Molecule_formula\",\"Number_of_atoms\",\"Masse\"]] = df_train.apply(lambda x : getParams(x[\"Molecule\"]), axis=1,result_type='expand')\n",
    "    sub = df_train[\"Molecule\"].apply(lambda x : pd.Series(x.get_chemical_symbols()).value_counts())\n",
    "    sub.fillna(0,inplace = True)\n",
    "    col_to_add = sub.columns\n",
    "    df_train[col_to_add]= sub\n",
    "    nb_max_atoms = df_train[\"Number_of_atoms\"].max()\n",
    "    if transform[0] == \"fft\":\n",
    "        sub = df_train.apply(lambda x : np.abs(fft(getVectorisedMolecule(x,representation))), axis=1,result_type='expand').copy()\n",
    "    elif transform[0] ==\"cwt\" :\n",
    "        sub = df_train.apply(lambda x : getDwt(x,representation) , axis=1,result_type='expand').copy()\n",
    "    else :\n",
    "        sub = df_train.apply(lambda x : getVectorisedMolecule(x,representation), axis=1,result_type='expand').copy()\n",
    "\n",
    "    df_train[sub.columns] = sub\n",
    "    if type_d == \"Train\" :\n",
    "        df_train = df_train.merge(df_train_energies,on=\"id\",how=\"left\")\n",
    "        df_train.sort_values(\"id\",inplace = True)\n",
    "        df_train.dropna(inplace=True)\n",
    "    return df_train,sub"
   ]
  },
  {
   "cell_type": "code",
   "execution_count": 19,
   "id": "be92bc94",
   "metadata": {},
   "outputs": [
    {
     "name": "stderr",
     "output_type": "stream",
     "text": [
      "/home/n7student/miniconda3/envs/forDataScience/lib/python3.9/site-packages/pandas/core/frame.py:3641: PerformanceWarning: DataFrame is highly fragmented.  This is usually the result of calling `frame.insert` many times, which has poor performance.  Consider joining all columns at once using pd.concat(axis=1) instead.  To get a de-fragmented frame, use `newframe = frame.copy()`\n",
      "  self[k1] = value[k2]\n"
     ]
    }
   ],
   "source": [
    "# nombre de molécule uniques \n",
    "transform=(None,None)\n",
    "representation = \"mbtr\"\n",
    "df_train,_ =getDf(dict_atoms_train,permutation=None,sigma=None,transform=transform,representation=representation)\n",
    "df_test,_  =getDf(dict_atoms_test,permutation=None,sigma=None,transform=transform,type_d=\"Test\",representation=representation)"
   ]
  },
  {
   "cell_type": "code",
   "execution_count": null,
   "id": "6c8b07d5",
   "metadata": {},
   "outputs": [],
   "source": [
    "df_test.to_csv(\"process_data_\"+transform[1]+\"_test.csv\",sep=\";\",header=True,encoding=\"utf-8-sig\",index=False)\n",
    "df_train.to_csv(\"process_data_\"+transform[1]+\".csv\",sep=\";\",header=True,encoding=\"utf-8-sig\",index=False)"
   ]
  },
  {
   "cell_type": "markdown",
   "id": "b9b40bec",
   "metadata": {},
   "source": [
    "### for Data Augmentation "
   ]
  },
  {
   "cell_type": "code",
   "execution_count": null,
   "id": "14969b93",
   "metadata": {},
   "outputs": [],
   "source": [
    "df_train_all = df_train.copy()\n",
    "df_train = df_train_all.sample(frac = 0.6)\n",
    "df_val = df_train_all.drop(df_train.index)\n",
    "l_id_train = list(df_train[\"id\"].unique())\n",
    "dict_atoms_sub_train = {}\n",
    "for elt in l_id_train :\n",
    "    dict_atoms_sub_train[elt] = dict_atoms_train[elt]\n",
    "## Data augmenation\n",
    "Nb_aug = 5\n",
    "for i in range(Nb_aug) :\n",
    "    df,_ = getDf(dict_atoms_sub_train,permutation=\"random\",sigma=0.5,transform=transform)\n",
    "    df_train = pd.concat([df_train,df],ignore_index=True)"
   ]
  },
  {
   "cell_type": "code",
   "execution_count": null,
   "id": "80202e8b",
   "metadata": {},
   "outputs": [],
   "source": [
    "C_M = df_train[[e for e in range(763)]]#df_train[(df_train[\"Molecule_formula\"]==\"C6H9N\")]"
   ]
  },
  {
   "cell_type": "code",
   "execution_count": null,
   "id": "8198da20",
   "metadata": {},
   "outputs": [],
   "source": [
    "C_M = C_M.transpose()\n",
    "# X = C_M.values\n",
    "# X= StandardScaler().fit_transform(X)\n",
    "# nC_M = pd.DataFrame(data=X,columns=C_M.columns)"
   ]
  },
  {
   "cell_type": "code",
   "execution_count": null,
   "id": "88728c45",
   "metadata": {},
   "outputs": [],
   "source": [
    "px.line(C_M)"
   ]
  },
  {
   "cell_type": "code",
   "execution_count": null,
   "id": "9b11624d",
   "metadata": {},
   "outputs": [],
   "source": [
    "df_train_energies.describe()"
   ]
  },
  {
   "cell_type": "code",
   "execution_count": null,
   "id": "f7a1a6d1",
   "metadata": {},
   "outputs": [],
   "source": [
    "px.histogram(df_train_energies[\"energy\"].values)"
   ]
  },
  {
   "cell_type": "code",
   "execution_count": null,
   "id": "a20ec129",
   "metadata": {},
   "outputs": [],
   "source": [
    "df_train.info()"
   ]
  },
  {
   "cell_type": "code",
   "execution_count": null,
   "id": "43274092",
   "metadata": {},
   "outputs": [],
   "source": [
    "df_train.shape"
   ]
  },
  {
   "cell_type": "code",
   "execution_count": null,
   "id": "29792cd2",
   "metadata": {},
   "outputs": [],
   "source": [
    "print(\"Nombre de molécules différentes : \"+str(len(df_train[\"Molecule_formula\"].unique())))"
   ]
  },
  {
   "cell_type": "code",
   "execution_count": null,
   "id": "e1f68112",
   "metadata": {},
   "outputs": [],
   "source": [
    "print(\"Nombre de molécules différentes : \"+str(len(df_test[\"Molecule_formula\"].unique())))"
   ]
  },
  {
   "cell_type": "code",
   "execution_count": null,
   "id": "7a45335c",
   "metadata": {},
   "outputs": [],
   "source": [
    "if set(df_test[\"Molecule_formula\"].unique())==set(df_train[\"Molecule_formula\"].unique()) :\n",
    "    print(\"Les molécules présentes dans l'ensemble test sont les même que ceux présents dans l'ensemble d'entrainement\")\n",
    "else :\n",
    "    print(\"Attention l'ensemble des molécules présente dans le jeu d'entrainement et de test est différent\")\n",
    "    "
   ]
  },
  {
   "cell_type": "code",
   "execution_count": null,
   "id": "242cd881",
   "metadata": {},
   "outputs": [],
   "source": [
    "px.scatter(df_train,x=\"Number_of_atoms\",y=\"energy\",hover_data = [\"energy\",\"Molecule_formula\"])"
   ]
  },
  {
   "cell_type": "code",
   "execution_count": null,
   "id": "7c64ce56",
   "metadata": {},
   "outputs": [],
   "source": [
    "px.scatter(df_train,x=\"Masse\",y=\"energy\",hover_data = [\"energy\",\"Molecule_formula\"])"
   ]
  },
  {
   "cell_type": "code",
   "execution_count": null,
   "id": "2de8064b",
   "metadata": {},
   "outputs": [],
   "source": [
    "list(df_train.columns)"
   ]
  },
  {
   "cell_type": "markdown",
   "id": "f4293678",
   "metadata": {},
   "source": [
    "### Represention de la matrice de coulomb tel qu'il soit invariant par translation ,rotation et permutations"
   ]
  },
  {
   "cell_type": "code",
   "execution_count": null,
   "id": "e45b7e78",
   "metadata": {},
   "outputs": [],
   "source": [
    "Y_cm = df_train[\"Molecule_formula\"].values"
   ]
  },
  {
   "cell_type": "code",
   "execution_count": null,
   "id": "48143d2b",
   "metadata": {},
   "outputs": [],
   "source": [
    "X_cm = sub.values"
   ]
  },
  {
   "cell_type": "code",
   "execution_count": null,
   "id": "c570a341",
   "metadata": {},
   "outputs": [],
   "source": [
    "X_cm = StandardScaler().fit_transform(X_cm)"
   ]
  },
  {
   "cell_type": "code",
   "execution_count": null,
   "id": "79265ea5",
   "metadata": {},
   "outputs": [],
   "source": [
    "X_train, X_test, y_train, y_test = train_test_split(X_cm, Y_cm, test_size=0.2, random_state=42)"
   ]
  },
  {
   "cell_type": "markdown",
   "id": "0ef2b8f8",
   "metadata": {},
   "source": [
    "#### Reduction de la dimension par lda"
   ]
  },
  {
   "cell_type": "code",
   "execution_count": null,
   "id": "f7dbb6c0",
   "metadata": {},
   "outputs": [],
   "source": [
    "from sklearn.discriminant_analysis import LinearDiscriminantAnalysis"
   ]
  },
  {
   "cell_type": "code",
   "execution_count": null,
   "id": "328eb64f",
   "metadata": {},
   "outputs": [],
   "source": [
    "clf = LinearDiscriminantAnalysis(n_components=7)\n",
    "clf.fit(X_train,y_train)"
   ]
  },
  {
   "cell_type": "code",
   "execution_count": null,
   "id": "7350c907",
   "metadata": {},
   "outputs": [],
   "source": [
    "clf.score(X_train,y_train)"
   ]
  },
  {
   "cell_type": "code",
   "execution_count": null,
   "id": "86914764",
   "metadata": {},
   "outputs": [],
   "source": [
    "\n",
    "X_new = clf.fit_transform(X_train,y_train)"
   ]
  },
  {
   "cell_type": "code",
   "execution_count": null,
   "id": "2b7b295e",
   "metadata": {},
   "outputs": [],
   "source": [
    "X_new[:,0]"
   ]
  },
  {
   "cell_type": "code",
   "execution_count": null,
   "id": "ceafcabe",
   "metadata": {},
   "outputs": [],
   "source": [
    "px.scatter(x=X_new[:,0],y=X_new[:,1],color=y_train)"
   ]
  },
  {
   "cell_type": "markdown",
   "id": "07de34de",
   "metadata": {},
   "source": [
    "### Entrainement du modèle."
   ]
  },
  {
   "cell_type": "markdown",
   "id": "9db36a26",
   "metadata": {},
   "source": [
    "#### Définition de la métrique d'évaluation."
   ]
  },
  {
   "cell_type": "code",
   "execution_count": null,
   "id": "17a46394",
   "metadata": {},
   "outputs": [],
   "source": [
    "def rmse(predictions, targets):\n",
    "    return np.sqrt(((predictions - targets) ** 2).mean())"
   ]
  },
  {
   "cell_type": "markdown",
   "id": "ef38bb4a",
   "metadata": {},
   "source": [
    "#### Création d'un jeu de données d'entrainement et de test  / Scaling."
   ]
  },
  {
   "cell_type": "code",
   "execution_count": null,
   "id": "5751a4a9",
   "metadata": {},
   "outputs": [],
   "source": [
    "Y = df_train[\"energy\"].values"
   ]
  },
  {
   "cell_type": "code",
   "execution_count": null,
   "id": "22b1d517",
   "metadata": {},
   "outputs": [],
   "source": [
    "to_drop = [\"id\",\"Molecule\",\"Molecule_formula\",\"energy\"]"
   ]
  },
  {
   "cell_type": "code",
   "execution_count": null,
   "id": "a78240e9",
   "metadata": {},
   "outputs": [],
   "source": [
    "X = df_train.drop(to_drop,axis=1)"
   ]
  },
  {
   "cell_type": "code",
   "execution_count": null,
   "id": "72f50dd6",
   "metadata": {},
   "outputs": [],
   "source": [
    "scaler = StandardScaler()\n",
    "scaler.fit(X.values)\n",
    "X_ = scaler.transform(X.values)"
   ]
  },
  {
   "cell_type": "code",
   "execution_count": 22,
   "id": "bab75e01",
   "metadata": {},
   "outputs": [],
   "source": [
    "if False : \n",
    "    X_val = df_val.drop(to_drop,axis=1)\n",
    "    X_val_ = scaler.transform(X_val.values)\n",
    "    Y_val= df_val[\"energy\"].values"
   ]
  },
  {
   "cell_type": "code",
   "execution_count": null,
   "id": "2ed63d95",
   "metadata": {},
   "outputs": [],
   "source": [
    "X_train, X_test, y_train, y_test = train_test_split(X_, Y, test_size=0.1, random_state=42)"
   ]
  },
  {
   "cell_type": "code",
   "execution_count": null,
   "id": "aab7f12c",
   "metadata": {},
   "outputs": [],
   "source": [
    "X_train.shape"
   ]
  },
  {
   "cell_type": "markdown",
   "id": "613d707e",
   "metadata": {},
   "source": [
    "### XGboost"
   ]
  },
  {
   "cell_type": "code",
   "execution_count": null,
   "id": "f6afded3",
   "metadata": {},
   "outputs": [],
   "source": [
    "import xgboost as xg"
   ]
  },
  {
   "cell_type": "code",
   "execution_count": null,
   "id": "70de7bda",
   "metadata": {},
   "outputs": [],
   "source": [
    "xgb_r = xg.XGBRegressor(eval_metric=\"rmse\",max_depth=8,n_estimators=1000,reg_alpha=0.2)#reg_alpha = 2.5,reg_lambda=2)\n",
    "xgb_r.fit(X_train, np.array(y_train))"
   ]
  },
  {
   "cell_type": "code",
   "execution_count": null,
   "id": "611f65b4",
   "metadata": {},
   "outputs": [],
   "source": [
    "xgb_r.score(X_train,y_train)"
   ]
  },
  {
   "cell_type": "code",
   "execution_count": null,
   "id": "8c819c42",
   "metadata": {},
   "outputs": [],
   "source": [
    "xgb_r.score(X_test,y_test)"
   ]
  },
  {
   "cell_type": "code",
   "execution_count": null,
   "id": "5c378965",
   "metadata": {},
   "outputs": [],
   "source": [
    "y_pred = xgb_r.predict(X_test)"
   ]
  },
  {
   "cell_type": "code",
   "execution_count": null,
   "id": "4fe8afc1",
   "metadata": {},
   "outputs": [],
   "source": [
    "rmse(y_test, y_pred)"
   ]
  },
  {
   "cell_type": "code",
   "execution_count": null,
   "id": "037d9afb",
   "metadata": {},
   "outputs": [],
   "source": [
    "rmse(y_train, xgb_r.predict(X_train))"
   ]
  },
  {
   "cell_type": "code",
   "execution_count": null,
   "id": "c52e92e0",
   "metadata": {},
   "outputs": [],
   "source": [
    "rmse(xgb_r.predict(X_val_),Y_val)"
   ]
  },
  {
   "cell_type": "code",
   "execution_count": null,
   "id": "b8729eac",
   "metadata": {},
   "outputs": [],
   "source": [
    "X_train.shape"
   ]
  },
  {
   "cell_type": "markdown",
   "id": "68cecd68",
   "metadata": {},
   "source": [
    "### Random Forest regressor"
   ]
  },
  {
   "cell_type": "code",
   "execution_count": null,
   "id": "0c066a64",
   "metadata": {},
   "outputs": [],
   "source": [
    "from sklearn.ensemble import RandomForestRegressor"
   ]
  },
  {
   "cell_type": "code",
   "execution_count": null,
   "id": "b0808179",
   "metadata": {},
   "outputs": [],
   "source": [
    "regr = RandomForestRegressor()\n",
    "regr.fit(X_train, y_train)"
   ]
  },
  {
   "cell_type": "code",
   "execution_count": null,
   "id": "df4e3f1c",
   "metadata": {},
   "outputs": [],
   "source": [
    "regr.score(X_train,y_train)"
   ]
  },
  {
   "cell_type": "code",
   "execution_count": null,
   "id": "85616203",
   "metadata": {},
   "outputs": [],
   "source": [
    "y_predicted_rf_train = regr.predict(X_train)"
   ]
  },
  {
   "cell_type": "code",
   "execution_count": null,
   "id": "bedf67ac",
   "metadata": {},
   "outputs": [],
   "source": [
    "y_predicted_rf_test = regr.predict(X_test)"
   ]
  },
  {
   "cell_type": "code",
   "execution_count": null,
   "id": "11051689",
   "metadata": {},
   "outputs": [],
   "source": [
    "rmse(y_predicted_rf_test ,y_test)"
   ]
  },
  {
   "cell_type": "code",
   "execution_count": null,
   "id": "8b67541d",
   "metadata": {},
   "outputs": [],
   "source": [
    "rmse(y_predicted_rf_train ,y_train)"
   ]
  },
  {
   "cell_type": "code",
   "execution_count": null,
   "id": "345a85c8",
   "metadata": {},
   "outputs": [],
   "source": [
    "rmse(regr.predict(X_val_),Y_val)"
   ]
  },
  {
   "cell_type": "code",
   "execution_count": null,
   "id": "3f751a29",
   "metadata": {},
   "outputs": [],
   "source": []
  },
  {
   "cell_type": "markdown",
   "id": "7afa6e2f",
   "metadata": {},
   "source": [
    "### SVM"
   ]
  },
  {
   "cell_type": "code",
   "execution_count": null,
   "id": "0535a3e0",
   "metadata": {},
   "outputs": [],
   "source": [
    "from sklearn import svm"
   ]
  },
  {
   "cell_type": "code",
   "execution_count": null,
   "id": "dc09cf22",
   "metadata": {},
   "outputs": [],
   "source": [
    "regr_svm = svm.SVR()\n",
    "regr_svm.fit(X_train,y_train)"
   ]
  },
  {
   "cell_type": "code",
   "execution_count": null,
   "id": "e8735fb9",
   "metadata": {},
   "outputs": [],
   "source": [
    "regr_svm.score(X_train,y_train)"
   ]
  },
  {
   "cell_type": "code",
   "execution_count": null,
   "id": "6ba38b9f",
   "metadata": {},
   "outputs": [],
   "source": [
    "y_predicted_svm_train = regr_svm.predict(X_train)"
   ]
  },
  {
   "cell_type": "code",
   "execution_count": null,
   "id": "d26a27c9",
   "metadata": {},
   "outputs": [],
   "source": [
    "y_predicted_svm_test= regr_svm.predict(X_test)"
   ]
  },
  {
   "cell_type": "code",
   "execution_count": null,
   "id": "3a5e2321",
   "metadata": {},
   "outputs": [],
   "source": [
    "rmse(y_predicted_svm_test ,y_test)"
   ]
  },
  {
   "cell_type": "markdown",
   "id": "770a70bd",
   "metadata": {},
   "source": [
    "### SGD_REGRESSOR"
   ]
  },
  {
   "cell_type": "code",
   "execution_count": null,
   "id": "bc634638",
   "metadata": {},
   "outputs": [],
   "source": [
    "from sklearn.linear_model import SGDRegressor"
   ]
  },
  {
   "cell_type": "code",
   "execution_count": null,
   "id": "e0bfc8d2",
   "metadata": {},
   "outputs": [],
   "source": [
    "regr_sgdr = SGDRegressor()\n",
    "regr_sgdr.fit(X_train,y_train)"
   ]
  },
  {
   "cell_type": "code",
   "execution_count": null,
   "id": "e55c7a7b",
   "metadata": {},
   "outputs": [],
   "source": [
    "regr_sgdr.score(X_train,y_train)"
   ]
  },
  {
   "cell_type": "code",
   "execution_count": null,
   "id": "bf966159",
   "metadata": {},
   "outputs": [],
   "source": [
    "y_predicted_sgdr_train = regr_sgdr.predict(X_train)"
   ]
  },
  {
   "cell_type": "code",
   "execution_count": null,
   "id": "ce94bdb7",
   "metadata": {},
   "outputs": [],
   "source": [
    "y_predicted_sgdr_test = regr_sgdr.predict(X_test)"
   ]
  },
  {
   "cell_type": "code",
   "execution_count": null,
   "id": "bc241454",
   "metadata": {},
   "outputs": [],
   "source": [
    "rmse(y_predicted_sgdr_test ,y_test)"
   ]
  },
  {
   "cell_type": "markdown",
   "id": "f7d2f076",
   "metadata": {},
   "source": [
    "### Linear Lasso"
   ]
  },
  {
   "cell_type": "code",
   "execution_count": null,
   "id": "cf13024b",
   "metadata": {},
   "outputs": [],
   "source": [
    "from sklearn import linear_model"
   ]
  },
  {
   "cell_type": "code",
   "execution_count": null,
   "id": "05450bd8",
   "metadata": {},
   "outputs": [],
   "source": [
    "reg_lasso = linear_model.Lasso(alpha=0.08)\n",
    "reg_lasso.fit(X_train,y_train)"
   ]
  },
  {
   "cell_type": "code",
   "execution_count": null,
   "id": "e02f3e8f",
   "metadata": {},
   "outputs": [],
   "source": [
    "reg_lasso.score(X_train,y_train)"
   ]
  },
  {
   "cell_type": "code",
   "execution_count": null,
   "id": "23ad7841",
   "metadata": {},
   "outputs": [],
   "source": [
    "rmse(reg_lasso.predict(X_train),y_train)"
   ]
  },
  {
   "cell_type": "code",
   "execution_count": null,
   "id": "af3794fd",
   "metadata": {},
   "outputs": [],
   "source": [
    "rmse(reg_lasso.predict(X_test),y_test)"
   ]
  },
  {
   "cell_type": "markdown",
   "id": "ca17de83",
   "metadata": {},
   "source": [
    "### Ridge"
   ]
  },
  {
   "cell_type": "code",
   "execution_count": null,
   "id": "97c5f135",
   "metadata": {},
   "outputs": [],
   "source": [
    "from sklearn.linear_model import Ridge"
   ]
  },
  {
   "cell_type": "code",
   "execution_count": null,
   "id": "e99096d1",
   "metadata": {},
   "outputs": [],
   "source": [
    "ridge= Ridge(alpha=0.8)\n",
    "ridge.fit(X_train,y_train)"
   ]
  },
  {
   "cell_type": "code",
   "execution_count": null,
   "id": "d62e630a",
   "metadata": {},
   "outputs": [],
   "source": [
    "ridge.score(X_train,y_train)"
   ]
  },
  {
   "cell_type": "code",
   "execution_count": null,
   "id": "40667155",
   "metadata": {},
   "outputs": [],
   "source": [
    "rmse(ridge.predict(X_train),y_train)"
   ]
  },
  {
   "cell_type": "code",
   "execution_count": null,
   "id": "fd2a3b80",
   "metadata": {},
   "outputs": [],
   "source": [
    "rmse(ridge.predict(X_test),y_test)"
   ]
  },
  {
   "cell_type": "code",
   "execution_count": null,
   "id": "65fd96be",
   "metadata": {},
   "outputs": [],
   "source": [
    "#rmse(ridge.predict(X_val_),Y_val)"
   ]
  },
  {
   "cell_type": "markdown",
   "id": "69f7b535",
   "metadata": {},
   "source": [
    "### CNN"
   ]
  },
  {
   "cell_type": "code",
   "execution_count": null,
   "id": "66e2f446",
   "metadata": {
    "scrolled": true
   },
   "outputs": [],
   "source": [
    "import tensorflow as tf\n",
    "from tensorflow import keras\n",
    "from tensorflow.keras import layers\n",
    "import matplotlib.pyplot as plt\n",
    "\n",
    "# Librairies et fonctions nécessaires au design des réseaux de neurones\n",
    "# import keras\n",
    "# from keras import layers\n",
    "# from keras import models\n",
    "from tensorflow.keras.layers import Dense,Conv1D,Conv2D, MaxPooling1D, Flatten, Activation,Dropout\n",
    "from tensorflow.keras.models import Model, Sequential"
   ]
  },
  {
   "cell_type": "code",
   "execution_count": null,
   "id": "b8d8e378",
   "metadata": {},
   "outputs": [],
   "source": [
    "scaler_MinMax = preprocessing.MinMaxScaler()#QuantileTransformer(output_distribution=\"normal\",random_state=0)\n",
    "scaler_MinMax.fit(X.values)"
   ]
  },
  {
   "cell_type": "code",
   "execution_count": null,
   "id": "2f549126",
   "metadata": {},
   "outputs": [],
   "source": [
    "X_cnn = scaler.transform(X.values)#"
   ]
  },
  {
   "cell_type": "code",
   "execution_count": null,
   "id": "0f83c926",
   "metadata": {},
   "outputs": [],
   "source": [
    "X_cnn = X_cnn.reshape(X_cnn.shape[0], X_cnn.shape[1], 1)"
   ]
  },
  {
   "cell_type": "code",
   "execution_count": null,
   "id": "77a2c54d",
   "metadata": {},
   "outputs": [],
   "source": [
    "X_train, X_test, y_train, y_test = train_test_split(\n",
    "...     X_cnn, Y, test_size=0.10, random_state=42)"
   ]
  },
  {
   "cell_type": "code",
   "execution_count": null,
   "id": "13025b5d",
   "metadata": {},
   "outputs": [],
   "source": [
    "X_train.shape"
   ]
  },
  {
   "cell_type": "code",
   "execution_count": null,
   "id": "5eefbc4f",
   "metadata": {},
   "outputs": [],
   "source": [
    "import tensorflow.keras.backend as K\n",
    "def root_mean_squared_error(y_true, y_pred):\n",
    "        return K.sqrt(K.mean(K.square(y_pred - y_true))) "
   ]
  },
  {
   "cell_type": "code",
   "execution_count": null,
   "id": "a9b56c41",
   "metadata": {
    "scrolled": true
   },
   "outputs": [],
   "source": [
    "model = Sequential()\n",
    "# model.add(Conv1D(32, 2, activation=\"relu\", input_shape=(537,1)))\n",
    "# model.add(Flatten())\n",
    "# model.add(Dense(1000, activation=\"relu\"))\n",
    "# model.add(Dense(500, activation=\"relu\"))\n",
    "model.add(Dense(124, activation=\"relu\"))\n",
    "model.add(Dense(64, activation=\"relu\"))\n",
    "model.add(Dense(32,activation=\"relu\"))\n",
    "model.add(Dense(1,activation = \"linear\"))\n",
    "model.compile(loss=root_mean_squared_error, optimizer=\"adam\",metrics=[\"mse\",root_mean_squared_error])\n",
    "early_stop = keras.callbacks.EarlyStopping(monitor=\"val_loss\",patience=15)\n",
    "history = model.fit(X_train, y_train,validation_split = 0.1,batch_size=7,epochs=7)#,callbacks=[early_stop])"
   ]
  },
  {
   "cell_type": "code",
   "execution_count": null,
   "id": "19ff1c40",
   "metadata": {},
   "outputs": [],
   "source": [
    "def plot_loss(history):\n",
    "    plt.plot(history.history['loss'], label='loss')\n",
    "    plt.plot(history.history['val_loss'], label='val_loss')\n",
    "    #plt.ylim([0, 10])\n",
    "    plt.xlabel('Epoch')\n",
    "    plt.ylabel('Error ')\n",
    "    plt.legend()\n",
    "    plt.grid(True)"
   ]
  },
  {
   "cell_type": "code",
   "execution_count": null,
   "id": "41d3d39f",
   "metadata": {},
   "outputs": [],
   "source": [
    "hist = pd.DataFrame(history.history)\n",
    "hist['epoch'] = history.epoch\n",
    "hist.tail()"
   ]
  },
  {
   "cell_type": "code",
   "execution_count": null,
   "id": "60e6b3b3",
   "metadata": {},
   "outputs": [],
   "source": [
    "hist = pd.DataFrame(history.history)\n",
    "hist['epoch'] = history.epoch\n",
    "hist.tail()"
   ]
  },
  {
   "cell_type": "code",
   "execution_count": null,
   "id": "48b70473",
   "metadata": {},
   "outputs": [],
   "source": [
    "plot_loss(history)"
   ]
  },
  {
   "cell_type": "code",
   "execution_count": null,
   "id": "7f323453",
   "metadata": {},
   "outputs": [],
   "source": [
    "y_pred_cnn = model.predict(X_test)"
   ]
  },
  {
   "cell_type": "code",
   "execution_count": null,
   "id": "5f3c18a1",
   "metadata": {},
   "outputs": [],
   "source": [
    "rmse(y_pred_cnn,y_pred)"
   ]
  },
  {
   "cell_type": "markdown",
   "id": "08250c91",
   "metadata": {},
   "source": [
    "### Bayesian neural network"
   ]
  },
  {
   "cell_type": "code",
   "execution_count": null,
   "id": "1c9cbff5",
   "metadata": {},
   "outputs": [],
   "source": [
    "import tensorflow as tf\n",
    "from tensorflow import keras\n",
    "from tensorflow.keras import layers\n",
    "import tensorflow_probability as tfp\n",
    "import tensorflow_datasets as tfds"
   ]
  },
  {
   "cell_type": "code",
   "execution_count": null,
   "id": "40a69976",
   "metadata": {},
   "outputs": [],
   "source": [
    "hidden_units = [18, 9, 3]\n",
    "learning_rate = 0.001"
   ]
  },
  {
   "cell_type": "code",
   "execution_count": null,
   "id": "bfd83210",
   "metadata": {},
   "outputs": [],
   "source": [
    "##### Méthode 1"
   ]
  },
  {
   "cell_type": "code",
   "execution_count": null,
   "id": "7a9b3dc2",
   "metadata": {},
   "outputs": [],
   "source": [
    "train_dataset = tf.data.Dataset.from_tensor_slices((dict(pd.DataFrame(data=X_train,columns=X.columns.astype(str))), y_train))\n",
    "test_dataset = tf.data.Dataset.from_tensor_slices((dict(pd.DataFrame(data=X_test,columns=X.columns.astype(str))), y_test))"
   ]
  },
  {
   "cell_type": "code",
   "execution_count": null,
   "id": "a4c110a9",
   "metadata": {},
   "outputs": [],
   "source": [
    "train_dataset.element_spec"
   ]
  },
  {
   "cell_type": "code",
   "execution_count": null,
   "id": "2cf63aba",
   "metadata": {},
   "outputs": [],
   "source": [
    "BATCH_SIZE = 64\n",
    "SHUFFLE_BUFFER_SIZE = 100\n",
    "\n",
    "train_dataset = train_dataset.shuffle(SHUFFLE_BUFFER_SIZE).batch(BATCH_SIZE)\n",
    "test_dataset = test_dataset.batch(BATCH_SIZE)"
   ]
  },
  {
   "cell_type": "code",
   "execution_count": null,
   "id": "b445e946",
   "metadata": {},
   "outputs": [],
   "source": [
    "def run_experiment(model, loss, train_dataset, test_dataset):\n",
    "\n",
    "    model.compile(\n",
    "        optimizer=keras.optimizers.RMSprop(learning_rate=learning_rate),\n",
    "        loss=loss,\n",
    "        metrics=[keras.metrics.RootMeanSquaredError()],\n",
    "    )\n",
    "\n",
    "    print(\"Start training the model...\")\n",
    "    model.fit(train_dataset, epochs=num_epochs, validation_data=test_dataset)\n",
    "    print(\"Model training finished.\")\n",
    "    _, rmse = model.evaluate(train_dataset, verbose=0)\n",
    "    print(f\"Train RMSE: {round(rmse, 3)}\")\n",
    "\n",
    "    print(\"Evaluating model performance...\")\n",
    "    _, rmse = model.evaluate(test_dataset, verbose=0)\n",
    "    print(f\"Test RMSE: {round(rmse, 3)}\")"
   ]
  },
  {
   "cell_type": "code",
   "execution_count": null,
   "id": "ea735f09",
   "metadata": {},
   "outputs": [],
   "source": [
    "def create_model_inputs(FEATURE_NAMES):\n",
    "    inputs = {}\n",
    "    for feature_name in FEATURE_NAMES:\n",
    "#         if type(column[0]) == str:\n",
    "#             dtype = tf.string\n",
    "#         elif (name in categorical_feature_names or \\\n",
    "#             name in binary_feature_names):\n",
    "#             dtype = tf.int64\n",
    "#         else:\n",
    "#             dtype = tf.float32\n",
    "        inputs[feature_name] = layers.Input(\n",
    "            name=feature_name, shape=(1,), dtype=tf.float32\n",
    "        )\n",
    "    return inputs"
   ]
  },
  {
   "cell_type": "code",
   "execution_count": null,
   "id": "90b031d7",
   "metadata": {},
   "outputs": [],
   "source": [
    "def create_baseline_model(Feature):\n",
    "    inputs = create_model_inputs(Feature)\n",
    "    input_values = [value for _, value in inputs.items()]\n",
    "    features = keras.layers.concatenate(input_values)\n",
    "    #features = layers.BatchNormalization()(inputs)\n",
    "\n",
    "    # Create hidden layers with deterministic weights using the Dense layer.\n",
    "    for units in hidden_units:\n",
    "        features = layers.Dense(units, activation=\"sigmoid\")(features)\n",
    "    # The output is deterministic: a single point estimate.\n",
    "    outputs = layers.Dense(units=1)(features)\n",
    "\n",
    "    model = keras.Model(inputs=inputs, outputs=outputs)\n",
    "    return model"
   ]
  },
  {
   "cell_type": "code",
   "execution_count": null,
   "id": "133b7346",
   "metadata": {},
   "outputs": [],
   "source": [
    "X_train.shape"
   ]
  },
  {
   "cell_type": "code",
   "execution_count": null,
   "id": "dbb31a3a",
   "metadata": {},
   "outputs": [],
   "source": [
    "num_epochs = 100\n",
    "mse_loss = keras.losses.MeanSquaredError()\n",
    "baseline_model = create_baseline_model(X.columns.astype(str))\n",
    "run_experiment(baseline_model, mse_loss, train_dataset, test_dataset)"
   ]
  },
  {
   "cell_type": "code",
   "execution_count": null,
   "id": "ec591027",
   "metadata": {},
   "outputs": [],
   "source": []
  },
  {
   "cell_type": "markdown",
   "id": "476f12f7",
   "metadata": {},
   "source": [
    "## Submission"
   ]
  },
  {
   "cell_type": "code",
   "execution_count": null,
   "id": "2d03ec2f",
   "metadata": {},
   "outputs": [],
   "source": [
    "X_submit = df_test.drop([\"id\",\"Molecule\",\"Molecule_formula\"],axis=1)"
   ]
  },
  {
   "cell_type": "code",
   "execution_count": null,
   "id": "fa94f9fe",
   "metadata": {},
   "outputs": [],
   "source": [
    "X_submit_ = scaler.transform(X_submit.values)"
   ]
  },
  {
   "cell_type": "code",
   "execution_count": null,
   "id": "70949e10",
   "metadata": {},
   "outputs": [],
   "source": [
    "X_submit_.shape"
   ]
  },
  {
   "cell_type": "code",
   "execution_count": null,
   "id": "4ea75b67",
   "metadata": {},
   "outputs": [],
   "source": [
    "predicted = ridge.predict(X_submit_)"
   ]
  },
  {
   "cell_type": "code",
   "execution_count": null,
   "id": "bd4bc92e",
   "metadata": {},
   "outputs": [],
   "source": [
    "df_pred = pd.DataFrame({\"id\":df_test[\"id\"].values,\"predicted\":predicted})"
   ]
  },
  {
   "cell_type": "code",
   "execution_count": null,
   "id": "f483b2f3",
   "metadata": {},
   "outputs": [],
   "source": [
    "# df_pred = pd.DataFrame({\"id\":df_test[\"id\"].values,\"energy\":predicted})\n",
    "# dq = pd.read_csv(\"test.csv\",sep=\",\")\n",
    "# l_id = dq[\"id\"].astype(str).values"
   ]
  },
  {
   "cell_type": "code",
   "execution_count": null,
   "id": "ad0f65d2",
   "metadata": {},
   "outputs": [],
   "source": [
    "#l_id = dq[\"id\"].astype(str).values"
   ]
  },
  {
   "cell_type": "code",
   "execution_count": null,
   "id": "a0e317cd",
   "metadata": {},
   "outputs": [],
   "source": [
    "df_pred.to_csv(\"sub1.csv\",header=True,encoding=\"utf-8-sig\",sep=\",\",index=False)"
   ]
  },
  {
   "cell_type": "code",
   "execution_count": null,
   "id": "3708abc6",
   "metadata": {},
   "outputs": [],
   "source": []
  }
 ],
 "metadata": {
  "kernelspec": {
   "display_name": "Python 3",
   "language": "python",
   "name": "python3"
  },
  "language_info": {
   "codemirror_mode": {
    "name": "ipython",
    "version": 3
   },
   "file_extension": ".py",
   "mimetype": "text/x-python",
   "name": "python",
   "nbconvert_exporter": "python",
   "pygments_lexer": "ipython3",
   "version": "3.9.7"
  }
 },
 "nbformat": 4,
 "nbformat_minor": 5
}
