{
  "cells": [
    {
      "cell_type": "code",
      "execution_count": null,
      "metadata": {
        "id": "xoqrIYntTNqB"
      },
      "outputs": [],
      "source": [
        "import numpy as np\n",
        "import torch\n",
        "import time\n",
        "import os\n",
        "from scipy.spatial.distance import pdist"
      ]
    },
    {
      "cell_type": "code",
      "execution_count": null,
      "metadata": {
        "id": "cxxRdhyPTNqK"
      },
      "outputs": [],
      "source": [
        "!pip install kymatio\n",
        "from kymatio.torch import HarmonicScattering3D"
      ]
    },
    {
      "cell_type": "code",
      "execution_count": null,
      "metadata": {
        "id": "E-j0p9vWTNqM"
      },
      "outputs": [],
      "source": [
        "from kymatio.scattering3d.utils \\\n",
        "import generate_weighted_sum_of_gaussians\n",
        "\n",
        "from kymatio.scattering3d.backend.torch_backend \\\n",
        "    import compute_integrals"
      ]
    },
    {
      "cell_type": "code",
      "execution_count": null,
      "metadata": {
        "id": "uaihBQJ1TNqO"
      },
      "outputs": [],
      "source": [
        "from kymatio.datasets import fetch_qm7\n",
        "from kymatio.caching import get_cache_dir"
      ]
    },
    {
      "cell_type": "code",
      "source": [
        "from google.colab import drive\n",
        "drive.mount('/content/drive')"
      ],
      "metadata": {
        "id": "vSGEvsqKaiuD"
      },
      "execution_count": null,
      "outputs": []
    },
    {
      "cell_type": "code",
      "execution_count": null,
      "metadata": {
        "id": "jH5zyM0WTNqP"
      },
      "outputs": [],
      "source": [
        "path = r\"drive/MyDrive/Data/\"\n",
        "pos = np.load(path + 'pos.npy', allow_pickle=True) # change to test_pos for data to submit\n",
        "full_charges = np.load(path + 'charges.npy', allow_pickle=True) # change to test_charges for data to submit\n",
        "  \n",
        "\n",
        "n_molecules = pos.shape[0]\n",
        "n_molecules"
      ]
    },
    {
      "cell_type": "code",
      "execution_count": null,
      "metadata": {
        "id": "Qxo0tklrTNqR"
      },
      "outputs": [],
      "source": [
        "mask = full_charges <= 2\n",
        "valence_charges = full_charges * mask\n",
        "\n",
        "mask = np.logical_and(full_charges > 2, full_charges <= 10)\n",
        "valence_charges += (full_charges - 2) * mask\n",
        "\n",
        "mask = np.logical_and(full_charges > 10, full_charges <= 18)\n",
        "valence_charges += (full_charges - 10) * mask"
      ]
    },
    {
      "cell_type": "code",
      "execution_count": null,
      "metadata": {
        "id": "otfI3UH6TNqT"
      },
      "outputs": [],
      "source": [
        "overlapping_precision = 1e-1\n",
        "sigma = 2.0\n",
        "min_dist = np.inf\n",
        "\n",
        "for i in range(n_molecules):\n",
        "    n_atoms = np.sum(full_charges[i] != 0)\n",
        "    pos_i = pos[i, :n_atoms, :]\n",
        "    min_dist = min(min_dist, pdist(pos_i).min())\n",
        "\n",
        "delta = sigma * np.sqrt(-8 * np.log(overlapping_precision))\n",
        "pos = pos * delta / min_dist\n",
        "pos.shape"
      ]
    },
    {
      "cell_type": "code",
      "execution_count": null,
      "metadata": {
        "id": "kvxRKjgdTNqV"
      },
      "outputs": [],
      "source": [
        "M, N, O = 192, 128, 96\n",
        "\n",
        "grid = np.mgrid[-M//2:-M//2+M, -N//2:-N//2+N, -O//2:-O//2+O]\n",
        "grid = np.fft.ifftshift(grid)"
      ]
    },
    {
      "cell_type": "code",
      "execution_count": null,
      "metadata": {
        "id": "E2TbWO8vTNqW"
      },
      "outputs": [],
      "source": [
        "J = 2\n",
        "L = 3\n",
        "integral_powers = [0.5, 1.0, 2.0, 3.0]\n",
        "\n",
        "scattering = HarmonicScattering3D(J=J, shape=(M, N, O),\n",
        "                                  L=L, sigma_0=sigma,\n",
        "                                  integral_powers=integral_powers)"
      ]
    },
    {
      "cell_type": "code",
      "execution_count": null,
      "metadata": {
        "id": "iRis-sb3TNqX"
      },
      "outputs": [],
      "source": [
        "if torch.cuda.is_available():\n",
        "    device = 'cuda'\n",
        "else:\n",
        "    device = 'cpu'\n",
        "\n",
        "scattering.to(device)"
      ]
    },
    {
      "cell_type": "code",
      "execution_count": null,
      "metadata": {
        "id": "iXwpCzZCTNqY"
      },
      "outputs": [],
      "source": [
        "batch_size = 16\n",
        "n_batches = int(np.ceil(n_molecules / batch_size))\n",
        "n_batches"
      ]
    },
    {
      "cell_type": "code",
      "execution_count": null,
      "metadata": {
        "id": "E7Hc2LPRTNqZ"
      },
      "outputs": [],
      "source": [
        "order_0, orders_1_and_2 = [], []\n",
        "print('Computing solid harmonic scattering coefficients of '\n",
        "      '{} molecules from the QM7 database on {}'.format(\n",
        "        n_molecules, {'cuda': 'GPU', 'cpu': 'CPU'}[device]))\n",
        "print('sigma: {}, L: {}, J: {}, integral powers: {}'.format(\n",
        "        sigma, L, J, integral_powers))\n",
        "\n",
        "this_time = None\n",
        "last_time = None\n",
        "for i in range(n_batches):\n",
        "    this_time = time.time()\n",
        "    if last_time is not None:\n",
        "        dt = this_time - last_time\n",
        "        print(\"Iteration {} ETA: [{:02}:{:02}:{:02}]\".format(\n",
        "                    i + 1, int(((n_batches - i - 1) * dt) // 3600),\n",
        "                    int((((n_batches - i - 1) * dt) // 60) % 60),\n",
        "                    int(((n_batches - i - 1) * dt) % 60)))\n",
        "    else:\n",
        "        print(\"Iteration {} ETA: {}\".format(i + 1, '-'))\n",
        "    last_time = this_time\n",
        "    time.sleep(1)\n",
        "\n",
        "    # Extract the current batch.\n",
        "    start = i * batch_size\n",
        "    end = min(start + batch_size, n_molecules)\n",
        "\n",
        "    pos_batch = pos[start:end]\n",
        "    full_batch = full_charges[start:end]\n",
        "    val_batch = valence_charges[start:end]\n",
        "\n",
        "    # Calculate the density map for the nuclear charges and transfer\n",
        "    # to PyTorch.\n",
        "    full_density_batch = generate_weighted_sum_of_gaussians(grid,\n",
        "            pos_batch, full_batch, sigma)\n",
        "    full_density_batch = torch.from_numpy(full_density_batch)\n",
        "    full_density_batch = full_density_batch.to(device).float()\n",
        "\n",
        "    # Compute zeroth-order, first-order, and second-order scattering\n",
        "    # coefficients of the nuclear charges.\n",
        "    full_order_0 = compute_integrals(full_density_batch,\n",
        "                                     integral_powers)\n",
        "    full_scattering = scattering(full_density_batch)\n",
        "\n",
        "    # Compute the map for valence charges.\n",
        "    val_density_batch = generate_weighted_sum_of_gaussians(grid,\n",
        "            pos_batch, val_batch, sigma)\n",
        "    val_density_batch = torch.from_numpy(val_density_batch)\n",
        "    val_density_batch = val_density_batch.to(device).float()\n",
        "\n",
        "    # Compute scattering coefficients for the valence charges.\n",
        "    val_order_0 = compute_integrals(val_density_batch,\n",
        "                                    integral_powers)\n",
        "    val_scattering = scattering(val_density_batch)\n",
        "\n",
        "    # Take the difference between nuclear and valence charges, then\n",
        "    # compute the corresponding scattering coefficients.\n",
        "    core_density_batch = full_density_batch - val_density_batch\n",
        "\n",
        "    core_order_0 = compute_integrals(core_density_batch,\n",
        "                                     integral_powers)\n",
        "    core_scattering = scattering(core_density_batch)\n",
        "\n",
        "    # Stack the nuclear, valence, and core coefficients into arrays\n",
        "    # and append them to the output.\n",
        "    batch_order_0 = torch.stack(\n",
        "        (full_order_0, val_order_0, core_order_0), dim=-1)\n",
        "    batch_orders_1_and_2 = torch.stack(\n",
        "        (full_scattering, val_scattering, core_scattering), dim=-1)\n",
        "\n",
        "    order_0.append(batch_order_0)\n",
        "    orders_1_and_2.append(batch_orders_1_and_2)"
      ]
    },
    {
      "cell_type": "code",
      "source": [
        "order_0 = torch.cat(order_0, dim=0)\n",
        "orders_1_and_2 = torch.cat(orders_1_and_2, dim=0)\n",
        "\n",
        "order_0 = order_0.cpu().numpy()\n",
        "orders_1_and_2 = orders_1_and_2.cpu().numpy()"
      ],
      "metadata": {
        "id": "OKf_3TZfnZKm"
      },
      "execution_count": null,
      "outputs": []
    },
    {
      "cell_type": "code",
      "source": [
        "order_0.shape"
      ],
      "metadata": {
        "id": "HxYsZoZwHcCm"
      },
      "execution_count": null,
      "outputs": []
    },
    {
      "cell_type": "code",
      "source": [
        "order_0 = order_0.reshape((n_molecules, -1))\n",
        "orders_1_and_2 = orders_1_and_2.reshape((n_molecules, -1))"
      ],
      "metadata": {
        "id": "OsXesa3xnbQg"
      },
      "execution_count": null,
      "outputs": []
    },
    {
      "cell_type": "code",
      "source": [
        "basename = 'qm7_L_{}_J_{}_sigma_{}_MNO_{}_powers_{}.npy'.format(\n",
        "        L, J, sigma, (M, N, O), integral_powers)\n",
        "\n",
        "cache_dir = get_cache_dir(\"qm7/experiments\")\n",
        "\n",
        "filename = os.path.join(cache_dir, 'order_0_' + basename)\n",
        "np.save(filename, order_0)\n",
        "\n",
        "filename = os.path.join(cache_dir, 'orders_1_and_2' + basename)\n",
        "np.save(filename, orders_1_and_2)"
      ],
      "metadata": {
        "id": "xWG7mrT4ndK8"
      },
      "execution_count": null,
      "outputs": []
    },
    {
      "cell_type": "code",
      "source": [
        "order_0.shape"
      ],
      "metadata": {
        "id": "3QmsRz8hHhHh"
      },
      "execution_count": null,
      "outputs": []
    },
    {
      "cell_type": "code",
      "source": [
        "orders_1_and_2.shape"
      ],
      "metadata": {
        "id": "651Ek5MDHl6R"
      },
      "execution_count": null,
      "outputs": []
    },
    {
      "cell_type": "code",
      "source": [
        "scattering_coef = np.concatenate([order_0, orders_1_and_2], axis=1)\n",
        "scattering_coef.shape"
      ],
      "metadata": {
        "id": "IZoizGf5nfhg"
      },
      "execution_count": null,
      "outputs": []
    },
    {
      "cell_type": "code",
      "source": [
        "import pandas as pd\n",
        "pd.DataFrame(scattering_coef).to_csv('drive/MyDrive/Data/scattering_coef.csv', index=False, header=False, sep=',') # add test to the name for submit data"
      ],
      "metadata": {
        "id": "X3Oplw2A9yFH"
      },
      "execution_count": null,
      "outputs": []
    }
  ],
  "metadata": {
    "interpreter": {
      "hash": "243fb3972ba66915655a32b1829b5efc0377805cd68c209f3aa3e437a87735c1"
    },
    "kernelspec": {
      "display_name": "Python 3.8.13 ('kgl')",
      "language": "python",
      "name": "python3"
    },
    "language_info": {
      "codemirror_mode": {
        "name": "ipython",
        "version": 3
      },
      "file_extension": ".py",
      "mimetype": "text/x-python",
      "name": "python",
      "nbconvert_exporter": "python",
      "pygments_lexer": "ipython3",
      "version": "3.8.13"
    },
    "orig_nbformat": 4,
    "colab": {
      "name": "test_script3.ipynb",
      "provenance": [],
      "collapsed_sections": []
    },
    "accelerator": "GPU",
    "gpuClass": "standard"
  },
  "nbformat": 4,
  "nbformat_minor": 0
}