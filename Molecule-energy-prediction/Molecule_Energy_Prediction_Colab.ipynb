{
 "cells": [
  {
   "cell_type": "markdown",
   "id": "ab4221d9",
   "metadata": {
    "id": "ab4221d9"
   },
   "source": [
    "# Prediction de l'energie des molécules colab version\n"
   ]
  },
  {
   "cell_type": "markdown",
   "id": "a2a5f9eb",
   "metadata": {
    "id": "a2a5f9eb"
   },
   "source": [
    "#### imporation des librairies"
   ]
  },
  {
   "cell_type": "code",
   "execution_count": null,
   "id": "DzIsnVC-_L6y",
   "metadata": {
    "id": "DzIsnVC-_L6y"
   },
   "outputs": [],
   "source": [
    "import pandas as pd\n",
    "import numpy as np\n",
    "from sklearn.preprocessing import StandardScaler\n",
    "from sklearn import preprocessing\n",
    "from sklearn.model_selection import train_test_split\n",
    "import plotly.express as px\n",
    "import tensorflow.keras.backend as K"
   ]
  },
  {
   "cell_type": "code",
   "execution_count": null,
   "id": "WUey9UEADb-Q",
   "metadata": {
    "colab": {
     "base_uri": "https://localhost:8080/"
    },
    "id": "WUey9UEADb-Q",
    "outputId": "d7c6a292-db3e-40e6-b24f-4931871ad042"
   },
   "outputs": [
    {
     "name": "stdout",
     "output_type": "stream",
     "text": [
      "Mounted at /content/drive\n"
     ]
    }
   ],
   "source": [
    "from google.colab import drive\n",
    "drive.mount('/content/drive')"
   ]
  },
  {
   "cell_type": "markdown",
   "id": "9db36a26",
   "metadata": {
    "id": "9db36a26"
   },
   "source": [
    "#### Définition de la métrique d'évaluation."
   ]
  },
  {
   "cell_type": "code",
   "execution_count": null,
   "id": "17a46394",
   "metadata": {
    "id": "17a46394"
   },
   "outputs": [],
   "source": [
    "def rmse(predictions, targets):\n",
    "    return np.sqrt(((predictions - targets) ** 2).mean())\n",
    "\n",
    "def root_mean_squared_error(y_true, y_pred):\n",
    "        return K.sqrt(K.mean(K.square(y_pred - y_true))) \n",
    "          "
   ]
  },
  {
   "cell_type": "markdown",
   "id": "ef38bb4a",
   "metadata": {
    "id": "ef38bb4a"
   },
   "source": [
    "#### Création d'un jeu de données d'entrainement et de test  / Scaling."
   ]
  },
  {
   "cell_type": "code",
   "execution_count": null,
   "id": "ImzZtiDXECUn",
   "metadata": {
    "id": "ImzZtiDXECUn"
   },
   "outputs": [],
   "source": [
    "path=\"./drive/MyDrive/kaggle_energy_molecule/\""
   ]
  },
  {
   "cell_type": "code",
   "execution_count": null,
   "id": "16ab6a5b",
   "metadata": {
    "id": "16ab6a5b"
   },
   "outputs": [],
   "source": [
    "df_train = pd.read_csv(path+\"process_data_mbtr.csv\",sep=\";\")"
   ]
  },
  {
   "cell_type": "code",
   "execution_count": null,
   "id": "5751a4a9",
   "metadata": {
    "id": "5751a4a9"
   },
   "outputs": [],
   "source": [
    "Y = df_train[\"energy\"].values"
   ]
  },
  {
   "cell_type": "code",
   "execution_count": null,
   "id": "22b1d517",
   "metadata": {
    "id": "22b1d517"
   },
   "outputs": [],
   "source": [
    "to_drop = [\"id\",\"Molecule\",\"Molecule_formula\",\"energy\"]"
   ]
  },
  {
   "cell_type": "code",
   "execution_count": null,
   "id": "a78240e9",
   "metadata": {
    "id": "a78240e9"
   },
   "outputs": [],
   "source": [
    "X = df_train.drop(to_drop,axis=1)"
   ]
  },
  {
   "cell_type": "code",
   "execution_count": null,
   "id": "xXkA-Q9nQfAa",
   "metadata": {
    "colab": {
     "base_uri": "https://localhost:8080/"
    },
    "id": "xXkA-Q9nQfAa",
    "outputId": "321e702b-796e-41ac-cb24-b4fd89ae1c75"
   },
   "outputs": [
    {
     "data": {
      "text/plain": [
       "(6770, 773)"
      ]
     },
     "execution_count": 9,
     "metadata": {},
     "output_type": "execute_result"
    }
   ],
   "source": [
    "X.shape"
   ]
  },
  {
   "cell_type": "code",
   "execution_count": null,
   "id": "U1J0xC5_5EAO",
   "metadata": {
    "colab": {
     "base_uri": "https://localhost:8080/"
    },
    "id": "U1J0xC5_5EAO",
    "outputId": "83ee53e2-1023-4db9-f8dc-8c07a10858b1"
   },
   "outputs": [
    {
     "data": {
      "text/plain": [
       "(6770, 777)"
      ]
     },
     "execution_count": 10,
     "metadata": {},
     "output_type": "execute_result"
    }
   ],
   "source": [
    "df_train.shape"
   ]
  },
  {
   "cell_type": "markdown",
   "id": "69f7b535",
   "metadata": {
    "id": "69f7b535"
   },
   "source": [
    "### CNN"
   ]
  },
  {
   "cell_type": "code",
   "execution_count": null,
   "id": "66e2f446",
   "metadata": {
    "id": "66e2f446"
   },
   "outputs": [],
   "source": [
    "import tensorflow as tf\n",
    "from tensorflow import keras\n",
    "from tensorflow.keras import layers\n",
    "import matplotlib.pyplot as plt\n",
    "from tensorflow.keras import optimizers\n",
    "# Librairies et fonctions nécessaires au design des réseaux de neurones\n",
    "import keras\n",
    "from keras import layers\n",
    "from keras import models\n",
    "from keras.layers import Dense,Conv1D,Conv2D, MaxPooling1D, Flatten, Activation,Dropout\n",
    "from keras.models import Model, Sequential\n",
    "from keras.callbacks import EarlyStopping, ModelCheckpoint, ReduceLROnPlateau\n",
    "from tensorflow.keras import regularizers"
   ]
  },
  {
   "cell_type": "code",
   "execution_count": null,
   "id": "b8d8e378",
   "metadata": {
    "colab": {
     "base_uri": "https://localhost:8080/"
    },
    "id": "b8d8e378",
    "outputId": "96254f1b-c2c4-4534-b01d-936cc663a74b"
   },
   "outputs": [
    {
     "data": {
      "text/plain": [
       "MinMaxScaler()"
      ]
     },
     "execution_count": 24,
     "metadata": {},
     "output_type": "execute_result"
    }
   ],
   "source": [
    "scaler_MinMax = preprocessing.MinMaxScaler()#QuantileTransformer(output_distribution=\"normal\",random_state=0)\n",
    "scaler_MinMax.fit(X.values)"
   ]
  },
  {
   "cell_type": "code",
   "execution_count": null,
   "id": "2f549126",
   "metadata": {
    "id": "2f549126"
   },
   "outputs": [],
   "source": [
    "X_cnn = X.values#scaler_MinMax.transform(X.values)#"
   ]
  },
  {
   "cell_type": "code",
   "execution_count": null,
   "id": "0f83c926",
   "metadata": {
    "id": "0f83c926"
   },
   "outputs": [],
   "source": [
    "type_reseau = \"conv\"\n",
    "if type_reseau == \"conv\" :\n",
    "  X_cnn = X_cnn.reshape(X_cnn.shape[0],X_cnn.shape[1],1)"
   ]
  },
  {
   "cell_type": "code",
   "execution_count": null,
   "id": "7bbgI5HB6e6K",
   "metadata": {
    "colab": {
     "base_uri": "https://localhost:8080/"
    },
    "id": "7bbgI5HB6e6K",
    "outputId": "9687059b-2d64-4834-98eb-872fb02e225c"
   },
   "outputs": [
    {
     "data": {
      "text/plain": [
       "(6770, 773, 1)"
      ]
     },
     "execution_count": 20,
     "metadata": {},
     "output_type": "execute_result"
    }
   ],
   "source": [
    "X_cnn.shape"
   ]
  },
  {
   "cell_type": "code",
   "execution_count": null,
   "id": "77a2c54d",
   "metadata": {
    "id": "77a2c54d"
   },
   "outputs": [],
   "source": [
    "X_train, X_test, y_train, y_test = train_test_split(\n",
    "...     X_cnn, Y, test_size=0.05, random_state=42)"
   ]
  },
  {
   "cell_type": "code",
   "execution_count": null,
   "id": "U0G920VuBtNr",
   "metadata": {
    "id": "U0G920VuBtNr"
   },
   "outputs": [],
   "source": [
    "def plot_loss(history):\n",
    "    plt.plot(history.history['loss'], label='loss')\n",
    "    plt.plot(history.history['val_loss'], label='val_loss')\n",
    "    #plt.ylim([0, 10])\n",
    "    plt.xlabel('Epoch')\n",
    "    plt.ylabel('Error ')\n",
    "    plt.legend()\n",
    "    plt.grid(True)"
   ]
  },
  {
   "cell_type": "code",
   "execution_count": null,
   "id": "a9b56c41",
   "metadata": {
    "id": "a9b56c41",
    "scrolled": true
   },
   "outputs": [],
   "source": [
    "\n",
    "model = Sequential()\n",
    "choose = \"v_4\" # choix possible : v_0 à v7\n",
    "if choose == \"v_4\" or choose==\"best\":\n",
    "  model.add(Conv1D(64, 3, activation=\"relu\", input_shape=(773, 1)))\n",
    "  model.add(Conv1D(128,3, activation=\"relu\"))\n",
    "  model.add(Conv1D(256,3, activation=\"relu\"))\n",
    "  model.add(Flatten())\n",
    "  model.add(Dense(500,activation=\"relu\"))\n",
    "elif choose == \"v_1\" :\n",
    "  model.add(Conv1D(32, 3, activation=\"relu\", input_shape=(773, 1)))\n",
    "  model.add(Conv1D(64, 3, activation=\"relu\"))\n",
    "  model.add(Conv1D(128,3, activation=\"relu\"))\n",
    "  model.add(Conv1D(256,3, activation=\"relu\"))\n",
    "  model.add(Flatten())\n",
    "  model.add(Dense(800,activation=\"relu\",kernel_regularizer=regularizers.l2(0.5)))\n",
    "elif choose ==\"v_2\" :\n",
    "  #model.add(Flatten())\n",
    "  model.add(Dense(3024, activation=\"elu\"))\n",
    "  model.add(Dense(1024, activation=\"elu\"))\n",
    "  model.add(Dense(800,activation=\"relu\"))\n",
    "  model.add(Dense(500,activation=\"relu\"))\n",
    "  model.add(Dense(124,activation=\"relu\"))\n",
    "elif choose ==\"v_3\" :Dropout(.2,\n",
    "  model.add(Dense(3024, activation=\"relu\"))\n",
    "  model.add(Dropout(0.1))\n",
    "  model.add(Dense(1024, activation=\"relu\"))\n",
    "  model.add(Dense(800,activation=\"relu\"))\n",
    "  model.add(Dense(500,activation=\"relu\"))\n",
    "  model.add(Dense(124,activation=\"relu\"))\n",
    "\n",
    "else :\n",
    "  raise Exception(\"Ce choix a été impléménté par sebastien\")\n",
    "\n",
    "\n",
    "\n",
    "\n",
    "model.add(Dense(1,activation = \"linear\")) #optimizer=\n",
    "mcp_save = ModelCheckpoint('fnn_2.hdf5', save_best_only=True, monitor='val_loss', mode='min')\n",
    "reduce_lr_loss = ReduceLROnPlateau(monitor='val_loss', factor=0.5, patience=100, verbose=1, mode='min')\n",
    "model.compile(loss=root_mean_squared_error,optimizer=optimizers.Adam(learning_rate=3e-4) ,metrics=[\"mse\",root_mean_squared_error])\n",
    "early_stop = keras.callbacks.EarlyStopping(monitor=\"val_loss\",patience=300)\n",
    "history = model.fit(X_train, y_train,validation_split = 0.05,callbacks = [ mcp_save, reduce_lr_loss,early_stop],batch_size=32,epochs=2500)#,callbacks=[early_stop])"
   ]
  },
  {
   "cell_type": "code",
   "execution_count": null,
   "id": "z_23swQcBzcz",
   "metadata": {
    "id": "z_23swQcBzcz"
   },
   "outputs": [],
   "source": []
  },
  {
   "cell_type": "code",
   "execution_count": null,
   "id": "-29yt7AqaLXs",
   "metadata": {
    "colab": {
     "base_uri": "https://localhost:8080/",
     "height": 34
    },
    "id": "-29yt7AqaLXs",
    "outputId": "75833371-7b11-4ee0-e905-db0a8bce2bbd"
   },
   "outputs": [
    {
     "data": {
      "application/javascript": [
       "\n",
       "    async function download(id, filename, size) {\n",
       "      if (!google.colab.kernel.accessAllowed) {\n",
       "        return;\n",
       "      }\n",
       "      const div = document.createElement('div');\n",
       "      const label = document.createElement('label');\n",
       "      label.textContent = `Downloading \"${filename}\": `;\n",
       "      div.appendChild(label);\n",
       "      const progress = document.createElement('progress');\n",
       "      progress.max = size;\n",
       "      div.appendChild(progress);\n",
       "      document.body.appendChild(div);\n",
       "\n",
       "      const buffers = [];\n",
       "      let downloaded = 0;\n",
       "\n",
       "      const channel = await google.colab.kernel.comms.open(id);\n",
       "      // Send a message to notify the kernel that we're ready.\n",
       "      channel.send({})\n",
       "\n",
       "      for await (const message of channel.messages) {\n",
       "        // Send a message to notify the kernel that we're ready.\n",
       "        channel.send({})\n",
       "        if (message.buffers) {\n",
       "          for (const buffer of message.buffers) {\n",
       "            buffers.push(buffer);\n",
       "            downloaded += buffer.byteLength;\n",
       "            progress.value = downloaded;\n",
       "          }\n",
       "        }\n",
       "      }\n",
       "      const blob = new Blob(buffers, {type: 'application/binary'});\n",
       "      const a = document.createElement('a');\n",
       "      a.href = window.URL.createObjectURL(blob);\n",
       "      a.download = filename;\n",
       "      div.appendChild(a);\n",
       "      a.click();\n",
       "      div.remove();\n",
       "    }\n",
       "  "
      ],
      "text/plain": [
       "<IPython.core.display.Javascript object>"
      ]
     },
     "metadata": {},
     "output_type": "display_data"
    },
    {
     "data": {
      "application/javascript": [
       "download(\"download_a2efb7ac-d575-45c0-880f-7d605816afa4\", \"fnn_2.hdf5\", 1176665768)"
      ],
      "text/plain": [
       "<IPython.core.display.Javascript object>"
      ]
     },
     "metadata": {},
     "output_type": "display_data"
    }
   ],
   "source": [
    "from google.colab import files\n",
    "files.download('fnn_2.hdf5')"
   ]
  },
  {
   "cell_type": "code",
   "execution_count": null,
   "id": "UcXW1hnvhDCb",
   "metadata": {
    "id": "UcXW1hnvhDCb"
   },
   "outputs": [],
   "source": [
    "\n",
    "model.save('model.hdf5')"
   ]
  },
  {
   "cell_type": "code",
   "execution_count": null,
   "id": "CJFbnTSC35Jw",
   "metadata": {
    "colab": {
     "base_uri": "https://localhost:8080/",
     "height": 34
    },
    "id": "CJFbnTSC35Jw",
    "outputId": "9b9c7590-4608-479a-cec2-2232c9a49ad6"
   },
   "outputs": [
    {
     "data": {
      "application/javascript": [
       "\n",
       "    async function download(id, filename, size) {\n",
       "      if (!google.colab.kernel.accessAllowed) {\n",
       "        return;\n",
       "      }\n",
       "      const div = document.createElement('div');\n",
       "      const label = document.createElement('label');\n",
       "      label.textContent = `Downloading \"${filename}\": `;\n",
       "      div.appendChild(label);\n",
       "      const progress = document.createElement('progress');\n",
       "      progress.max = size;\n",
       "      div.appendChild(progress);\n",
       "      document.body.appendChild(div);\n",
       "\n",
       "      const buffers = [];\n",
       "      let downloaded = 0;\n",
       "\n",
       "      const channel = await google.colab.kernel.comms.open(id);\n",
       "      // Send a message to notify the kernel that we're ready.\n",
       "      channel.send({})\n",
       "\n",
       "      for await (const message of channel.messages) {\n",
       "        // Send a message to notify the kernel that we're ready.\n",
       "        channel.send({})\n",
       "        if (message.buffers) {\n",
       "          for (const buffer of message.buffers) {\n",
       "            buffers.push(buffer);\n",
       "            downloaded += buffer.byteLength;\n",
       "            progress.value = downloaded;\n",
       "          }\n",
       "        }\n",
       "      }\n",
       "      const blob = new Blob(buffers, {type: 'application/binary'});\n",
       "      const a = document.createElement('a');\n",
       "      a.href = window.URL.createObjectURL(blob);\n",
       "      a.download = filename;\n",
       "      div.appendChild(a);\n",
       "      a.click();\n",
       "      div.remove();\n",
       "    }\n",
       "  "
      ],
      "text/plain": [
       "<IPython.core.display.Javascript object>"
      ]
     },
     "metadata": {},
     "output_type": "display_data"
    },
    {
     "data": {
      "application/javascript": [
       "download(\"download_31e880a5-5411-4276-bd67-2d8d55de7987\", \"model.hdf5\", 1176665768)"
      ],
      "text/plain": [
       "<IPython.core.display.Javascript object>"
      ]
     },
     "metadata": {},
     "output_type": "display_data"
    }
   ],
   "source": [
    "files.download('model.hdf5')"
   ]
  },
  {
   "cell_type": "code",
   "execution_count": null,
   "id": "60e6b3b3",
   "metadata": {
    "colab": {
     "base_uri": "https://localhost:8080/",
     "height": 206
    },
    "id": "60e6b3b3",
    "outputId": "5eb5c0f0-7056-4f57-c34c-fbaf54be428e"
   },
   "outputs": [
    {
     "data": {
      "text/html": [
       "\n",
       "  <div id=\"df-539a1ebc-1f88-4516-ae34-9b8c6e3909c2\">\n",
       "    <div class=\"colab-df-container\">\n",
       "      <div>\n",
       "<style scoped>\n",
       "    .dataframe tbody tr th:only-of-type {\n",
       "        vertical-align: middle;\n",
       "    }\n",
       "\n",
       "    .dataframe tbody tr th {\n",
       "        vertical-align: top;\n",
       "    }\n",
       "\n",
       "    .dataframe thead th {\n",
       "        text-align: right;\n",
       "    }\n",
       "</style>\n",
       "<table border=\"1\" class=\"dataframe\">\n",
       "  <thead>\n",
       "    <tr style=\"text-align: right;\">\n",
       "      <th></th>\n",
       "      <th>loss</th>\n",
       "      <th>mse</th>\n",
       "      <th>root_mean_squared_error</th>\n",
       "      <th>val_loss</th>\n",
       "      <th>val_mse</th>\n",
       "      <th>val_root_mean_squared_error</th>\n",
       "      <th>lr</th>\n",
       "      <th>epoch</th>\n",
       "    </tr>\n",
       "  </thead>\n",
       "  <tbody>\n",
       "    <tr>\n",
       "      <th>2495</th>\n",
       "      <td>0.145602</td>\n",
       "      <td>0.015751</td>\n",
       "      <td>0.121244</td>\n",
       "      <td>0.190999</td>\n",
       "      <td>0.028003</td>\n",
       "      <td>0.160522</td>\n",
       "      <td>0.000075</td>\n",
       "      <td>2495</td>\n",
       "    </tr>\n",
       "    <tr>\n",
       "      <th>2496</th>\n",
       "      <td>0.146646</td>\n",
       "      <td>0.015834</td>\n",
       "      <td>0.122234</td>\n",
       "      <td>0.150149</td>\n",
       "      <td>0.016149</td>\n",
       "      <td>0.119029</td>\n",
       "      <td>0.000075</td>\n",
       "      <td>2496</td>\n",
       "    </tr>\n",
       "    <tr>\n",
       "      <th>2497</th>\n",
       "      <td>0.151667</td>\n",
       "      <td>0.017348</td>\n",
       "      <td>0.127433</td>\n",
       "      <td>0.161317</td>\n",
       "      <td>0.019049</td>\n",
       "      <td>0.131401</td>\n",
       "      <td>0.000075</td>\n",
       "      <td>2497</td>\n",
       "    </tr>\n",
       "    <tr>\n",
       "      <th>2498</th>\n",
       "      <td>0.145208</td>\n",
       "      <td>0.015503</td>\n",
       "      <td>0.120837</td>\n",
       "      <td>0.169937</td>\n",
       "      <td>0.021646</td>\n",
       "      <td>0.141084</td>\n",
       "      <td>0.000075</td>\n",
       "      <td>2498</td>\n",
       "    </tr>\n",
       "    <tr>\n",
       "      <th>2499</th>\n",
       "      <td>0.151718</td>\n",
       "      <td>0.017431</td>\n",
       "      <td>0.127402</td>\n",
       "      <td>0.155768</td>\n",
       "      <td>0.017617</td>\n",
       "      <td>0.125232</td>\n",
       "      <td>0.000075</td>\n",
       "      <td>2499</td>\n",
       "    </tr>\n",
       "  </tbody>\n",
       "</table>\n",
       "</div>\n",
       "      <button class=\"colab-df-convert\" onclick=\"convertToInteractive('df-539a1ebc-1f88-4516-ae34-9b8c6e3909c2')\"\n",
       "              title=\"Convert this dataframe to an interactive table.\"\n",
       "              style=\"display:none;\">\n",
       "        \n",
       "  <svg xmlns=\"http://www.w3.org/2000/svg\" height=\"24px\"viewBox=\"0 0 24 24\"\n",
       "       width=\"24px\">\n",
       "    <path d=\"M0 0h24v24H0V0z\" fill=\"none\"/>\n",
       "    <path d=\"M18.56 5.44l.94 2.06.94-2.06 2.06-.94-2.06-.94-.94-2.06-.94 2.06-2.06.94zm-11 1L8.5 8.5l.94-2.06 2.06-.94-2.06-.94L8.5 2.5l-.94 2.06-2.06.94zm10 10l.94 2.06.94-2.06 2.06-.94-2.06-.94-.94-2.06-.94 2.06-2.06.94z\"/><path d=\"M17.41 7.96l-1.37-1.37c-.4-.4-.92-.59-1.43-.59-.52 0-1.04.2-1.43.59L10.3 9.45l-7.72 7.72c-.78.78-.78 2.05 0 2.83L4 21.41c.39.39.9.59 1.41.59.51 0 1.02-.2 1.41-.59l7.78-7.78 2.81-2.81c.8-.78.8-2.07 0-2.86zM5.41 20L4 18.59l7.72-7.72 1.47 1.35L5.41 20z\"/>\n",
       "  </svg>\n",
       "      </button>\n",
       "      \n",
       "  <style>\n",
       "    .colab-df-container {\n",
       "      display:flex;\n",
       "      flex-wrap:wrap;\n",
       "      gap: 12px;\n",
       "    }\n",
       "\n",
       "    .colab-df-convert {\n",
       "      background-color: #E8F0FE;\n",
       "      border: none;\n",
       "      border-radius: 50%;\n",
       "      cursor: pointer;\n",
       "      display: none;\n",
       "      fill: #1967D2;\n",
       "      height: 32px;\n",
       "      padding: 0 0 0 0;\n",
       "      width: 32px;\n",
       "    }\n",
       "\n",
       "    .colab-df-convert:hover {\n",
       "      background-color: #E2EBFA;\n",
       "      box-shadow: 0px 1px 2px rgba(60, 64, 67, 0.3), 0px 1px 3px 1px rgba(60, 64, 67, 0.15);\n",
       "      fill: #174EA6;\n",
       "    }\n",
       "\n",
       "    [theme=dark] .colab-df-convert {\n",
       "      background-color: #3B4455;\n",
       "      fill: #D2E3FC;\n",
       "    }\n",
       "\n",
       "    [theme=dark] .colab-df-convert:hover {\n",
       "      background-color: #434B5C;\n",
       "      box-shadow: 0px 1px 3px 1px rgba(0, 0, 0, 0.15);\n",
       "      filter: drop-shadow(0px 1px 2px rgba(0, 0, 0, 0.3));\n",
       "      fill: #FFFFFF;\n",
       "    }\n",
       "  </style>\n",
       "\n",
       "      <script>\n",
       "        const buttonEl =\n",
       "          document.querySelector('#df-539a1ebc-1f88-4516-ae34-9b8c6e3909c2 button.colab-df-convert');\n",
       "        buttonEl.style.display =\n",
       "          google.colab.kernel.accessAllowed ? 'block' : 'none';\n",
       "\n",
       "        async function convertToInteractive(key) {\n",
       "          const element = document.querySelector('#df-539a1ebc-1f88-4516-ae34-9b8c6e3909c2');\n",
       "          const dataTable =\n",
       "            await google.colab.kernel.invokeFunction('convertToInteractive',\n",
       "                                                     [key], {});\n",
       "          if (!dataTable) return;\n",
       "\n",
       "          const docLinkHtml = 'Like what you see? Visit the ' +\n",
       "            '<a target=\"_blank\" href=https://colab.research.google.com/notebooks/data_table.ipynb>data table notebook</a>'\n",
       "            + ' to learn more about interactive tables.';\n",
       "          element.innerHTML = '';\n",
       "          dataTable['output_type'] = 'display_data';\n",
       "          await google.colab.output.renderOutput(dataTable, element);\n",
       "          const docLink = document.createElement('div');\n",
       "          docLink.innerHTML = docLinkHtml;\n",
       "          element.appendChild(docLink);\n",
       "        }\n",
       "      </script>\n",
       "    </div>\n",
       "  </div>\n",
       "  "
      ],
      "text/plain": [
       "          loss       mse  root_mean_squared_error  val_loss   val_mse  \\\n",
       "2495  0.145602  0.015751                 0.121244  0.190999  0.028003   \n",
       "2496  0.146646  0.015834                 0.122234  0.150149  0.016149   \n",
       "2497  0.151667  0.017348                 0.127433  0.161317  0.019049   \n",
       "2498  0.145208  0.015503                 0.120837  0.169937  0.021646   \n",
       "2499  0.151718  0.017431                 0.127402  0.155768  0.017617   \n",
       "\n",
       "      val_root_mean_squared_error        lr  epoch  \n",
       "2495                     0.160522  0.000075   2495  \n",
       "2496                     0.119029  0.000075   2496  \n",
       "2497                     0.131401  0.000075   2497  \n",
       "2498                     0.141084  0.000075   2498  \n",
       "2499                     0.125232  0.000075   2499  "
      ]
     },
     "execution_count": 29,
     "metadata": {},
     "output_type": "execute_result"
    }
   ],
   "source": [
    "hist = pd.DataFrame(history.history)\n",
    "hist['epoch'] = history.epoch\n",
    "hist.tail()"
   ]
  },
  {
   "cell_type": "code",
   "execution_count": null,
   "id": "48b70473",
   "metadata": {
    "colab": {
     "base_uri": "https://localhost:8080/",
     "height": 279
    },
    "id": "48b70473",
    "outputId": "d8d71883-f942-402c-ec70-b33658af9b87"
   },
   "outputs": [
    {
     "data": {
      "image/png": "[encoded data removed]",
      "text/plain": [
       "<Figure size 432x288 with 1 Axes>"
      ]
     },
     "metadata": {
      "needs_background": "light"
     },
     "output_type": "display_data"
    }
   ],
   "source": [
    "plot_loss(history)"
   ]
  },
  {
   "cell_type": "code",
   "execution_count": null,
   "id": "m_eW9l0WFksn",
   "metadata": {
    "id": "m_eW9l0WFksn"
   },
   "outputs": [],
   "source": [
    "modele = m_best"
   ]
  },
  {
   "cell_type": "code",
   "execution_count": null,
   "id": "XT1quf8KF5Am",
   "metadata": {
    "id": "XT1quf8KF5Am"
   },
   "outputs": [],
   "source": [
    "X_val, X_test_r, y_val, y_test_r = train_test_split(\n",
    "...     X_test, y_test, test_size=0.5, random_state=42)"
   ]
  },
  {
   "cell_type": "code",
   "execution_count": null,
   "id": "Cc-65NKQHcfE",
   "metadata": {
    "id": "Cc-65NKQHcfE"
   },
   "outputs": [],
   "source": [
    "m_best = tf.keras.models.load_model(\"fnn_2.hdf5\",custom_objects = {\"root_mean_squared_error\": root_mean_squared_error})"
   ]
  },
  {
   "cell_type": "code",
   "execution_count": null,
   "id": "gGGnWc-MF5Dh",
   "metadata": {
    "id": "gGGnWc-MF5Dh"
   },
   "outputs": [],
   "source": [
    "# Reprise d'entrainement.\n",
    "mcp_save = ModelCheckpoint('fnn_retrain.hdf5', save_best_only=True, monitor='val_loss', mode='min')\n",
    "reduce_lr_loss = ReduceLROnPlateau(monitor='val_loss', factor=0.5, patience=150, verbose=1, mode='min')\n",
    "early_stop = keras.callbacks.EarlyStopping(monitor=\"val_loss\",patience=300)\n",
    "history = m_best.fit(X_train, y_train,validation_data = (X_val,y_val),callbacks = [ mcp_save, reduce_lr_loss,early_stop],batch_size=1000,epochs=2500)"
   ]
  },
  {
   "cell_type": "markdown",
   "id": "476f12f7",
   "metadata": {
    "id": "476f12f7"
   },
   "source": [
    "## Submission"
   ]
  },
  {
   "cell_type": "code",
   "execution_count": null,
   "id": "7f323453",
   "metadata": {
    "id": "7f323453"
   },
   "outputs": [],
   "source": [
    "y_pred_nn = m_best.predict(X_test).flatten()"
   ]
  },
  {
   "cell_type": "code",
   "execution_count": null,
   "id": "5f3c18a1",
   "metadata": {
    "colab": {
     "base_uri": "https://localhost:8080/"
    },
    "id": "5f3c18a1",
    "outputId": "4d5f8239-e88b-4e46-a16e-e52eb5be0d21"
   },
   "outputs": [
    {
     "data": {
      "text/plain": [
       "0.0782587547312366"
      ]
     },
     "execution_count": 26,
     "metadata": {},
     "output_type": "execute_result"
    }
   ],
   "source": [
    "rmse(y_pred_nn,y_test)"
   ]
  },
  {
   "cell_type": "code",
   "execution_count": null,
   "id": "xL_-K9ShqJ1p",
   "metadata": {
    "colab": {
     "base_uri": "https://localhost:8080/",
     "height": 542
    },
    "id": "xL_-K9ShqJ1p",
    "outputId": "f04e59e0-4bb1-40ff-e944-fdf2eea58f47"
   },
   "outputs": [
    {
     "data": {
      "text/html": [
       "<html>\n",
       "<head><meta charset=\"utf-8\" /></head>\n",
       "<body>\n",
       "    <div>            <script src=\"https://cdnjs.cloudflare.com/ajax/libs/mathjax/2.7.5/MathJax.js?config=TeX-AMS-MML_SVG\"></script><script type=\"text/javascript\">if (window.MathJax) {MathJax.Hub.Config({SVG: {font: \"STIX-Web\"}});}</script>                <script type=\"text/javascript\">window.PlotlyConfig = {MathJaxConfig: 'local'};</script>\n",
       "        <script src=\"https://cdn.plot.ly/plotly-2.8.3.min.js\"></script>                <div id=\"4719f356-71dc-4f55-bec2-4cb0347ef2d3\" class=\"plotly-graph-div\" style=\"height:525px; width:100%;\"></div>            <script type=\"text/javascript\">                                    window.PLOTLYENV=window.PLOTLYENV || {};                                    if (document.getElementById(\"4719f356-71dc-4f55-bec2-4cb0347ef2d3\")) {                    Plotly.newPlot(                        \"4719f356-71dc-4f55-bec2-4cb0347ef2d3\",                        [{\"hovertemplate\":\"x=%{x}<br>y=%{y}<extra></extra>\",\"legendgroup\":\"\",\"marker\":{\"color\":\"#636efa\",\"symbol\":\"circle\"},\"mode\":\"markers\",\"name\":\"\",\"orientation\":\"v\",\"showlegend\":false,\"x\":[-97.07047271728516,-72.18843078613281,-76.79045867919922,-79.71319580078125,-40.10478973388672,-97.62020111083984,-67.0376968383789,-84.86305236816406,-90.84383392333984,-84.36695098876953,-69.91903686523438,-91.06412506103516,-84.8101577758789,-76.47113800048828,-89.71094512939453,-67.71161651611328,-75.01419830322266,-69.62545013427734,-97.01918029785156,-16.963529586791992,-54.87055587768555,-67.2806167602539,-77.764404296875,-59.923194885253906,-91.02085876464844,-83.470703125,-77.15948486328125,-75.03314208984375,-79.14578247070312,-91.12998962402344,-103.33765411376953,-96.6423568725586,-72.06815338134766,-90.8681411743164,-62.11103057861328,-90.0356216430664,-76.7916030883789,-79.12235260009766,-63.76021194458008,-76.6390609741211,-60.56918716430664,-66.09793853759766,-90.31939697265625,-90.84237670898438,-72.68363189697266,-66.974853515625,-84.49300384521484,-84.10259246826172,-91.01129150390625,-97.32793426513672,-69.39468383789062,-84.70172882080078,-97.03907775878906,-74.65726470947266,-74.96875762939453,-73.32301330566406,-76.7255859375,-71.81806945800781,-90.4542465209961,-96.62720489501953,-84.96358489990234,-66.92536163330078,-91.11039733886719,-69.79749298095703,-63.24931716918945,-69.27177429199219,-90.25604248046875,-97.03675079345703,-67.19801330566406,-69.23152160644531,-67.94385528564453,-76.37892150878906,-77.69818115234375,-75.99169158935547,-69.17267608642578,-83.93671417236328,-81.20034790039062,-91.66799926757812,-83.38577270507812,-40.871334075927734,-91.06432342529297,-103.29987335205078,-77.70064544677734,-74.5637435913086,-85.80325317382812,-61.87192916870117,-83.37438201904297,-66.66250610351562,-72.0584716796875,-69.6657943725586,-90.4272232055664,-77.66551971435547,-90.32286834716797,-84.95597076416016,-61.88407516479492,-64.23222351074219,-84.23368835449219,-69.48493957519531,-61.38563919067383,-61.08524703979492,-82.57903289794922,-69.47932434082031,-83.69387817382812,-73.53294372558594,-60.81709671020508,-90.11115264892578,-68.10926818847656,-79.03370666503906,-81.30762481689453,-73.08856201171875,-61.785091400146484,-66.15887451171875,-78.91211700439453,-90.81038665771484,-66.17096710205078,-75.903076171875,-55.38687515258789,-85.03299713134766,-73.4742660522461,-90.33283233642578,-84.57107543945312,-68.53942108154297,-74.47532653808594,-74.55852508544922,-84.55508422851562,-92.10028076171875,-61.5554313659668,-97.14644622802734,-63.81105422973633,-83.45133972167969,-76.90410614013672,-63.64909744262695,-82.67594146728516,-61.47916793823242,-83.91144561767578,-77.13442993164062,-90.17168426513672,-83.9526596069336,-84.24226379394531,-84.59192657470703,-91.13042449951172,-90.73957061767578,-77.27783966064453,-97.08473205566406,-60.86254119873047,-67.03376007080078,-90.36972045898438,-74.54759216308594,-90.1728286743164,-91.25904846191406,-91.00656127929688,-90.72918701171875,-76.92789459228516,-80.89452362060547,-81.41307830810547,-85.88152313232422,-66.7241439819336,-74.7649154663086,-70.8994369506836,-68.13155364990234,-96.96634674072266,-83.54962158203125,-83.34233856201172,-67.28215789794922,-97.0967788696289,-90.07627868652344,-61.91914749145508,-89.3126220703125,-83.93987274169922,-97.19989013671875,-74.58283996582031,-97.14875030517578,-76.95613098144531,-68.65279388427734,-89.87581634521484,-61.59981918334961,-74.77186584472656,-51.15964889526367,-68.64157104492188,-73.03727722167969,-78.982421875,-79.24000549316406,-91.52703094482422,-83.09749603271484,-68.0381851196289,-90.98477935791016,-62.34740447998047,-78.28761291503906,-84.25640106201172,-51.16727066040039,-83.12389373779297,-69.62836456298828,-90.24713897705078,-75.63443756103516,-90.92525482177734,-63.968841552734375,-91.21517181396484,-90.71683502197266,-77.30709075927734,-49.857242584228516,-71.96228790283203,-84.79670715332031,-85.21371459960938,-74.62628936767578,-83.7433090209961,-90.2756118774414,-68.42754364013672,-83.94039154052734,-77.00121307373047,-90.49022674560547,-90.86890411376953,-83.42567443847656,-70.03275299072266,-75.32166290283203,-68.45655822753906,-53.499725341796875,-69.38409423828125,-71.9908447265625,-90.07276153564453,-83.95658874511719,-79.12257385253906,-83.96373748779297,-75.06067657470703,-90.2310562133789,-69.53973388671875,-83.9986343383789,-67.85222625732422,-63.31919479370117,-72.8447494506836,-83.89769744873047,-90.7450942993164,-68.50301361083984,-91.09815979003906,-97.09477233886719,-90.49388885498047,-60.53078079223633,-91.15921020507812,-61.921142578125,-56.146549224853516,-73.30811309814453,-74.60210418701172,-77.15008544921875,-75.78890228271484,-75.50048065185547,-74.16393280029297,-83.89450073242188,-90.19568634033203,-91.22206115722656,-78.04008483886719,-85.03938293457031,-90.88311004638672,-83.7012710571289,-85.5561294555664,-79.78394317626953,-68.9634017944336,-91.13695526123047,-69.52996063232422,-69.69254302978516,-83.98116302490234,-84.56048583984375,-89.96826934814453,-97.2100601196289,-90.0353012084961,-84.30306243896484,-69.97857666015625,-78.41996765136719,-50.740474700927734,-90.28369903564453,-55.67109298706055,-58.98934555053711,-85.69347381591797,-84.68754577636719,-90.12008666992188,-75.7855453491211,-77.85694122314453,-74.19508361816406,-60.84010696411133,-90.27213287353516,-68.47836303710938,-61.052120208740234,-97.0173110961914,-75.92626953125,-80.92658233642578,-90.27206420898438,-97.0831298828125,-96.56548309326172,-70.02001953125,-75.89324951171875,-83.48950958251953,-73.04390716552734,-70.59916687011719,-91.0825424194336,-90.3232650756836,-78.6520767211914,-90.83147430419922,-83.82420349121094,-73.31404876708984,-84.28875732421875,-76.7940444946289,-83.97496795654297,-83.92450714111328,-72.44763946533203,-83.29450225830078,-69.55821228027344,-79.00540161132812,-69.87679290771484,-67.79171752929688,-90.31818389892578,-90.39044952392578,-61.24165725708008,-76.75990295410156,-84.99781799316406,-75.60210418701172,-97.08231353759766,-60.99089050292969,-60.7623291015625,-97.13689422607422,-77.74464416503906,-74.1815414428711,-68.26263427734375,-83.82936096191406,-84.29904174804688,-63.7595329284668,-90.53018951416016,-74.85480499267578,-63.3454704284668,-81.20178985595703,-90.23382568359375,-74.94672393798828,-83.84720611572266,-71.30137634277344,-61.76944351196289,-75.8923110961914,-68.9880142211914,-73.09264373779297,-82.99297332763672,-83.9491958618164,-67.96113586425781,-77.01221466064453,-85.18119812011719,-84.69134521484375,-77.1121826171875,-61.544586181640625,-74.03275299072266,-83.84742736816406,-96.53795623779297,-90.15662384033203,-69.80673217773438,-73.63916778564453,-71.15911102294922,-85.6294937133789,-80.73461151123047,-84.02729034423828,-54.66879653930664,-64.14382934570312,-72.87841796875,-68.62004852294922,-66.61531829833984,-97.12046813964844,-46.485050201416016,-90.90210723876953,-74.8544692993164,-97.02521514892578,-72.14051055908203,-64.18556213378906,-67.9858169555664,-77.86891174316406,-74.08169555664062,-68.16100311279297,-58.8492431640625,-90.83895111083984,-69.9420394897461,-69.272216796875,-90.50102996826172,-69.3265151977539,-73.1865234375,-72.74420166015625,-83.3530044555664,-77.0638198852539,-78.29669952392578,-90.27657318115234,-83.99674224853516,-83.97682189941406,-84.80316925048828,-48.122432708740234,-77.14961242675781,-69.55184173583984,-74.51495361328125,-90.8778305053711,-96.58357238769531,-75.01051330566406,-69.95512390136719,-72.887939453125,-75.16069793701172,-74.19619750976562,-77.17688751220703,-74.5384521484375,-75.01940155029297,-67.66822814941406,-75.75911712646484,-68.24626159667969,-84.07135009765625,-97.12748718261719,-76.01445007324219,-76.34331512451172,-97.12600708007812,-78.53699493408203,-63.91620635986328,-62.50492477416992,-65.1334457397461,-82.3804702758789,-90.95610809326172,-97.04427337646484,-66.71923065185547,-77.3620376586914,-80.87676239013672,-69.28984832763672,-82.28377532958984,-90.04535675048828,-84.3412857055664,-75.77357482910156,-83.6391372680664,-79.13733673095703,-76.82241821289062,-83.41814422607422,-76.09732055664062,-90.58519744873047,-68.05830383300781,-90.31930541992188,-72.15479278564453,-78.26655578613281,-83.63910675048828,-73.04689025878906,-90.78199768066406,-103.2913818359375,-67.7047119140625,-72.61572265625,-63.59940719604492,-76.93009185791016,-89.9770736694336,-91.14839935302734,-63.86748123168945,-74.935791015625,-69.85626220703125,-69.69441986083984,-91.0666732788086,-90.0843734741211,-56.35359573364258,-97.12149810791016,-83.60840606689453,-84.14713287353516,-97.27141571044922,-84.05693817138672,-83.61542510986328,-69.19737243652344,-77.24932098388672,-103.28992462158203,-77.17822265625,-76.96097564697266,-71.30220031738281,-62.41322708129883,-70.47984313964844,-81.25458526611328,-90.19573974609375,-68.00688171386719,-90.09085845947266,-90.03679656982422,-69.78816986083984,-66.67454528808594,-68.43429565429688,-64.8799057006836,-90.52986907958984,-90.76189422607422,-62.08765411376953,-70.41905975341797,-91.2162857055664,-63.5433235168457,-91.61290740966797,-65.5582046508789,-57.271976470947266,-76.06031036376953,-67.54914093017578,-75.50362396240234,-69.43836975097656,-75.70951080322266,-76.37975311279297,-72.15974426269531,-64.79352569580078,-90.51789093017578,-77.73104858398438,-83.86298370361328,-60.08753204345703,-57.04601287841797,-79.81147766113281,-90.44245147705078,-78.17064666748047,-79.80132293701172,-76.60468292236328,-83.36812591552734,-48.99409103393555,-77.83747863769531,-44.0208625793457,-83.4321517944336,-72.25470733642578,-63.984535217285156,-75.66283416748047,-63.00973129272461,-96.99468231201172,-103.32450103759766,-76.15250396728516,-70.62525939941406,-33.940181732177734,-74.89983367919922,-67.97313690185547,-90.4228744506836,-90.3205795288086,-83.74691009521484,-96.90531158447266,-74.76097869873047,-90.38748931884766,-90.78279876708984,-70.47002410888672,-68.29078674316406,-73.1344985961914,-90.5264663696289,-71.67312622070312,-78.0037841796875,-77.44364166259766,-69.7354507446289,-73.40042114257812,-90.16878509521484,-90.01129913330078,-54.2164306640625,-69.13861846923828,-83.79635620117188,-65.86972045898438,-90.20682525634766,-69.92261505126953,-77.99620056152344,-70.18846130371094,-60.75453567504883,-67.39800262451172,-69.94587707519531,-63.090946197509766,-67.28881072998047,-90.37422943115234,-90.27188873291016,-83.30553436279297,-74.94734954833984,-84.70420837402344,-82.63368225097656,-69.25581359863281,-54.598995208740234,-69.38994598388672,-63.178245544433594,-79.04179382324219,-67.3667221069336,-62.09212112426758,-74.45584869384766,-77.6729736328125,-61.58720779418945,-83.45634460449219,-90.85123443603516,-84.67138671875,-69.28160095214844,-86.02577209472656,-90.39744567871094,-76.13253021240234,-68.90445709228516,-68.3724594116211,-70.6939468383789,-91.43559265136719,-90.84198760986328,-90.26688385009766,-90.06565856933594,-62.98937225341797,-97.14234161376953,-75.08794403076172,-55.82329177856445,-96.63202667236328,-89.27867889404297,-63.146484375,-76.75260162353516,-77.12923431396484,-59.06656265258789,-69.37653350830078,-90.48868560791016,-75.5864486694336,-83.85933685302734,-91.06497192382812,-78.88766479492188,-69.53153228759766,-91.05089569091797,-74.6285171508789,-84.75116729736328,-90.4162368774414,-97.12650299072266,-83.80091857910156,-77.83232879638672,-90.33329010009766,-90.29126739501953,-96.9957504272461,-84.61084747314453,-82.36906433105469,-76.36546325683594,-67.63934326171875,-75.5999984741211,-90.29692840576172,-76.17557525634766,-75.10721588134766,-68.06100463867188,-96.60646057128906,-90.23600006103516,-75.62205505371094,-82.48345184326172,-65.29798126220703,-75.93000030517578,-74.74363708496094,-90.42526245117188,-57.25588607788086,-70.16910552978516,-77.30973815917969,-68.9039535522461,-90.0638198852539,-97.0945053100586,-55.70900344848633,-90.33478546142578,-90.64287567138672,-97.3345718383789,-97.15717315673828,-69.56625366210938,-76.17597198486328,-90.99982452392578,-77.98812103271484,-74.8254623413086,-90.56975555419922,-67.60456085205078,-90.8212661743164,-68.11544036865234,-48.32843780517578,-69.37413024902344,-68.76142120361328,-97.07071685791016,-56.7916145324707,-84.0042495727539,-64.11029815673828,-70.01719665527344,-97.2602310180664,-83.1436996459961,-90.1611557006836,-77.76750946044922,-76.2456283569336,-96.9392318725586,-74.46175384521484,-67.6402816772461,-69.6987533569336,-96.56575775146484,-83.84233856201172,-69.05171203613281,-75.71471405029297,-69.12860870361328,-76.04784393310547,-83.9023666381836,-68.0948715209961,-68.16888427734375,-84.2828369140625,-84.86100769042969,-83.7270736694336,-75.9369125366211,-56.272705078125,-91.558837890625,-97.04808807373047,-77.35710906982422,-97.14818572998047,-69.47657012939453,-84.32801818847656,-97.18933868408203],\"xaxis\":\"x\",\"y\":[-97.08812672400563,-72.39366480600074,-76.81210848400042,-79.81719069000337,-40.18150049299948,-97.82986372400592,-66.91843148399676,-84.82907036800407,-90.91962504600453,-84.27629326500391,-69.9216195570034,-91.1060020460045,-84.8077482650042,-76.49506441100402,-89.68325094300508,-67.69982448399605,-74.98329633800404,-69.62002763000328,-96.9661257240059,-19.938731385999745,-54.981734128003154,-66.96666148399709,-77.71330858700367,-60.02066280599684,-91.1486450460052,-83.46827916199982,-77.07755651400385,-75.02294533800432,-79.07485758700386,-91.0620350460049,-103.34727040200688,-96.67331162100618,-72.06417180600147,-90.81658704600522,-62.22668887900363,-90.01080394300516,-76.83871448399987,-79.15505658700386,-63.775365952003085,-76.64750551400448,-60.60120070300309,-66.16499448399554,-90.29428494300464,-90.78181304600456,-72.75508816199545,-66.88425748399641,-84.51344826500463,-84.09747136800434,-91.07493604600496,-97.18310672400548,-69.38989663000393,-84.65522926500398,-97.06525872400562,-74.65058433800459,-75.04644033800378,-73.35900016199594,-76.80749848400046,-71.93935380600124,-90.43734994300485,-96.63203362100558,-85.0384243680046,-67.00609048399565,-90.96334104600464,-69.72954773300353,-63.35286198200265,-69.3041207330034,-90.23943594300545,-97.08321872400576,-67.20414448400425,-69.26566373300375,-67.91274355700352,-76.38514751400453,-77.76638858700335,-75.97789141100384,-69.13963766000415,-83.95278126500398,-81.23006501600503,-91.76657804600472,-83.36402016199827,-40.95684959599976,-91.10591704600483,-103.32880840200689,-77.68913758700364,-74.58209223500398,-85.68013436800447,-61.62703180599783,-83.42851316199813,-66.69623048399626,-72.07473080600175,-69.72306155700335,-90.47776994300511,-77.7737145140045,-90.3170309430052,-85.06760236800437,-61.931260879002366,-64.26623895200282,-84.15101036800388,-69.60237166000388,-61.338027805997626,-61.10761480599649,-82.60292008900524,-69.58870766000382,-83.61613916199894,-73.51052580600117,-60.75175087900243,-90.08417294300487,-68.10185755700331,-79.05619358700369,-81.33862301600493,-73.00033590900239,-61.51706680599818,-66.2221164839957,-78.96006258700345,-90.88661304600464,-66.10358548399563,-75.94879133800441,-55.44298812800298,-84.94686326500414,-73.98767990900251,-90.34007994300464,-84.62031836800452,-68.50895955700344,-74.50066433800384,-74.545794235004,-84.48817036800392,-92.11212004600476,-61.28498580599808,-97.05497672400544,-63.90389295200293,-83.47889116199985,-76.91945948399916,-63.690076879002845,-82.63637408900468,-61.27667087900318,-83.95794526500413,-77.04542051400404,-90.14749994300472,-84.09536426500472,-84.09358136800438,-84.49366336800449,-91.06215604600492,-90.69391004600492,-77.11901358700379,-97.05972272400597,-60.84700380600316,-66.99619548399642,-90.51303594300498,-74.5643362350047,-90.1193259430047,-91.43313404600484,-91.00289004600472,-90.7801680460052,-76.89800651400401,-80.8735090160053,-81.38027801600492,-85.81541936800386,-66.73329612800262,-74.73444633800409,-70.77382183600366,-68.06803955700343,-97.0348367240058,-83.50125126500461,-83.36387316199944,-67.38384455700361,-97.17649772400546,-90.08751094300531,-61.79097098200237,-89.34645687000557,-83.92994326500411,-97.21730572400612,-74.58498333800435,-97.2729777240056,-76.93997658700391,-68.7457516600034,-89.87587594300476,-61.55599480600358,-74.84609333800381,-51.079062523002,-68.65878266000345,-73.06135390900272,-79.01208358700387,-79.09346058700339,-91.788168046005,-83.11138816199855,-67.90746455700355,-91.0014980460046,-62.36512687900267,-78.36362969000311,-84.38357326500409,-51.2213705230015,-83.17240419200516,-69.58387963000405,-90.26231594300498,-75.82305033800458,-90.79904004600483,-63.79312287900302,-91.20618104600452,-90.780514046005,-77.36329469000339,-49.66375934700227,-71.81680780600072,-84.9382052650044,-85.24028226500468,-74.6857973380038,-83.63673226500396,-90.25577994300512,-68.47711855700345,-83.86596226500387,-77.08044358700317,-90.37591494300524,-90.81090804600537,-83.48580716199831,-70.00090383600309,-75.33060733800448,-68.63251966000371,-54.21554926299723,-69.32923963000394,-71.8586708060011,-90.06962894300523,-83.80611026500446,-79.1543035870036,-83.97397126500437,-75.08109733800393,-90.22698494300494,-69.55538773300304,-84.02263636800399,-67.75499155700345,-63.327946952003,-73.11632990900307,-83.92747526500443,-90.78202304600472,-68.53355366000324,-91.04568004600516,-96.98444872400523,-90.44942194300528,-60.530208703003154,-91.11397704600496,-61.88693298200269,-56.23174427400227,-73.28474516199458,-74.55178423500456,-77.16536458700375,-75.82176341100421,-75.51516130800428,-74.10588923500472,-84.02023526500398,-90.10040794300494,-91.36958304600466,-77.96291648400074,-85.0955092650047,-90.795830046005,-83.60701216199959,-85.56262436800444,-79.89900069000305,-69.01009463000355,-91.04313104600531,-69.5202967330033,-69.50418866000382,-83.90706026500447,-84.60832636800387,-89.96505494300527,-97.27933572400524,-90.04251494300479,-84.26949336800408,-70.11559263000345,-78.40868648399919,-49.95829859600144,-90.21714094300478,-55.61965233599767,-58.78971045000071,-85.86184436800431,-84.65505336800379,-90.18801294300464,-75.81109830800415,-77.72433358700346,-74.17564723500436,-60.83139580599709,-90.23504794300516,-68.49571548399581,-61.092886805998205,-96.96832772400558,-75.88764930800426,-80.93840601600459,-90.27809994300516,-97.29243572400536,-96.53581662100623,-70.07288973300365,-75.93947441100408,-83.45246616199984,-73.0927201619943,-70.6101456300039,-91.2370530460048,-90.29834694300462,-78.62716558700322,-90.84773504600524,-83.80071316199974,-73.4742198060012,-84.31882136800414,-76.67119048399945,-83.9611612650042,-83.95133926500421,-72.46786180600066,-83.3436701619994,-69.60012073300368,-79.02104958700329,-69.97921355700328,-67.64326848399651,-90.35534894300508,-90.30384694300484,-61.305448805997,-76.8200674840009,-85.06938626500414,-75.59597141100403,-97.0900027240059,-60.90919780599688,-60.91470187900268,-97.1585487240054,-77.94160348399964,-74.12026623500424,-68.26001655700384,-83.95669426500444,-84.47741326500454,-63.616966879002575,-90.68854504600496,-74.91094533800424,-63.32068395200258,-81.19230101600533,-90.2671389430052,-74.91233833800379,-83.90673926500403,-71.22673501200279,-61.8121268790037,-75.88721830800478,-68.98777063000398,-73.12687216199447,-82.95466316199963,-83.98001026500424,-67.98721555700376,-76.87173651400371,-85.22714326500409,-84.78261126500456,-77.1729855870035,-61.52348587900269,-74.11876923500404,-83.84189926500403,-96.51541562100556,-90.06534094300514,-69.79503373300395,-73.63916323500416,-71.21465480600091,-85.65163436800412,-80.73843101600505,-84.0434013680042,-54.503029025002434,-64.07422895200307,-73.0021759090032,-68.38801055700333,-66.66912248399603,-97.12127072400564,-46.54397691800023,-91.022903046005,-74.91089333800392,-97.00428272400586,-72.08534680600133,-64.21813015800308,-67.98108655700344,-77.91732451400367,-74.01295923500402,-68.13833155700377,-58.65186345000075,-90.90589304600508,-69.94051873300305,-69.33135363000383,-90.63953904600476,-69.34362463000343,-73.22695216199463,-72.56068880600105,-83.35321216199918,-76.82277158700344,-78.41608969000299,-90.28257894300532,-84.02531726500456,-84.10163026500413,-84.74164226500397,-48.14959234700291,-77.12270448399977,-69.55291863000366,-74.65422233800382,-90.8501510460046,-96.56042562100538,-75.03636933800408,-69.97180273300364,-72.9000891619944,-75.18150533800417,-74.19684223500462,-77.16261858700364,-74.59183133800434,-75.12284033800461,-67.59790755700396,-75.70590130800429,-68.20567155700337,-83.98935526500463,-97.1260037240054,-75.992149411004,-76.26791051400414,-97.1373717240058,-78.67410348399972,-64.00455423100175,-62.52544687900263,-65.07824105500276,-82.34966808900481,-90.8978110460048,-96.98243572400588,-66.72182048399554,-77.11216748399966,-80.9070960160052,-69.31833866000306,-82.12503108900455,-90.00505594300466,-84.3001013680041,-75.90138233800462,-83.57321126500392,-79.18001458700382,-76.80716551400383,-83.39934116199947,-76.10112341100466,-90.5128709430046,-67.83331355700375,-90.3595179430049,-72.04902580600174,-78.20546769000339,-83.68304926500423,-73.09147016199495,-90.82055904600476,-103.30194440200648,-67.61142948399538,-72.74431190900305,-63.60519587900308,-76.85929851400397,-89.99903594300486,-91.07877404600458,-63.83099695200326,-75.00936033800463,-69.81014073300321,-69.59875755700341,-90.96775904600509,-90.14586494300512,-56.36170530400159,-97.25479272400572,-83.57721516199854,-84.18929236800432,-97.27779972400548,-84.03978526500396,-83.49242026500451,-69.12472366000384,-77.19335458700334,-103.3196814020066,-77.2166465870032,-76.78357851400415,-71.48712280600193,-62.55632987900299,-70.42353983600333,-81.31309401600538,-90.15454294300524,-68.04403555700355,-90.08953094300524,-90.02215994300514,-69.85215673300354,-66.64122148399656,-68.32736266000302,-64.90296805500293,-90.61719604600512,-90.80857904600452,-62.12661180599753,-70.41665763000401,-91.20736904600471,-63.461515055002565,-91.7280990460049,-65.61264012800166,-57.27736348000144,-76.02737041100409,-67.51718755700313,-75.55134530800478,-69.43151563000356,-75.92513733800388,-76.37470541100447,-72.14652680600193,-64.85509595200256,-90.39137404600478,-77.77209551400392,-83.92769426500399,-60.03162080599759,-57.37799927400192,-79.74626869000349,-90.41107294300492,-78.31111269000303,-79.90705569000329,-76.6417465140039,-83.37701916199876,-49.10914462600158,-77.80985758700353,-43.81683474200145,-83.46372716199949,-72.32440180600133,-63.62472395200257,-75.58272533800391,-63.08866487900286,-97.04805172400576,-103.2742974020066,-76.23322541100424,-70.65892863000317,-34.301794917999814,-74.90598233800392,-67.75349448399538,-90.39595294300489,-90.28363194300528,-83.67182526500437,-96.77660072400522,-74.78765323500465,-90.31567604600514,-90.78742604600484,-70.56357583600311,-68.22364266000386,-73.18168616199546,-90.53674294300528,-71.72657080600038,-77.90527269000359,-77.50030858700393,-69.71849073300382,-73.35351216199524,-90.1397279430048,-89.99672894300511,-54.24280302500301,-69.01480663000348,-83.96741526500409,-65.61984612800188,-90.22226394300468,-69.98472473300353,-77.95261148399914,-70.21307973300372,-60.831485806003,-67.42112348399678,-69.97709955700338,-63.06888087900279,-67.23559855700387,-90.30295204600498,-90.24570394300464,-83.29964719200507,-74.91105733800396,-84.70156136800415,-82.61362908900537,-69.2505287330032,-54.62883202500325,-69.50386473300387,-63.48753887900239,-78.94092358700345,-67.31120812800145,-62.14974887900371,-74.46290123500421,-77.70891958700395,-61.65285398200285,-83.47413016199971,-90.82595604600463,-84.66831426500448,-69.26517573300316,-86.08414836800421,-90.43054994300472,-76.09177741100393,-68.93786666000415,-68.40068766000331,-70.63174363000326,-90.8350630460045,-90.9857870460046,-90.23343994300468,-90.11922994300494,-62.9838509520032,-97.18246672400528,-75.12140233800437,-55.83397620100277,-96.58355562100589,-89.30739587000517,-63.12990787900253,-76.96105141100452,-77.12013558700346,-58.9896222740017,-69.58953766000377,-90.56185594300496,-75.58515230800458,-83.80215126500389,-90.96424904600462,-78.93741758700344,-69.66080066000359,-91.08343304600476,-74.58559533800417,-84.67730236800435,-90.53103394300524,-97.08634072400582,-83.76801126500413,-77.88135748400055,-90.37536094300503,-90.34314194300532,-97.0355567240058,-84.68839926500459,-82.33088208900517,-76.46514441100408,-67.64590755700374,-75.59519441100383,-90.2653309430052,-76.25803641100447,-75.17467533800391,-68.09712055700311,-96.56683662100568,-90.34739394300505,-75.58807430800425,-82.46029308900506,-65.29565305500273,-75.88632230800431,-74.84838733800461,-90.8176199430054,-57.27170320100231,-70.19799980600146,-77.3675765870039,-68.75831066000319,-90.05181994300528,-97.14158872400547,-56.41965076499764,-90.28559894300544,-90.68673204600508,-97.2642317240061,-97.09660472400536,-69.6536017330036,-76.21873041100389,-90.946903046005,-77.9025494840007,-74.73961033800424,-90.36172094300493,-67.64483155700327,-90.89625504600464,-68.08939655700397,-48.24990934700236,-69.29087263000383,-68.67741866000324,-97.055155724006,-56.78982437700233,-84.01686636800423,-64.08460015800301,-70.02125383600378,-97.17304872400564,-83.05591219200505,-90.16490194300512,-77.67553069000314,-76.26149841100414,-96.91721972400592,-74.50833823500398,-67.6244875570037,-69.6347306600037,-96.47894762100624,-83.89157926500411,-68.97760163000385,-75.70197530800397,-69.1507926300037,-76.01088141100445,-83.93160026500391,-68.09057655700326,-68.07903555700341,-84.46387736800443,-84.79724336800427,-83.67703226500453,-76.08235641100418,-56.19325230400227,-91.74739304600462,-97.07449372400606,-77.30086469000344,-97.11787672400531,-69.36053263000395,-84.24066026500441,-97.17392372400536],\"yaxis\":\"y\",\"type\":\"scatter\"}],                        {\"template\":{\"data\":{\"bar\":[{\"error_x\":{\"color\":\"#2a3f5f\"},\"error_y\":{\"color\":\"#2a3f5f\"},\"marker\":{\"line\":{\"color\":\"#E5ECF6\",\"width\":0.5},\"pattern\":{\"fillmode\":\"overlay\",\"size\":10,\"solidity\":0.2}},\"type\":\"bar\"}],\"barpolar\":[{\"marker\":{\"line\":{\"color\":\"#E5ECF6\",\"width\":0.5},\"pattern\":{\"fillmode\":\"overlay\",\"size\":10,\"solidity\":0.2}},\"type\":\"barpolar\"}],\"carpet\":[{\"aaxis\":{\"endlinecolor\":\"#2a3f5f\",\"gridcolor\":\"white\",\"linecolor\":\"white\",\"minorgridcolor\":\"white\",\"startlinecolor\":\"#2a3f5f\"},\"baxis\":{\"endlinecolor\":\"#2a3f5f\",\"gridcolor\":\"white\",\"linecolor\":\"white\",\"minorgridcolor\":\"white\",\"startlinecolor\":\"#2a3f5f\"},\"type\":\"carpet\"}],\"choropleth\":[{\"colorbar\":{\"outlinewidth\":0,\"ticks\":\"\"},\"type\":\"choropleth\"}],\"contour\":[{\"colorbar\":{\"outlinewidth\":0,\"ticks\":\"\"},\"colorscale\":[[0.0,\"#0d0887\"],[0.1111111111111111,\"#46039f\"],[0.2222222222222222,\"#7201a8\"],[0.3333333333333333,\"#9c179e\"],[0.4444444444444444,\"#bd3786\"],[0.5555555555555556,\"#d8576b\"],[0.6666666666666666,\"#ed7953\"],[0.7777777777777778,\"#fb9f3a\"],[0.8888888888888888,\"#fdca26\"],[1.0,\"#f0f921\"]],\"type\":\"contour\"}],\"contourcarpet\":[{\"colorbar\":{\"outlinewidth\":0,\"ticks\":\"\"},\"type\":\"contourcarpet\"}],\"heatmap\":[{\"colorbar\":{\"outlinewidth\":0,\"ticks\":\"\"},\"colorscale\":[[0.0,\"#0d0887\"],[0.1111111111111111,\"#46039f\"],[0.2222222222222222,\"#7201a8\"],[0.3333333333333333,\"#9c179e\"],[0.4444444444444444,\"#bd3786\"],[0.5555555555555556,\"#d8576b\"],[0.6666666666666666,\"#ed7953\"],[0.7777777777777778,\"#fb9f3a\"],[0.8888888888888888,\"#fdca26\"],[1.0,\"#f0f921\"]],\"type\":\"heatmap\"}],\"heatmapgl\":[{\"colorbar\":{\"outlinewidth\":0,\"ticks\":\"\"},\"colorscale\":[[0.0,\"#0d0887\"],[0.1111111111111111,\"#46039f\"],[0.2222222222222222,\"#7201a8\"],[0.3333333333333333,\"#9c179e\"],[0.4444444444444444,\"#bd3786\"],[0.5555555555555556,\"#d8576b\"],[0.6666666666666666,\"#ed7953\"],[0.7777777777777778,\"#fb9f3a\"],[0.8888888888888888,\"#fdca26\"],[1.0,\"#f0f921\"]],\"type\":\"heatmapgl\"}],\"histogram\":[{\"marker\":{\"pattern\":{\"fillmode\":\"overlay\",\"size\":10,\"solidity\":0.2}},\"type\":\"histogram\"}],\"histogram2d\":[{\"colorbar\":{\"outlinewidth\":0,\"ticks\":\"\"},\"colorscale\":[[0.0,\"#0d0887\"],[0.1111111111111111,\"#46039f\"],[0.2222222222222222,\"#7201a8\"],[0.3333333333333333,\"#9c179e\"],[0.4444444444444444,\"#bd3786\"],[0.5555555555555556,\"#d8576b\"],[0.6666666666666666,\"#ed7953\"],[0.7777777777777778,\"#fb9f3a\"],[0.8888888888888888,\"#fdca26\"],[1.0,\"#f0f921\"]],\"type\":\"histogram2d\"}],\"histogram2dcontour\":[{\"colorbar\":{\"outlinewidth\":0,\"ticks\":\"\"},\"colorscale\":[[0.0,\"#0d0887\"],[0.1111111111111111,\"#46039f\"],[0.2222222222222222,\"#7201a8\"],[0.3333333333333333,\"#9c179e\"],[0.4444444444444444,\"#bd3786\"],[0.5555555555555556,\"#d8576b\"],[0.6666666666666666,\"#ed7953\"],[0.7777777777777778,\"#fb9f3a\"],[0.8888888888888888,\"#fdca26\"],[1.0,\"#f0f921\"]],\"type\":\"histogram2dcontour\"}],\"mesh3d\":[{\"colorbar\":{\"outlinewidth\":0,\"ticks\":\"\"},\"type\":\"mesh3d\"}],\"parcoords\":[{\"line\":{\"colorbar\":{\"outlinewidth\":0,\"ticks\":\"\"}},\"type\":\"parcoords\"}],\"pie\":[{\"automargin\":true,\"type\":\"pie\"}],\"scatter\":[{\"marker\":{\"colorbar\":{\"outlinewidth\":0,\"ticks\":\"\"}},\"type\":\"scatter\"}],\"scatter3d\":[{\"line\":{\"colorbar\":{\"outlinewidth\":0,\"ticks\":\"\"}},\"marker\":{\"colorbar\":{\"outlinewidth\":0,\"ticks\":\"\"}},\"type\":\"scatter3d\"}],\"scattercarpet\":[{\"marker\":{\"colorbar\":{\"outlinewidth\":0,\"ticks\":\"\"}},\"type\":\"scattercarpet\"}],\"scattergeo\":[{\"marker\":{\"colorbar\":{\"outlinewidth\":0,\"ticks\":\"\"}},\"type\":\"scattergeo\"}],\"scattergl\":[{\"marker\":{\"colorbar\":{\"outlinewidth\":0,\"ticks\":\"\"}},\"type\":\"scattergl\"}],\"scattermapbox\":[{\"marker\":{\"colorbar\":{\"outlinewidth\":0,\"ticks\":\"\"}},\"type\":\"scattermapbox\"}],\"scatterpolar\":[{\"marker\":{\"colorbar\":{\"outlinewidth\":0,\"ticks\":\"\"}},\"type\":\"scatterpolar\"}],\"scatterpolargl\":[{\"marker\":{\"colorbar\":{\"outlinewidth\":0,\"ticks\":\"\"}},\"type\":\"scatterpolargl\"}],\"scatterternary\":[{\"marker\":{\"colorbar\":{\"outlinewidth\":0,\"ticks\":\"\"}},\"type\":\"scatterternary\"}],\"surface\":[{\"colorbar\":{\"outlinewidth\":0,\"ticks\":\"\"},\"colorscale\":[[0.0,\"#0d0887\"],[0.1111111111111111,\"#46039f\"],[0.2222222222222222,\"#7201a8\"],[0.3333333333333333,\"#9c179e\"],[0.4444444444444444,\"#bd3786\"],[0.5555555555555556,\"#d8576b\"],[0.6666666666666666,\"#ed7953\"],[0.7777777777777778,\"#fb9f3a\"],[0.8888888888888888,\"#fdca26\"],[1.0,\"#f0f921\"]],\"type\":\"surface\"}],\"table\":[{\"cells\":{\"fill\":{\"color\":\"#EBF0F8\"},\"line\":{\"color\":\"white\"}},\"header\":{\"fill\":{\"color\":\"#C8D4E3\"},\"line\":{\"color\":\"white\"}},\"type\":\"table\"}]},\"layout\":{\"annotationdefaults\":{\"arrowcolor\":\"#2a3f5f\",\"arrowhead\":0,\"arrowwidth\":1},\"autotypenumbers\":\"strict\",\"coloraxis\":{\"colorbar\":{\"outlinewidth\":0,\"ticks\":\"\"}},\"colorscale\":{\"diverging\":[[0,\"#8e0152\"],[0.1,\"#c51b7d\"],[0.2,\"#de77ae\"],[0.3,\"#f1b6da\"],[0.4,\"#fde0ef\"],[0.5,\"#f7f7f7\"],[0.6,\"#e6f5d0\"],[0.7,\"#b8e186\"],[0.8,\"#7fbc41\"],[0.9,\"#4d9221\"],[1,\"#276419\"]],\"sequential\":[[0.0,\"#0d0887\"],[0.1111111111111111,\"#46039f\"],[0.2222222222222222,\"#7201a8\"],[0.3333333333333333,\"#9c179e\"],[0.4444444444444444,\"#bd3786\"],[0.5555555555555556,\"#d8576b\"],[0.6666666666666666,\"#ed7953\"],[0.7777777777777778,\"#fb9f3a\"],[0.8888888888888888,\"#fdca26\"],[1.0,\"#f0f921\"]],\"sequentialminus\":[[0.0,\"#0d0887\"],[0.1111111111111111,\"#46039f\"],[0.2222222222222222,\"#7201a8\"],[0.3333333333333333,\"#9c179e\"],[0.4444444444444444,\"#bd3786\"],[0.5555555555555556,\"#d8576b\"],[0.6666666666666666,\"#ed7953\"],[0.7777777777777778,\"#fb9f3a\"],[0.8888888888888888,\"#fdca26\"],[1.0,\"#f0f921\"]]},\"colorway\":[\"#636efa\",\"#EF553B\",\"#00cc96\",\"#ab63fa\",\"#FFA15A\",\"#19d3f3\",\"#FF6692\",\"#B6E880\",\"#FF97FF\",\"#FECB52\"],\"font\":{\"color\":\"#2a3f5f\"},\"geo\":{\"bgcolor\":\"white\",\"lakecolor\":\"white\",\"landcolor\":\"#E5ECF6\",\"showlakes\":true,\"showland\":true,\"subunitcolor\":\"white\"},\"hoverlabel\":{\"align\":\"left\"},\"hovermode\":\"closest\",\"mapbox\":{\"style\":\"light\"},\"paper_bgcolor\":\"white\",\"plot_bgcolor\":\"#E5ECF6\",\"polar\":{\"angularaxis\":{\"gridcolor\":\"white\",\"linecolor\":\"white\",\"ticks\":\"\"},\"bgcolor\":\"#E5ECF6\",\"radialaxis\":{\"gridcolor\":\"white\",\"linecolor\":\"white\",\"ticks\":\"\"}},\"scene\":{\"xaxis\":{\"backgroundcolor\":\"#E5ECF6\",\"gridcolor\":\"white\",\"gridwidth\":2,\"linecolor\":\"white\",\"showbackground\":true,\"ticks\":\"\",\"zerolinecolor\":\"white\"},\"yaxis\":{\"backgroundcolor\":\"#E5ECF6\",\"gridcolor\":\"white\",\"gridwidth\":2,\"linecolor\":\"white\",\"showbackground\":true,\"ticks\":\"\",\"zerolinecolor\":\"white\"},\"zaxis\":{\"backgroundcolor\":\"#E5ECF6\",\"gridcolor\":\"white\",\"gridwidth\":2,\"linecolor\":\"white\",\"showbackground\":true,\"ticks\":\"\",\"zerolinecolor\":\"white\"}},\"shapedefaults\":{\"line\":{\"color\":\"#2a3f5f\"}},\"ternary\":{\"aaxis\":{\"gridcolor\":\"white\",\"linecolor\":\"white\",\"ticks\":\"\"},\"baxis\":{\"gridcolor\":\"white\",\"linecolor\":\"white\",\"ticks\":\"\"},\"bgcolor\":\"#E5ECF6\",\"caxis\":{\"gridcolor\":\"white\",\"linecolor\":\"white\",\"ticks\":\"\"}},\"title\":{\"x\":0.05},\"xaxis\":{\"automargin\":true,\"gridcolor\":\"white\",\"linecolor\":\"white\",\"ticks\":\"\",\"title\":{\"standoff\":15},\"zerolinecolor\":\"white\",\"zerolinewidth\":2},\"yaxis\":{\"automargin\":true,\"gridcolor\":\"white\",\"linecolor\":\"white\",\"ticks\":\"\",\"title\":{\"standoff\":15},\"zerolinecolor\":\"white\",\"zerolinewidth\":2}}},\"xaxis\":{\"anchor\":\"y\",\"domain\":[0.0,1.0],\"title\":{\"text\":\"x\"}},\"yaxis\":{\"anchor\":\"x\",\"domain\":[0.0,1.0],\"title\":{\"text\":\"y\"}},\"legend\":{\"tracegroupgap\":0},\"margin\":{\"t\":60}},                        {\"responsive\": true}                    ).then(function(){\n",
       "                            \n",
       "var gd = document.getElementById('4719f356-71dc-4f55-bec2-4cb0347ef2d3');\n",
       "var x = new MutationObserver(function (mutations, observer) {{\n",
       "        var display = window.getComputedStyle(gd).display;\n",
       "        if (!display || display === 'none') {{\n",
       "            console.log([gd, 'removed!']);\n",
       "            Plotly.purge(gd);\n",
       "            observer.disconnect();\n",
       "        }}\n",
       "}});\n",
       "\n",
       "// Listen for the removal of the full notebook cells\n",
       "var notebookContainer = gd.closest('#notebook-container');\n",
       "if (notebookContainer) {{\n",
       "    x.observe(notebookContainer, {childList: true});\n",
       "}}\n",
       "\n",
       "// Listen for the clearing of the current output cell\n",
       "var outputEl = gd.closest('.output');\n",
       "if (outputEl) {{\n",
       "    x.observe(outputEl, {childList: true});\n",
       "}}\n",
       "\n",
       "                        })                };                            </script>        </div>\n",
       "</body>\n",
       "</html>"
      ]
     },
     "metadata": {},
     "output_type": "display_data"
    }
   ],
   "source": [
    "px.scatter(x=list(y_pred_nn),y=list(y_test))"
   ]
  },
  {
   "cell_type": "code",
   "execution_count": null,
   "id": "pG4h9Zo9svj9",
   "metadata": {
    "colab": {
     "base_uri": "https://localhost:8080/",
     "height": 542
    },
    "id": "pG4h9Zo9svj9",
    "outputId": "fd99ba33-641f-48e0-9cf4-2aaa9660bdb6"
   },
   "outputs": [
    {
     "data": {
      "text/html": [
       "<html>\n",
       "<head><meta charset=\"utf-8\" /></head>\n",
       "<body>\n",
       "    <div>            <script src=\"https://cdnjs.cloudflare.com/ajax/libs/mathjax/2.7.5/MathJax.js?config=TeX-AMS-MML_SVG\"></script><script type=\"text/javascript\">if (window.MathJax) {MathJax.Hub.Config({SVG: {font: \"STIX-Web\"}});}</script>                <script type=\"text/javascript\">window.PlotlyConfig = {MathJaxConfig: 'local'};</script>\n",
       "        <script src=\"https://cdn.plot.ly/plotly-2.8.3.min.js\"></script>                <div id=\"be4b0b97-7853-475c-a325-949252931294\" class=\"plotly-graph-div\" style=\"height:525px; width:100%;\"></div>            <script type=\"text/javascript\">                                    window.PLOTLYENV=window.PLOTLYENV || {};                                    if (document.getElementById(\"be4b0b97-7853-475c-a325-949252931294\")) {                    Plotly.newPlot(                        \"be4b0b97-7853-475c-a325-949252931294\",                        [{\"hovertemplate\":\"x=%{x}<br>y=%{y}<extra></extra>\",\"legendgroup\":\"\",\"marker\":{\"color\":\"#636efa\",\"symbol\":\"circle\"},\"mode\":\"markers\",\"name\":\"\",\"orientation\":\"v\",\"showlegend\":false,\"x\":[-97.08812672400563,-72.39366480600074,-76.81210848400042,-79.81719069000337,-40.18150049299948,-97.82986372400592,-66.91843148399676,-84.82907036800407,-90.91962504600453,-84.27629326500391,-69.9216195570034,-91.1060020460045,-84.8077482650042,-76.49506441100402,-89.68325094300508,-67.69982448399605,-74.98329633800404,-69.62002763000328,-96.9661257240059,-19.938731385999745,-54.981734128003154,-66.96666148399709,-77.71330858700367,-60.02066280599684,-91.1486450460052,-83.46827916199982,-77.07755651400385,-75.02294533800432,-79.07485758700386,-91.0620350460049,-103.34727040200688,-96.67331162100618,-72.06417180600147,-90.81658704600522,-62.22668887900363,-90.01080394300516,-76.83871448399987,-79.15505658700386,-63.775365952003085,-76.64750551400448,-60.60120070300309,-66.16499448399554,-90.29428494300464,-90.78181304600456,-72.75508816199545,-66.88425748399641,-84.51344826500463,-84.09747136800434,-91.07493604600496,-97.18310672400548,-69.38989663000393,-84.65522926500398,-97.06525872400562,-74.65058433800459,-75.04644033800378,-73.35900016199594,-76.80749848400046,-71.93935380600124,-90.43734994300485,-96.63203362100558,-85.0384243680046,-67.00609048399565,-90.96334104600464,-69.72954773300353,-63.35286198200265,-69.3041207330034,-90.23943594300545,-97.08321872400576,-67.20414448400425,-69.26566373300375,-67.91274355700352,-76.38514751400453,-77.76638858700335,-75.97789141100384,-69.13963766000415,-83.95278126500398,-81.23006501600503,-91.76657804600472,-83.36402016199827,-40.95684959599976,-91.10591704600483,-103.32880840200689,-77.68913758700364,-74.58209223500398,-85.68013436800447,-61.62703180599783,-83.42851316199813,-66.69623048399626,-72.07473080600175,-69.72306155700335,-90.47776994300511,-77.7737145140045,-90.3170309430052,-85.06760236800437,-61.931260879002366,-64.26623895200282,-84.15101036800388,-69.60237166000388,-61.338027805997626,-61.10761480599649,-82.60292008900524,-69.58870766000382,-83.61613916199894,-73.51052580600117,-60.75175087900243,-90.08417294300487,-68.10185755700331,-79.05619358700369,-81.33862301600493,-73.00033590900239,-61.51706680599818,-66.2221164839957,-78.96006258700345,-90.88661304600464,-66.10358548399563,-75.94879133800441,-55.44298812800298,-84.94686326500414,-73.98767990900251,-90.34007994300464,-84.62031836800452,-68.50895955700344,-74.50066433800384,-74.545794235004,-84.48817036800392,-92.11212004600476,-61.28498580599808,-97.05497672400544,-63.90389295200293,-83.47889116199985,-76.91945948399916,-63.690076879002845,-82.63637408900468,-61.27667087900318,-83.95794526500413,-77.04542051400404,-90.14749994300472,-84.09536426500472,-84.09358136800438,-84.49366336800449,-91.06215604600492,-90.69391004600492,-77.11901358700379,-97.05972272400597,-60.84700380600316,-66.99619548399642,-90.51303594300498,-74.5643362350047,-90.1193259430047,-91.43313404600484,-91.00289004600472,-90.7801680460052,-76.89800651400401,-80.8735090160053,-81.38027801600492,-85.81541936800386,-66.73329612800262,-74.73444633800409,-70.77382183600366,-68.06803955700343,-97.0348367240058,-83.50125126500461,-83.36387316199944,-67.38384455700361,-97.17649772400546,-90.08751094300531,-61.79097098200237,-89.34645687000557,-83.92994326500411,-97.21730572400612,-74.58498333800435,-97.2729777240056,-76.93997658700391,-68.7457516600034,-89.87587594300476,-61.55599480600358,-74.84609333800381,-51.079062523002,-68.65878266000345,-73.06135390900272,-79.01208358700387,-79.09346058700339,-91.788168046005,-83.11138816199855,-67.90746455700355,-91.0014980460046,-62.36512687900267,-78.36362969000311,-84.38357326500409,-51.2213705230015,-83.17240419200516,-69.58387963000405,-90.26231594300498,-75.82305033800458,-90.79904004600483,-63.79312287900302,-91.20618104600452,-90.780514046005,-77.36329469000339,-49.66375934700227,-71.81680780600072,-84.9382052650044,-85.24028226500468,-74.6857973380038,-83.63673226500396,-90.25577994300512,-68.47711855700345,-83.86596226500387,-77.08044358700317,-90.37591494300524,-90.81090804600537,-83.48580716199831,-70.00090383600309,-75.33060733800448,-68.63251966000371,-54.21554926299723,-69.32923963000394,-71.8586708060011,-90.06962894300523,-83.80611026500446,-79.1543035870036,-83.97397126500437,-75.08109733800393,-90.22698494300494,-69.55538773300304,-84.02263636800399,-67.75499155700345,-63.327946952003,-73.11632990900307,-83.92747526500443,-90.78202304600472,-68.53355366000324,-91.04568004600516,-96.98444872400523,-90.44942194300528,-60.530208703003154,-91.11397704600496,-61.88693298200269,-56.23174427400227,-73.28474516199458,-74.55178423500456,-77.16536458700375,-75.82176341100421,-75.51516130800428,-74.10588923500472,-84.02023526500398,-90.10040794300494,-91.36958304600466,-77.96291648400074,-85.0955092650047,-90.795830046005,-83.60701216199959,-85.56262436800444,-79.89900069000305,-69.01009463000355,-91.04313104600531,-69.5202967330033,-69.50418866000382,-83.90706026500447,-84.60832636800387,-89.96505494300527,-97.27933572400524,-90.04251494300479,-84.26949336800408,-70.11559263000345,-78.40868648399919,-49.95829859600144,-90.21714094300478,-55.61965233599767,-58.78971045000071,-85.86184436800431,-84.65505336800379,-90.18801294300464,-75.81109830800415,-77.72433358700346,-74.17564723500436,-60.83139580599709,-90.23504794300516,-68.49571548399581,-61.092886805998205,-96.96832772400558,-75.88764930800426,-80.93840601600459,-90.27809994300516,-97.29243572400536,-96.53581662100623,-70.07288973300365,-75.93947441100408,-83.45246616199984,-73.0927201619943,-70.6101456300039,-91.2370530460048,-90.29834694300462,-78.62716558700322,-90.84773504600524,-83.80071316199974,-73.4742198060012,-84.31882136800414,-76.67119048399945,-83.9611612650042,-83.95133926500421,-72.46786180600066,-83.3436701619994,-69.60012073300368,-79.02104958700329,-69.97921355700328,-67.64326848399651,-90.35534894300508,-90.30384694300484,-61.305448805997,-76.8200674840009,-85.06938626500414,-75.59597141100403,-97.0900027240059,-60.90919780599688,-60.91470187900268,-97.1585487240054,-77.94160348399964,-74.12026623500424,-68.26001655700384,-83.95669426500444,-84.47741326500454,-63.616966879002575,-90.68854504600496,-74.91094533800424,-63.32068395200258,-81.19230101600533,-90.2671389430052,-74.91233833800379,-83.90673926500403,-71.22673501200279,-61.8121268790037,-75.88721830800478,-68.98777063000398,-73.12687216199447,-82.95466316199963,-83.98001026500424,-67.98721555700376,-76.87173651400371,-85.22714326500409,-84.78261126500456,-77.1729855870035,-61.52348587900269,-74.11876923500404,-83.84189926500403,-96.51541562100556,-90.06534094300514,-69.79503373300395,-73.63916323500416,-71.21465480600091,-85.65163436800412,-80.73843101600505,-84.0434013680042,-54.503029025002434,-64.07422895200307,-73.0021759090032,-68.38801055700333,-66.66912248399603,-97.12127072400564,-46.54397691800023,-91.022903046005,-74.91089333800392,-97.00428272400586,-72.08534680600133,-64.21813015800308,-67.98108655700344,-77.91732451400367,-74.01295923500402,-68.13833155700377,-58.65186345000075,-90.90589304600508,-69.94051873300305,-69.33135363000383,-90.63953904600476,-69.34362463000343,-73.22695216199463,-72.56068880600105,-83.35321216199918,-76.82277158700344,-78.41608969000299,-90.28257894300532,-84.02531726500456,-84.10163026500413,-84.74164226500397,-48.14959234700291,-77.12270448399977,-69.55291863000366,-74.65422233800382,-90.8501510460046,-96.56042562100538,-75.03636933800408,-69.97180273300364,-72.9000891619944,-75.18150533800417,-74.19684223500462,-77.16261858700364,-74.59183133800434,-75.12284033800461,-67.59790755700396,-75.70590130800429,-68.20567155700337,-83.98935526500463,-97.1260037240054,-75.992149411004,-76.26791051400414,-97.1373717240058,-78.67410348399972,-64.00455423100175,-62.52544687900263,-65.07824105500276,-82.34966808900481,-90.8978110460048,-96.98243572400588,-66.72182048399554,-77.11216748399966,-80.9070960160052,-69.31833866000306,-82.12503108900455,-90.00505594300466,-84.3001013680041,-75.90138233800462,-83.57321126500392,-79.18001458700382,-76.80716551400383,-83.39934116199947,-76.10112341100466,-90.5128709430046,-67.83331355700375,-90.3595179430049,-72.04902580600174,-78.20546769000339,-83.68304926500423,-73.09147016199495,-90.82055904600476,-103.30194440200648,-67.61142948399538,-72.74431190900305,-63.60519587900308,-76.85929851400397,-89.99903594300486,-91.07877404600458,-63.83099695200326,-75.00936033800463,-69.81014073300321,-69.59875755700341,-90.96775904600509,-90.14586494300512,-56.36170530400159,-97.25479272400572,-83.57721516199854,-84.18929236800432,-97.27779972400548,-84.03978526500396,-83.49242026500451,-69.12472366000384,-77.19335458700334,-103.3196814020066,-77.2166465870032,-76.78357851400415,-71.48712280600193,-62.55632987900299,-70.42353983600333,-81.31309401600538,-90.15454294300524,-68.04403555700355,-90.08953094300524,-90.02215994300514,-69.85215673300354,-66.64122148399656,-68.32736266000302,-64.90296805500293,-90.61719604600512,-90.80857904600452,-62.12661180599753,-70.41665763000401,-91.20736904600471,-63.461515055002565,-91.7280990460049,-65.61264012800166,-57.27736348000144,-76.02737041100409,-67.51718755700313,-75.55134530800478,-69.43151563000356,-75.92513733800388,-76.37470541100447,-72.14652680600193,-64.85509595200256,-90.39137404600478,-77.77209551400392,-83.92769426500399,-60.03162080599759,-57.37799927400192,-79.74626869000349,-90.41107294300492,-78.31111269000303,-79.90705569000329,-76.6417465140039,-83.37701916199876,-49.10914462600158,-77.80985758700353,-43.81683474200145,-83.46372716199949,-72.32440180600133,-63.62472395200257,-75.58272533800391,-63.08866487900286,-97.04805172400576,-103.2742974020066,-76.23322541100424,-70.65892863000317,-34.301794917999814,-74.90598233800392,-67.75349448399538,-90.39595294300489,-90.28363194300528,-83.67182526500437,-96.77660072400522,-74.78765323500465,-90.31567604600514,-90.78742604600484,-70.56357583600311,-68.22364266000386,-73.18168616199546,-90.53674294300528,-71.72657080600038,-77.90527269000359,-77.50030858700393,-69.71849073300382,-73.35351216199524,-90.1397279430048,-89.99672894300511,-54.24280302500301,-69.01480663000348,-83.96741526500409,-65.61984612800188,-90.22226394300468,-69.98472473300353,-77.95261148399914,-70.21307973300372,-60.831485806003,-67.42112348399678,-69.97709955700338,-63.06888087900279,-67.23559855700387,-90.30295204600498,-90.24570394300464,-83.29964719200507,-74.91105733800396,-84.70156136800415,-82.61362908900537,-69.2505287330032,-54.62883202500325,-69.50386473300387,-63.48753887900239,-78.94092358700345,-67.31120812800145,-62.14974887900371,-74.46290123500421,-77.70891958700395,-61.65285398200285,-83.47413016199971,-90.82595604600463,-84.66831426500448,-69.26517573300316,-86.08414836800421,-90.43054994300472,-76.09177741100393,-68.93786666000415,-68.40068766000331,-70.63174363000326,-90.8350630460045,-90.9857870460046,-90.23343994300468,-90.11922994300494,-62.9838509520032,-97.18246672400528,-75.12140233800437,-55.83397620100277,-96.58355562100589,-89.30739587000517,-63.12990787900253,-76.96105141100452,-77.12013558700346,-58.9896222740017,-69.58953766000377,-90.56185594300496,-75.58515230800458,-83.80215126500389,-90.96424904600462,-78.93741758700344,-69.66080066000359,-91.08343304600476,-74.58559533800417,-84.67730236800435,-90.53103394300524,-97.08634072400582,-83.76801126500413,-77.88135748400055,-90.37536094300503,-90.34314194300532,-97.0355567240058,-84.68839926500459,-82.33088208900517,-76.46514441100408,-67.64590755700374,-75.59519441100383,-90.2653309430052,-76.25803641100447,-75.17467533800391,-68.09712055700311,-96.56683662100568,-90.34739394300505,-75.58807430800425,-82.46029308900506,-65.29565305500273,-75.88632230800431,-74.84838733800461,-90.8176199430054,-57.27170320100231,-70.19799980600146,-77.3675765870039,-68.75831066000319,-90.05181994300528,-97.14158872400547,-56.41965076499764,-90.28559894300544,-90.68673204600508,-97.2642317240061,-97.09660472400536,-69.6536017330036,-76.21873041100389,-90.946903046005,-77.9025494840007,-74.73961033800424,-90.36172094300493,-67.64483155700327,-90.89625504600464,-68.08939655700397,-48.24990934700236,-69.29087263000383,-68.67741866000324,-97.055155724006,-56.78982437700233,-84.01686636800423,-64.08460015800301,-70.02125383600378,-97.17304872400564,-83.05591219200505,-90.16490194300512,-77.67553069000314,-76.26149841100414,-96.91721972400592,-74.50833823500398,-67.6244875570037,-69.6347306600037,-96.47894762100624,-83.89157926500411,-68.97760163000385,-75.70197530800397,-69.1507926300037,-76.01088141100445,-83.93160026500391,-68.09057655700326,-68.07903555700341,-84.46387736800443,-84.79724336800427,-83.67703226500453,-76.08235641100418,-56.19325230400227,-91.74739304600462,-97.07449372400606,-77.30086469000344,-97.11787672400531,-69.36053263000395,-84.24066026500441,-97.17392372400536],\"xaxis\":\"x\",\"y\":[0.0176540067204769,0.20523401986793033,0.021649804801199934,0.10399488922212186,0.07671075911276404,0.20966261316607415,0.11926535438215069,0.03398200015999464,0.07579112266468258,0.09065772376561654,0.0025826917690210394,0.041876984969348996,0.0024095108747133054,0.023926410515741736,0.027694186389453535,0.011792032117227791,0.03090196521861799,0.005422504274065432,0.053054573845656705,2.9752017992077526,0.11117825031760731,0.31395527625682007,0.051095709871333383,0.09746792074293609,0.1277862813567623,0.0024239630001829937,0.08192834927740478,0.010196751839430362,0.07092488369926286,0.06795457801854354,0.009616288237353388,0.03095474844758428,0.003981575346188038,0.05155412831118156,0.11565830039035063,0.024817700061248615,0.04711139562095923,0.032703986906199134,0.015154007423006988,0.008444539883385005,0.03201353869644663,0.06705594639788615,0.02511202965160919,0.06056366297981697,0.07145626502278901,0.09059603162859275,0.02044441978978284,0.0051211002573836595,0.0636445420987144,0.1448275411312352,0.004787207886693068,0.04649955579679954,0.026180965216553886,0.00668037146806455,0.07768270860924531,0.03598685633187415,0.08191254650046176,0.12128434799342358,0.016896577991246886,0.0048287259860444465,0.07483946810225461,0.08072885069486802,0.14705629286254407,0.06794524795350299,0.1035448128131975,0.032346441011213756,0.01660653746330354,0.04646793054872944,0.006131178340183396,0.03414212655843585,0.031111728641008085,0.006226005215467012,0.06820743465959822,0.013800178351630166,0.033038426421626355,0.0160670926406965,0.029717115614403156,0.09857877842659946,0.021752543079855968,0.085515520072029,0.04159362071186479,0.028935049956103853,0.011507859773701057,0.01834864369538991,0.1231188058236512,0.24489736270334106,0.054131142955156974,0.033724380480634863,0.01625912631425308,0.05726718444475409,0.05054673743870808,0.10819479964902712,0.005837404162775783,0.11163160384421644,0.04718571420744411,0.03401544126063527,0.08267798648830649,0.11743208480856993,0.04761138467620185,0.022367766201568884,0.02388719105601922,0.10938331918350741,0.07773901182918053,0.022417919584768242,0.0653458312026487,0.02697970592090826,0.007410631473248941,0.02248692196462798,0.030998199110399582,0.08822610271636222,0.2680245941483079,0.0632419722769555,0.0479455826089179,0.07622638828979689,0.0673816180551512,0.045715166129411955,0.05611297541508975,0.08613386634351627,0.513413856756415,0.0072476065788578126,0.04924292855139356,0.030461524539532547,0.025337799917906523,0.012730850445223041,0.06691386051170412,0.011839284286011775,0.27044555996871367,0.09146950402190157,0.09283872226659895,0.027551440320166876,0.01535334386244358,0.040979436375891964,0.039567378280480625,0.20249705922924477,0.04649964732834633,0.0890094176365892,0.024184322132001057,0.14270465807112487,0.14868242594093317,0.09826320670254063,0.06826845350680344,0.045660571670865124,0.1588260736407392,0.025009331658097267,0.015537392727310362,0.03756458680436481,0.14331548402060434,0.016744071918765258,0.053502731311709795,0.17408558409077557,0.003671233292152465,0.05098103428645118,0.02988807828114659,0.02101460460016824,0.03280029210054636,0.06610376432035991,0.009152146069027367,0.0304691283045031,0.12561511467993114,0.06351409289891308,0.06848998328314337,0.04837031702663808,0.02153459998771723,0.10168665905439411,0.07971885437655146,0.011232256481875424,0.12817650945270742,0.03383479969306791,0.009929476695106132,0.017415587287374024,0.002143372184036707,0.12422741882981825,0.016154394441400655,0.09295777572606312,5.959778991382336e-05,0.04382437734602718,0.07422749327724887,0.08058637226167065,0.017211615081578202,0.024076687323031365,0.0296617120038718,0.1465449061606705,0.26113710118077904,0.01389212928370398,0.13072056262535625,0.01671868809444277,0.017722399022204627,0.07601677496404591,0.12717220299236942,0.054099862601106,0.04851045421219169,0.04448493298423273,0.01517696595419693,0.18861277696942125,0.12621477577251028,0.1757186737313532,0.008990767960327162,0.06367902403233927,0.05620393072604202,0.19348323722624627,0.14548009683130658,0.14149811168408633,0.026567665395305085,0.05950797032801347,0.1065767559921369,0.01983193443628295,0.049574916866731655,0.074429275523471,0.07923051327270514,0.114311802600227,0.057996067764165105,0.06013272352174681,0.031849154719566286,0.008944435172452359,0.17596143246464635,0.7158239212003537,0.054854608277310035,0.13217392056139943,0.003132592639303766,0.15047848011272436,0.031729734464533976,0.010233777211396955,0.02042076329689735,0.004071270373970037,0.01565384628429456,0.024002029625080468,0.09723470032076875,0.008752158301831514,0.27158045831947675,0.029777816273963253,0.036928746688317915,0.030540049163391814,0.052479744033902875,0.11032361486195441,0.04446691197519215,0.0005720892331737559,0.045233159073163165,0.03420959612230945,0.08519504914875142,0.023367936149952584,0.05031995200715755,0.015279137785000785,0.032861128289368935,0.014680656148811977,0.05804356528824428,0.12573453258210066,0.09527839732709253,0.14752188877810113,0.07716835486644413,0.05612633043438109,0.08728000038172468,0.09425889512931462,0.006494912438029132,0.11505751373351814,0.046692835569956515,0.09382421522515472,0.009663899320912606,0.18835436978133657,0.07410275989786896,0.04784052816012263,0.0032144051392606343,0.06927560437632962,0.007213734508695779,0.03356907096076611,0.137015969847198,0.011281167367997114,0.7821761049262932,0.06655809263975243,0.051440651062875986,0.19963510053639766,0.1683705520863441,0.03249240836339595,0.06792627308276167,0.02555295888305409,0.13260763614107418,0.0194363831597002,0.00871115811423806,0.03708493052999984,0.017352446886434336,0.040766597257970716,0.048983372185830376,0.038620223245743546,0.011823679578810697,0.006035734020784389,0.2093058411928581,0.029666472255485132,0.05287020175364887,0.046224899285334686,0.03704342051969434,0.0488129964669497,0.010978759886711487,0.1545106265712093,0.02491813267897669,0.024911134188187134,0.016260741806021883,0.023490329211199423,0.16017103891135775,0.030064043785387184,0.12285401062945311,0.01380669153877534,0.026832123890926596,0.020222340668624383,0.04916790369861701,0.04190845273024024,0.01564797567516507,0.1024206492884332,0.1484490453003673,0.03716504407930188,0.08660258092093898,0.06379154891692451,0.06016452989933896,0.07156827184007852,0.006132776007689245,0.007689186408242676,0.08169269693280512,0.15237277744017774,0.021654497931180572,0.19695931896058028,0.06127520786685636,0.002617720339912921,0.12733330309038138,0.17837151695766806,0.14256604946422158,0.1583555318448049,0.05614034532845835,0.024786476464214502,0.009488839951700356,0.03331325941144314,0.03438559998448909,0.05953314928137843,0.07464133077064616,0.04268336704080866,0.0050927881866300595,0.00024359118742722785,0.034228424201501184,0.03831016563708545,0.030814403187832795,0.026079692745952343,0.1404781466408167,0.04594514488690038,0.09126605016081157,0.06080296981599531,0.021100302637933055,0.08601624428138166,0.0055281031600316055,0.022540616787409817,0.09128289732689154,0.011698444730427582,4.5506403694162145e-06,0.05554378305168939,0.022140654625218303,0.003819504774583038,0.01611102376591589,0.165767514304207,0.06960039370005688,0.1237579402531992,0.2320379659458922,0.053804185656190384,0.000802584357202818,0.05892671658421733,0.12079580723546712,0.05642403868750989,0.020932424919919868,0.055163753080705646,0.03256802421401517,0.00473039856296964,0.04841277083960449,0.06873632163660659,0.022671555789202102,0.19737971406175348,0.06694193516523228,0.0015207567430479685,0.05913683312883222,0.13850907774303778,0.017109432249526435,0.04042872449463175,0.1835128541551967,0.00020770643277501222,0.2410482982504618,0.11939016607720987,0.006005761852975411,0.028575016469403636,0.12480836559007003,0.06152698548430635,0.02715963826267398,0.026907942758043646,0.0010768941638161778,0.13926872472256946,0.027679459366495962,0.02314676668993343,0.0258560323400161,0.01667883163645456,0.012149708869401366,0.02080740099245304,0.0006447252389989444,0.014268925203396066,0.05337918956684007,0.10343878771163872,0.07032059241009847,0.053215818460557784,0.04059003967631725,0.08199483265161689,0.001483458611787114,0.02230066223819449,0.07540461050757585,0.011364643927677776,0.13710854991768429,0.08834787113846687,0.020522104832707555,0.05520468474333029,0.03080218687409797,0.058297047256914425,0.06183765245896211,0.002589832140074577,0.24987017469175044,0.03033362586847943,0.028490332366345683,0.15874424058529257,0.04030080748361797,0.041184337562299334,0.1278075089030608,0.06592600306248642,0.04267785604679375,0.015252698886797589,0.018803064074745635,0.0038028543640393764,0.07232650572586863,0.22499027600406407,0.04021252308302792,0.10576697964279447,0.06108809612942423,0.04394251451594755,0.044579903205885785,0.03856136534069776,0.01056256606898387,0.09328243006712,0.128589252753045,0.005788682958154823,0.07079334390618897,0.021962273571261903,0.06962530702276126,0.03648427968619217,0.0735693223796261,0.04612147402804112,0.09566230383643415,0.09891423280350864,0.06149146888402868,0.008109570359010831,0.13329461609556859,0.0311909048959933,0.04215949446916056,0.006384013556257173,0.017152906382762012,0.1230048448587695,0.07264877651959978,0.055966396883377456,0.02975678042456309,0.038423930753197055,0.17739713296850823,0.1849224886191223,0.14310279770415946,0.056303303645108826,0.05850874989209842,0.04119680308851059,0.03715384313636605,0.0013275164674126927,0.014636626819083176,0.06398687216369581,0.03332380408937752,0.10693299429385661,0.02306235431933601,0.08732696641527582,0.04668481993030582,0.03895769222799572,0.0024021234139581793,0.008916659561691631,0.0818084618431385,0.11519163633693097,0.05443547712275176,0.005387009054174996,0.03293995276544592,0.03195337317265512,0.047721345602440124,0.006854120973002864,0.2156265347812223,0.005047701788498671,0.013217456693382701,0.06157025620177592,0.1265168841709965,0.04104693001954729,0.06471056139071152,0.0559112374594406,0.3319863955839537,0.06520897112932289,0.031378534045856554,0.1404660225225598,0.10573275299157103,0.03706359164061723,0.008893246471416205,0.11505359206603316,0.027621050691777782,0.2040278373442561,0.03157536756589252,0.06969446957555192,0.35981126528258756,0.08010882947655773,0.07893358627825364,0.05336941199404066,0.05020363559106045,0.08072144371908507,0.033669230589111976,0.3616131858220797,0.00614865880470461,0.21964241786008643,0.026921507678707712,0.03694758580331836,0.07508483021047141,0.12871086046743585,0.02667453627418581,0.07181327284251893,0.004627278914995259,0.0935517271163917,0.06714408316020126,0.0471875658040517,0.010276573376373221,0.05344458529725671,0.09851148968391499,0.0566669244062723,0.016960011625087645,0.046908980582884396,0.02905715221004357,0.014570190295671637,0.026372360940513317,0.12381183923480421,0.17105906383221736,0.24987433098249312,0.01543868665702064,0.06210968173400033,0.04358907752430241,0.02461842929278646,0.0769501309541738,0.023120859485061374,0.03122248180807219,0.022065318506975018,0.053212172976600414,0.07127738514736848,0.026184789905514094,0.005887170787900686,0.03629221033588692,0.002647006019287801,0.020053161971191003,0.005284865629619162,0.029836816263014043,0.11391874911714694,0.3092933345687996,0.10087023623873392,0.05551397893214016,0.057627754736131465,0.007052541156554071,0.03594595419144753,0.06564618781339959,0.017785557507522753,0.02527839003052179,0.003072453745517123,0.01642521914527606,0.05837627327764494,0.0331042642937831,0.040752801398411975,0.03340956771899073,0.028228248382220045,0.06220320837564941,0.6005296053626807,0.14379943614132173,0.03344390709297329,0.05357137366900133,0.0055213014147668105,0.04012511023574916,0.03345830724265397,0.010684422438316687,0.04847105135739582,0.028716975962197466,0.016576495997469465,0.2084497874693625,0.009098726961383363,0.07694037858619396,0.21300415170298947,0.07317033509480098,0.0012963614290129044,0.05718558802345797,0.10072287782350031,0.0497527920815628,0.1292683724059316,0.03253735508678801,0.04292181287473795,0.0738649293589333,0.11479706556383462,0.04016226671683398,0.03290731409742875,0.04902868761382706,0.04207084290737839,0.05187454798578983,0.03980629675970704,0.0775517918600599,0.03818224204951548,0.09968115416813816,0.006564295284988475,0.004804063117262558,0.03159746275652253,0.08246115465681214,0.06745945665625186,0.03611591833123384,0.03962395028338506,0.11139388196988875,0.03398074570668541,0.02315875425665581,0.00232820720430027,0.04367799717147136,0.10475025304367591,0.392357491833522,0.015817123121451004,0.028894276216306025,0.05783842782420834,0.14564289224290405,0.011999942248621664,0.047083413946879205,0.710647316511313,0.04918651842034194,0.04385637461835756,0.07034011437281151,0.06056843273292145,0.08734807089422247,0.04275842614060821,0.05292147792077628,0.08557154871414241,0.08585200330435327,0.208034611194293,0.04027070495249063,0.07498887168823387,0.026043811648378323,0.07852845817342313,0.08325761901960504,0.08400254361004045,0.015561133904157032,0.001790155468370358,0.012616795250323776,0.025697998735267902,0.004057180730342225,0.08718229406076716,0.08778745399104082,0.0037462423215259832,0.09197877044607594,0.015870054070546757,0.02201214855267608,0.04658438978913182,0.01579412024238991,0.06402269692989648,0.08681013045860198,0.04924070299239247,0.07411040612896613,0.012738742289002403,0.022183926390425768,0.03696252210102102,0.029233626820314385,0.0042949639928338,0.08984872034034197,0.18104045394193236,0.06376432242541341,0.05004140442906646,0.1454438743830906,0.07945277412272844,0.18855515537961764,0.026405650275592052,0.05624437982078234,0.0303090059751554,0.11603749939058616,0.08735792347215465,0.015414960076668649],\"yaxis\":\"y\",\"type\":\"scatter\"}],                        {\"template\":{\"data\":{\"bar\":[{\"error_x\":{\"color\":\"#2a3f5f\"},\"error_y\":{\"color\":\"#2a3f5f\"},\"marker\":{\"line\":{\"color\":\"#E5ECF6\",\"width\":0.5},\"pattern\":{\"fillmode\":\"overlay\",\"size\":10,\"solidity\":0.2}},\"type\":\"bar\"}],\"barpolar\":[{\"marker\":{\"line\":{\"color\":\"#E5ECF6\",\"width\":0.5},\"pattern\":{\"fillmode\":\"overlay\",\"size\":10,\"solidity\":0.2}},\"type\":\"barpolar\"}],\"carpet\":[{\"aaxis\":{\"endlinecolor\":\"#2a3f5f\",\"gridcolor\":\"white\",\"linecolor\":\"white\",\"minorgridcolor\":\"white\",\"startlinecolor\":\"#2a3f5f\"},\"baxis\":{\"endlinecolor\":\"#2a3f5f\",\"gridcolor\":\"white\",\"linecolor\":\"white\",\"minorgridcolor\":\"white\",\"startlinecolor\":\"#2a3f5f\"},\"type\":\"carpet\"}],\"choropleth\":[{\"colorbar\":{\"outlinewidth\":0,\"ticks\":\"\"},\"type\":\"choropleth\"}],\"contour\":[{\"colorbar\":{\"outlinewidth\":0,\"ticks\":\"\"},\"colorscale\":[[0.0,\"#0d0887\"],[0.1111111111111111,\"#46039f\"],[0.2222222222222222,\"#7201a8\"],[0.3333333333333333,\"#9c179e\"],[0.4444444444444444,\"#bd3786\"],[0.5555555555555556,\"#d8576b\"],[0.6666666666666666,\"#ed7953\"],[0.7777777777777778,\"#fb9f3a\"],[0.8888888888888888,\"#fdca26\"],[1.0,\"#f0f921\"]],\"type\":\"contour\"}],\"contourcarpet\":[{\"colorbar\":{\"outlinewidth\":0,\"ticks\":\"\"},\"type\":\"contourcarpet\"}],\"heatmap\":[{\"colorbar\":{\"outlinewidth\":0,\"ticks\":\"\"},\"colorscale\":[[0.0,\"#0d0887\"],[0.1111111111111111,\"#46039f\"],[0.2222222222222222,\"#7201a8\"],[0.3333333333333333,\"#9c179e\"],[0.4444444444444444,\"#bd3786\"],[0.5555555555555556,\"#d8576b\"],[0.6666666666666666,\"#ed7953\"],[0.7777777777777778,\"#fb9f3a\"],[0.8888888888888888,\"#fdca26\"],[1.0,\"#f0f921\"]],\"type\":\"heatmap\"}],\"heatmapgl\":[{\"colorbar\":{\"outlinewidth\":0,\"ticks\":\"\"},\"colorscale\":[[0.0,\"#0d0887\"],[0.1111111111111111,\"#46039f\"],[0.2222222222222222,\"#7201a8\"],[0.3333333333333333,\"#9c179e\"],[0.4444444444444444,\"#bd3786\"],[0.5555555555555556,\"#d8576b\"],[0.6666666666666666,\"#ed7953\"],[0.7777777777777778,\"#fb9f3a\"],[0.8888888888888888,\"#fdca26\"],[1.0,\"#f0f921\"]],\"type\":\"heatmapgl\"}],\"histogram\":[{\"marker\":{\"pattern\":{\"fillmode\":\"overlay\",\"size\":10,\"solidity\":0.2}},\"type\":\"histogram\"}],\"histogram2d\":[{\"colorbar\":{\"outlinewidth\":0,\"ticks\":\"\"},\"colorscale\":[[0.0,\"#0d0887\"],[0.1111111111111111,\"#46039f\"],[0.2222222222222222,\"#7201a8\"],[0.3333333333333333,\"#9c179e\"],[0.4444444444444444,\"#bd3786\"],[0.5555555555555556,\"#d8576b\"],[0.6666666666666666,\"#ed7953\"],[0.7777777777777778,\"#fb9f3a\"],[0.8888888888888888,\"#fdca26\"],[1.0,\"#f0f921\"]],\"type\":\"histogram2d\"}],\"histogram2dcontour\":[{\"colorbar\":{\"outlinewidth\":0,\"ticks\":\"\"},\"colorscale\":[[0.0,\"#0d0887\"],[0.1111111111111111,\"#46039f\"],[0.2222222222222222,\"#7201a8\"],[0.3333333333333333,\"#9c179e\"],[0.4444444444444444,\"#bd3786\"],[0.5555555555555556,\"#d8576b\"],[0.6666666666666666,\"#ed7953\"],[0.7777777777777778,\"#fb9f3a\"],[0.8888888888888888,\"#fdca26\"],[1.0,\"#f0f921\"]],\"type\":\"histogram2dcontour\"}],\"mesh3d\":[{\"colorbar\":{\"outlinewidth\":0,\"ticks\":\"\"},\"type\":\"mesh3d\"}],\"parcoords\":[{\"line\":{\"colorbar\":{\"outlinewidth\":0,\"ticks\":\"\"}},\"type\":\"parcoords\"}],\"pie\":[{\"automargin\":true,\"type\":\"pie\"}],\"scatter\":[{\"marker\":{\"colorbar\":{\"outlinewidth\":0,\"ticks\":\"\"}},\"type\":\"scatter\"}],\"scatter3d\":[{\"line\":{\"colorbar\":{\"outlinewidth\":0,\"ticks\":\"\"}},\"marker\":{\"colorbar\":{\"outlinewidth\":0,\"ticks\":\"\"}},\"type\":\"scatter3d\"}],\"scattercarpet\":[{\"marker\":{\"colorbar\":{\"outlinewidth\":0,\"ticks\":\"\"}},\"type\":\"scattercarpet\"}],\"scattergeo\":[{\"marker\":{\"colorbar\":{\"outlinewidth\":0,\"ticks\":\"\"}},\"type\":\"scattergeo\"}],\"scattergl\":[{\"marker\":{\"colorbar\":{\"outlinewidth\":0,\"ticks\":\"\"}},\"type\":\"scattergl\"}],\"scattermapbox\":[{\"marker\":{\"colorbar\":{\"outlinewidth\":0,\"ticks\":\"\"}},\"type\":\"scattermapbox\"}],\"scatterpolar\":[{\"marker\":{\"colorbar\":{\"outlinewidth\":0,\"ticks\":\"\"}},\"type\":\"scatterpolar\"}],\"scatterpolargl\":[{\"marker\":{\"colorbar\":{\"outlinewidth\":0,\"ticks\":\"\"}},\"type\":\"scatterpolargl\"}],\"scatterternary\":[{\"marker\":{\"colorbar\":{\"outlinewidth\":0,\"ticks\":\"\"}},\"type\":\"scatterternary\"}],\"surface\":[{\"colorbar\":{\"outlinewidth\":0,\"ticks\":\"\"},\"colorscale\":[[0.0,\"#0d0887\"],[0.1111111111111111,\"#46039f\"],[0.2222222222222222,\"#7201a8\"],[0.3333333333333333,\"#9c179e\"],[0.4444444444444444,\"#bd3786\"],[0.5555555555555556,\"#d8576b\"],[0.6666666666666666,\"#ed7953\"],[0.7777777777777778,\"#fb9f3a\"],[0.8888888888888888,\"#fdca26\"],[1.0,\"#f0f921\"]],\"type\":\"surface\"}],\"table\":[{\"cells\":{\"fill\":{\"color\":\"#EBF0F8\"},\"line\":{\"color\":\"white\"}},\"header\":{\"fill\":{\"color\":\"#C8D4E3\"},\"line\":{\"color\":\"white\"}},\"type\":\"table\"}]},\"layout\":{\"annotationdefaults\":{\"arrowcolor\":\"#2a3f5f\",\"arrowhead\":0,\"arrowwidth\":1},\"autotypenumbers\":\"strict\",\"coloraxis\":{\"colorbar\":{\"outlinewidth\":0,\"ticks\":\"\"}},\"colorscale\":{\"diverging\":[[0,\"#8e0152\"],[0.1,\"#c51b7d\"],[0.2,\"#de77ae\"],[0.3,\"#f1b6da\"],[0.4,\"#fde0ef\"],[0.5,\"#f7f7f7\"],[0.6,\"#e6f5d0\"],[0.7,\"#b8e186\"],[0.8,\"#7fbc41\"],[0.9,\"#4d9221\"],[1,\"#276419\"]],\"sequential\":[[0.0,\"#0d0887\"],[0.1111111111111111,\"#46039f\"],[0.2222222222222222,\"#7201a8\"],[0.3333333333333333,\"#9c179e\"],[0.4444444444444444,\"#bd3786\"],[0.5555555555555556,\"#d8576b\"],[0.6666666666666666,\"#ed7953\"],[0.7777777777777778,\"#fb9f3a\"],[0.8888888888888888,\"#fdca26\"],[1.0,\"#f0f921\"]],\"sequentialminus\":[[0.0,\"#0d0887\"],[0.1111111111111111,\"#46039f\"],[0.2222222222222222,\"#7201a8\"],[0.3333333333333333,\"#9c179e\"],[0.4444444444444444,\"#bd3786\"],[0.5555555555555556,\"#d8576b\"],[0.6666666666666666,\"#ed7953\"],[0.7777777777777778,\"#fb9f3a\"],[0.8888888888888888,\"#fdca26\"],[1.0,\"#f0f921\"]]},\"colorway\":[\"#636efa\",\"#EF553B\",\"#00cc96\",\"#ab63fa\",\"#FFA15A\",\"#19d3f3\",\"#FF6692\",\"#B6E880\",\"#FF97FF\",\"#FECB52\"],\"font\":{\"color\":\"#2a3f5f\"},\"geo\":{\"bgcolor\":\"white\",\"lakecolor\":\"white\",\"landcolor\":\"#E5ECF6\",\"showlakes\":true,\"showland\":true,\"subunitcolor\":\"white\"},\"hoverlabel\":{\"align\":\"left\"},\"hovermode\":\"closest\",\"mapbox\":{\"style\":\"light\"},\"paper_bgcolor\":\"white\",\"plot_bgcolor\":\"#E5ECF6\",\"polar\":{\"angularaxis\":{\"gridcolor\":\"white\",\"linecolor\":\"white\",\"ticks\":\"\"},\"bgcolor\":\"#E5ECF6\",\"radialaxis\":{\"gridcolor\":\"white\",\"linecolor\":\"white\",\"ticks\":\"\"}},\"scene\":{\"xaxis\":{\"backgroundcolor\":\"#E5ECF6\",\"gridcolor\":\"white\",\"gridwidth\":2,\"linecolor\":\"white\",\"showbackground\":true,\"ticks\":\"\",\"zerolinecolor\":\"white\"},\"yaxis\":{\"backgroundcolor\":\"#E5ECF6\",\"gridcolor\":\"white\",\"gridwidth\":2,\"linecolor\":\"white\",\"showbackground\":true,\"ticks\":\"\",\"zerolinecolor\":\"white\"},\"zaxis\":{\"backgroundcolor\":\"#E5ECF6\",\"gridcolor\":\"white\",\"gridwidth\":2,\"linecolor\":\"white\",\"showbackground\":true,\"ticks\":\"\",\"zerolinecolor\":\"white\"}},\"shapedefaults\":{\"line\":{\"color\":\"#2a3f5f\"}},\"ternary\":{\"aaxis\":{\"gridcolor\":\"white\",\"linecolor\":\"white\",\"ticks\":\"\"},\"baxis\":{\"gridcolor\":\"white\",\"linecolor\":\"white\",\"ticks\":\"\"},\"bgcolor\":\"#E5ECF6\",\"caxis\":{\"gridcolor\":\"white\",\"linecolor\":\"white\",\"ticks\":\"\"}},\"title\":{\"x\":0.05},\"xaxis\":{\"automargin\":true,\"gridcolor\":\"white\",\"linecolor\":\"white\",\"ticks\":\"\",\"title\":{\"standoff\":15},\"zerolinecolor\":\"white\",\"zerolinewidth\":2},\"yaxis\":{\"automargin\":true,\"gridcolor\":\"white\",\"linecolor\":\"white\",\"ticks\":\"\",\"title\":{\"standoff\":15},\"zerolinecolor\":\"white\",\"zerolinewidth\":2}}},\"xaxis\":{\"anchor\":\"y\",\"domain\":[0.0,1.0],\"title\":{\"text\":\"x\"}},\"yaxis\":{\"anchor\":\"x\",\"domain\":[0.0,1.0],\"title\":{\"text\":\"y\"}},\"legend\":{\"tracegroupgap\":0},\"margin\":{\"t\":60}},                        {\"responsive\": true}                    ).then(function(){\n",
       "                            \n",
       "var gd = document.getElementById('be4b0b97-7853-475c-a325-949252931294');\n",
       "var x = new MutationObserver(function (mutations, observer) {{\n",
       "        var display = window.getComputedStyle(gd).display;\n",
       "        if (!display || display === 'none') {{\n",
       "            console.log([gd, 'removed!']);\n",
       "            Plotly.purge(gd);\n",
       "            observer.disconnect();\n",
       "        }}\n",
       "}});\n",
       "\n",
       "// Listen for the removal of the full notebook cells\n",
       "var notebookContainer = gd.closest('#notebook-container');\n",
       "if (notebookContainer) {{\n",
       "    x.observe(notebookContainer, {childList: true});\n",
       "}}\n",
       "\n",
       "// Listen for the clearing of the current output cell\n",
       "var outputEl = gd.closest('.output');\n",
       "if (outputEl) {{\n",
       "    x.observe(outputEl, {childList: true});\n",
       "}}\n",
       "\n",
       "                        })                };                            </script>        </div>\n",
       "</body>\n",
       "</html>"
      ]
     },
     "metadata": {},
     "output_type": "display_data"
    }
   ],
   "source": [
    "px.scatter(x=list(y_test),y=list(np.sqrt((y_pred_nn-y_test)**2)))"
   ]
  },
  {
   "cell_type": "code",
   "execution_count": null,
   "id": "yicHCB_Qlcom",
   "metadata": {
    "id": "yicHCB_Qlcom"
   },
   "outputs": [],
   "source": [
    "df_test= pd.read_csv(path+\"process_data_mbtr_for_submit_test.csv\",sep=\";\")"
   ]
  },
  {
   "cell_type": "code",
   "execution_count": null,
   "id": "LnJmqT2alGJa",
   "metadata": {
    "id": "LnJmqT2alGJa"
   },
   "outputs": [],
   "source": [
    "X_submit = df_test.drop([\"id\",\"Molecule\",\"Molecule_formula\"],axis=1)\n",
    "#X_submit_ = scaler_MinMax.transform(X_submit.values)\n",
    "predicted = m_best.predict(X_submit).flatten()\n",
    "df_pred = pd.DataFrame({\"id\":df_test[\"id\"].values,\"predicted\":predicted})"
   ]
  },
  {
   "cell_type": "code",
   "execution_count": null,
   "id": "QHEWSIxhnepY",
   "metadata": {
    "id": "QHEWSIxhnepY"
   },
   "outputs": [],
   "source": [
    "df_pred.to_csv(\"sub9_mbtr_model_end.csv\",header=True,encoding=\"utf-8-sig\",sep=\",\",index=False)"
   ]
  }
 ],
 "metadata": {
  "accelerator": "GPU",
  "colab": {
   "collapsed_sections": [],
   "machine_shape": "hm",
   "name": "Molecule_Energy_Prediction_Colab.ipynb",
   "provenance": []
  },
  "gpuClass": "standard",
  "kernelspec": {
   "display_name": "Python 3",
   "language": "python",
   "name": "python3"
  },
  "language_info": {
   "codemirror_mode": {
    "name": "ipython",
    "version": 3
   },
   "file_extension": ".py",
   "mimetype": "text/x-python",
   "name": "python",
   "nbconvert_exporter": "python",
   "pygments_lexer": "ipython3",
   "version": "3.9.7"
  }
 },
 "nbformat": 4,
 "nbformat_minor": 5
}
