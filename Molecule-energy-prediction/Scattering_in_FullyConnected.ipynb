{
  "nbformat": 4,
  "nbformat_minor": 0,
  "metadata": {
    "colab": {
      "name": "Scattering_in_FullyConnected.ipynb",
      "provenance": [],
      "collapsed_sections": []
    },
    "kernelspec": {
      "name": "python3",
      "display_name": "Python 3"
    },
    "language_info": {
      "name": "python"
    },
    "gpuClass": "standard"
  },
  "cells": [
    {
      "cell_type": "code",
      "source": [
        "import pandas as pd\n",
        "import numpy as np\n",
        "import torch\n",
        "import torch.nn as nn"
      ],
      "metadata": {
        "id": "xwnlUot-QTlo"
      },
      "execution_count": 1,
      "outputs": []
    },
    {
      "cell_type": "code",
      "execution_count": 2,
      "metadata": {
        "id": "SXG5YBinKFAe",
        "colab": {
          "base_uri": "https://localhost:8080/"
        },
        "outputId": "86f49314-0092-4856-d042-492647696f18"
      },
      "outputs": [
        {
          "output_type": "execute_result",
          "data": {
            "text/plain": [
              "device(type='cpu')"
            ]
          },
          "metadata": {},
          "execution_count": 2
        }
      ],
      "source": [
        "device = torch.device('cuda' if torch.cuda.is_available() else 'cpu')\n",
        "device"
      ]
    },
    {
      "cell_type": "code",
      "source": [
        "import torch\n",
        "import torch.nn as nn\n",
        "\n",
        "\n",
        "class SimpleFCmodel(nn.Module):\n",
        "    # defining a class for multi linear regression\n",
        "    def __init__(self):\n",
        "        super(SimpleFCmodel, self).__init__()\n",
        "        # defining the constructor\n",
        "        self.fc1 = nn.Linear(300, 128)\n",
        "        self.fc2 = nn.Linear(128, 64)\n",
        "        self.fc3 = nn.Linear(64, 32)\n",
        "        self.fc4 = nn.Linear(32, 8)\n",
        "        self.fc5 = nn.Linear(8, 1)\n",
        "\n",
        "        self.act = nn.ReLU()\n",
        "\n",
        "    def forward(self, x):\n",
        "        # defining the forward pass\n",
        "        x = self.fc1(x)\n",
        "        x = self.act(x)\n",
        "        x = self.fc2(x)\n",
        "        x = self.act(x)\n",
        "        x = self.fc3(x)\n",
        "        x = self.act(x)\n",
        "        x = self.fc4(x)\n",
        "        x = self.act(x)\n",
        "        x = self.fc5(x)\n",
        "        \n",
        "        return x\n",
        "\n",
        "net = SimpleFCmodel()\n",
        "net.to(device)"
      ],
      "metadata": {
        "id": "9vDSYDPBzuri",
        "colab": {
          "base_uri": "https://localhost:8080/"
        },
        "outputId": "bf171a87-4bf0-48d8-a578-e7cbc7485370"
      },
      "execution_count": 4,
      "outputs": [
        {
          "output_type": "execute_result",
          "data": {
            "text/plain": [
              "SimpleFCmodel(\n",
              "  (fc1): Linear(in_features=300, out_features=128, bias=True)\n",
              "  (fc2): Linear(in_features=128, out_features=64, bias=True)\n",
              "  (fc3): Linear(in_features=64, out_features=32, bias=True)\n",
              "  (fc4): Linear(in_features=32, out_features=8, bias=True)\n",
              "  (fc5): Linear(in_features=8, out_features=1, bias=True)\n",
              "  (act): ReLU()\n",
              ")"
            ]
          },
          "metadata": {},
          "execution_count": 4
        }
      ]
    },
    {
      "cell_type": "code",
      "source": [
        "def test(model, dataloader):\n",
        "    test_corrects = 0\n",
        "    total = 0\n",
        "    with torch.no_grad():\n",
        "        for x, y in dataloader:\n",
        "            y = torch.reshape(y, (-1,1)).float()\n",
        "            x = x.to(device)\n",
        "            y = y.to(device)\n",
        "            y_hat = model(x.float())\n",
        "            test_loss = torch.sqrt(nn.MSELoss()(y, y_hat))\n",
        "    return test_loss"
      ],
      "metadata": {
        "id": "RT19VlAYQnkZ"
      },
      "execution_count": 5,
      "outputs": []
    },
    {
      "cell_type": "code",
      "source": [
        "from tqdm import tqdm\n",
        "from statistics import mean\n",
        "import torch\n",
        "import torchvision\n",
        "import torch.nn as nn\n",
        "import torch.nn.functional as F\n",
        "import torch.optim as optim\n",
        "\n",
        "\n",
        "def train(net, optimizer, loader, epochs=10):\n",
        "    great_val_loss = torch.zeros(1)*10000\n",
        "    criterion = nn.MSELoss()\n",
        "    for epoch in range(epochs):\n",
        "        running_loss = []\n",
        "        t = tqdm(loader)\n",
        "        for x, y in t:\n",
        "            y = torch.reshape(y, (8,1))\n",
        "            x, y = x.to(device), y.to(device)\n",
        "            outputs = net(x.float())\n",
        "            loss = criterion(outputs, y.float())\n",
        "            running_loss.append(loss.item())\n",
        "            optimizer.zero_grad()\n",
        "            loss.backward()\n",
        "            optimizer.step()\n",
        "            t.set_description(f'training loss: {np.sqrt(mean(running_loss))}')\n",
        "        \n",
        "        validation_loss = test(net, loader)\n",
        "\n",
        "        if validation_loss < great_val_loss :\n",
        "          torch.save(net, 'drive/MyDrive/Network/torch_model.pt')\n",
        "          \n",
        "        print(f'Epoch {epoch + 1}/{epochs} : loss {np.sqrt(mean(running_loss))} : val_loss {validation_loss}')"
      ],
      "metadata": {
        "id": "7Xawx1K4Qkwi"
      },
      "execution_count": 6,
      "outputs": []
    },
    {
      "cell_type": "code",
      "source": [
        "class ScatteringDataset():\n",
        "\n",
        "    def __init__(self, start=0, end=-1):\n",
        "        self.path = 'drive/MyDrive/Data/'\n",
        "        self.input = pd.read_csv(self.path + 'scaled_scattering_coef.csv', sep=',', header=None)[start:end]\n",
        "        self.output = pd.read_csv(self.path + 'train.csv')[start:end]['energy']\n",
        "\n",
        "    def __len__(self):\n",
        "        return len(self.input)\n",
        "\n",
        "    def __getitem__(self, idx):\n",
        "       \n",
        "        input = self.input.iloc[idx].values\n",
        "        output = self.output.iloc[idx]\n",
        "\n",
        "\n",
        "        return (input.astype(float), output.astype(float))\n",
        "        "
      ],
      "metadata": {
        "id": "c_9yAnOEQqjz"
      },
      "execution_count": 7,
      "outputs": []
    },
    {
      "cell_type": "code",
      "source": [
        "trainset = ScatteringDataset(start=0, end=6400)\n",
        "testset = ScatteringDataset(start=6400, end=6770)\n",
        "\n",
        "# dataloaders\n",
        "trainloader = torch.utils.data.DataLoader(trainset, batch_size=8, shuffle=True, num_workers=2)\n",
        "testloader = torch.utils.data.DataLoader(testset, batch_size=8, shuffle=True, num_workers=2)"
      ],
      "metadata": {
        "id": "4gEB4YIxQuCb"
      },
      "execution_count": 8,
      "outputs": []
    },
    {
      "cell_type": "code",
      "source": [
        "optimizer = optim.Adam(net.parameters(), lr=1e-6)\n",
        "\n",
        "train(net, optimizer, trainloader, epochs=1)"
      ],
      "metadata": {
        "colab": {
          "base_uri": "https://localhost:8080/"
        },
        "id": "d7SFBqr6Qw30",
        "outputId": "67a7f4f3-85c8-435c-a88a-a1e4c8cb7efb"
      },
      "execution_count": 22,
      "outputs": [
        {
          "output_type": "stream",
          "name": "stderr",
          "text": [
            "training loss: 0.9043204654994331: 100%|██████████| 800/800 [00:07<00:00, 102.89it/s]\n"
          ]
        },
        {
          "output_type": "stream",
          "name": "stdout",
          "text": [
            "Epoch 1/1 : loss 0.9043204654994331 : val_loss 0.17528420686721802\n"
          ]
        }
      ]
    },
    {
      "cell_type": "code",
      "source": [
        "class TestScatteringDataset():\n",
        "\n",
        "    def __init__(self, start=0, end=-1):\n",
        "        self.path = 'drive/MyDrive/Data/'\n",
        "        self.input = pd.read_csv(self.path + 'test_scaled_scattering_coef.csv', sep=',', header=None)[start:end]\n",
        "      \n",
        "\n",
        "    def __len__(self):\n",
        "        return len(self.input)\n",
        "\n",
        "    def __getitem__(self, idx):\n",
        "       \n",
        "        input = self.input.iloc[idx].values\n",
        "\n",
        "        return input.astype(float)"
      ],
      "metadata": {
        "id": "g0zFeJY4UOkt"
      },
      "execution_count": 23,
      "outputs": []
    },
    {
      "cell_type": "code",
      "source": [
        "evalset = TestScatteringDataset()\n",
        "evalloader = torch.utils.data.DataLoader(evalset, batch_size=1, shuffle=False, num_workers=2)"
      ],
      "metadata": {
        "id": "drszUVXuUWmk"
      },
      "execution_count": 24,
      "outputs": []
    },
    {
      "cell_type": "code",
      "source": [
        "def evaluate(model, dataloader, index_range = None):\n",
        "\n",
        "    y_hat = []\n",
        "    counter = 0\n",
        "    with torch.no_grad():\n",
        "        for x_pos in dataloader:\n",
        "            x_pos = x_pos[:, 1:].to(device)\n",
        "            y_hat.append(model(x_pos.float()).detach().tolist())\n",
        "\n",
        "    if index_range is None:\n",
        "        ids = range(len(y_hat))\n",
        "    else:\n",
        "        ids = range(index_range[0],index_range[1]+1)\n",
        "\n",
        "    print(len(y_hat))\n",
        "    print(len(ids))\n",
        "    results = pd.DataFrame({\"id\": list(ids), \"predicted\": np.ravel(y_hat)})\n",
        "\n",
        "    return results"
      ],
      "metadata": {
        "id": "M06NMKp_Tx4d"
      },
      "execution_count": 25,
      "outputs": []
    },
    {
      "cell_type": "code",
      "source": [
        "results = evaluate(net, evalloader)\n",
        "to_sub = results[4:-3].reset_index(drop=True)\n",
        "to_sub_index = np.arange(6774, 8463)\n",
        "to_sub['id'] = to_sub_index\n",
        "to_sub"
      ],
      "metadata": {
        "colab": {
          "base_uri": "https://localhost:8080/",
          "height": 477
        },
        "id": "9n3lkLzlUe3Z",
        "outputId": "e55a12ae-b984-4f01-f0b0-bb5f338a780b"
      },
      "execution_count": 26,
      "outputs": [
        {
          "output_type": "stream",
          "name": "stdout",
          "text": [
            "1696\n",
            "1696\n",
            "(1696, 2)\n"
          ]
        },
        {
          "output_type": "execute_result",
          "data": {
            "text/plain": [
              "        id  predicted\n",
              "0        0 -63.204533\n",
              "1        1 -71.744011\n",
              "2        2 -84.432899\n",
              "3        3 -82.251953\n",
              "4        4 -84.828003\n",
              "...    ...        ...\n",
              "1691  1691 -84.410736\n",
              "1692  1692 -76.723839\n",
              "1693  1693 -83.754623\n",
              "1694  1694 -72.579544\n",
              "1695  1695 -97.048477\n",
              "\n",
              "[1696 rows x 2 columns]"
            ],
            "text/html": [
              "\n",
              "  <div id=\"df-7b7c4d03-a924-49de-80d0-aaff0551fe11\">\n",
              "    <div class=\"colab-df-container\">\n",
              "      <div>\n",
              "<style scoped>\n",
              "    .dataframe tbody tr th:only-of-type {\n",
              "        vertical-align: middle;\n",
              "    }\n",
              "\n",
              "    .dataframe tbody tr th {\n",
              "        vertical-align: top;\n",
              "    }\n",
              "\n",
              "    .dataframe thead th {\n",
              "        text-align: right;\n",
              "    }\n",
              "</style>\n",
              "<table border=\"1\" class=\"dataframe\">\n",
              "  <thead>\n",
              "    <tr style=\"text-align: right;\">\n",
              "      <th></th>\n",
              "      <th>id</th>\n",
              "      <th>predicted</th>\n",
              "    </tr>\n",
              "  </thead>\n",
              "  <tbody>\n",
              "    <tr>\n",
              "      <th>0</th>\n",
              "      <td>0</td>\n",
              "      <td>-63.204533</td>\n",
              "    </tr>\n",
              "    <tr>\n",
              "      <th>1</th>\n",
              "      <td>1</td>\n",
              "      <td>-71.744011</td>\n",
              "    </tr>\n",
              "    <tr>\n",
              "      <th>2</th>\n",
              "      <td>2</td>\n",
              "      <td>-84.432899</td>\n",
              "    </tr>\n",
              "    <tr>\n",
              "      <th>3</th>\n",
              "      <td>3</td>\n",
              "      <td>-82.251953</td>\n",
              "    </tr>\n",
              "    <tr>\n",
              "      <th>4</th>\n",
              "      <td>4</td>\n",
              "      <td>-84.828003</td>\n",
              "    </tr>\n",
              "    <tr>\n",
              "      <th>...</th>\n",
              "      <td>...</td>\n",
              "      <td>...</td>\n",
              "    </tr>\n",
              "    <tr>\n",
              "      <th>1691</th>\n",
              "      <td>1691</td>\n",
              "      <td>-84.410736</td>\n",
              "    </tr>\n",
              "    <tr>\n",
              "      <th>1692</th>\n",
              "      <td>1692</td>\n",
              "      <td>-76.723839</td>\n",
              "    </tr>\n",
              "    <tr>\n",
              "      <th>1693</th>\n",
              "      <td>1693</td>\n",
              "      <td>-83.754623</td>\n",
              "    </tr>\n",
              "    <tr>\n",
              "      <th>1694</th>\n",
              "      <td>1694</td>\n",
              "      <td>-72.579544</td>\n",
              "    </tr>\n",
              "    <tr>\n",
              "      <th>1695</th>\n",
              "      <td>1695</td>\n",
              "      <td>-97.048477</td>\n",
              "    </tr>\n",
              "  </tbody>\n",
              "</table>\n",
              "<p>1696 rows × 2 columns</p>\n",
              "</div>\n",
              "      <button class=\"colab-df-convert\" onclick=\"convertToInteractive('df-7b7c4d03-a924-49de-80d0-aaff0551fe11')\"\n",
              "              title=\"Convert this dataframe to an interactive table.\"\n",
              "              style=\"display:none;\">\n",
              "        \n",
              "  <svg xmlns=\"http://www.w3.org/2000/svg\" height=\"24px\"viewBox=\"0 0 24 24\"\n",
              "       width=\"24px\">\n",
              "    <path d=\"M0 0h24v24H0V0z\" fill=\"none\"/>\n",
              "    <path d=\"M18.56 5.44l.94 2.06.94-2.06 2.06-.94-2.06-.94-.94-2.06-.94 2.06-2.06.94zm-11 1L8.5 8.5l.94-2.06 2.06-.94-2.06-.94L8.5 2.5l-.94 2.06-2.06.94zm10 10l.94 2.06.94-2.06 2.06-.94-2.06-.94-.94-2.06-.94 2.06-2.06.94z\"/><path d=\"M17.41 7.96l-1.37-1.37c-.4-.4-.92-.59-1.43-.59-.52 0-1.04.2-1.43.59L10.3 9.45l-7.72 7.72c-.78.78-.78 2.05 0 2.83L4 21.41c.39.39.9.59 1.41.59.51 0 1.02-.2 1.41-.59l7.78-7.78 2.81-2.81c.8-.78.8-2.07 0-2.86zM5.41 20L4 18.59l7.72-7.72 1.47 1.35L5.41 20z\"/>\n",
              "  </svg>\n",
              "      </button>\n",
              "      \n",
              "  <style>\n",
              "    .colab-df-container {\n",
              "      display:flex;\n",
              "      flex-wrap:wrap;\n",
              "      gap: 12px;\n",
              "    }\n",
              "\n",
              "    .colab-df-convert {\n",
              "      background-color: #E8F0FE;\n",
              "      border: none;\n",
              "      border-radius: 50%;\n",
              "      cursor: pointer;\n",
              "      display: none;\n",
              "      fill: #1967D2;\n",
              "      height: 32px;\n",
              "      padding: 0 0 0 0;\n",
              "      width: 32px;\n",
              "    }\n",
              "\n",
              "    .colab-df-convert:hover {\n",
              "      background-color: #E2EBFA;\n",
              "      box-shadow: 0px 1px 2px rgba(60, 64, 67, 0.3), 0px 1px 3px 1px rgba(60, 64, 67, 0.15);\n",
              "      fill: #174EA6;\n",
              "    }\n",
              "\n",
              "    [theme=dark] .colab-df-convert {\n",
              "      background-color: #3B4455;\n",
              "      fill: #D2E3FC;\n",
              "    }\n",
              "\n",
              "    [theme=dark] .colab-df-convert:hover {\n",
              "      background-color: #434B5C;\n",
              "      box-shadow: 0px 1px 3px 1px rgba(0, 0, 0, 0.15);\n",
              "      filter: drop-shadow(0px 1px 2px rgba(0, 0, 0, 0.3));\n",
              "      fill: #FFFFFF;\n",
              "    }\n",
              "  </style>\n",
              "\n",
              "      <script>\n",
              "        const buttonEl =\n",
              "          document.querySelector('#df-7b7c4d03-a924-49de-80d0-aaff0551fe11 button.colab-df-convert');\n",
              "        buttonEl.style.display =\n",
              "          google.colab.kernel.accessAllowed ? 'block' : 'none';\n",
              "\n",
              "        async function convertToInteractive(key) {\n",
              "          const element = document.querySelector('#df-7b7c4d03-a924-49de-80d0-aaff0551fe11');\n",
              "          const dataTable =\n",
              "            await google.colab.kernel.invokeFunction('convertToInteractive',\n",
              "                                                     [key], {});\n",
              "          if (!dataTable) return;\n",
              "\n",
              "          const docLinkHtml = 'Like what you see? Visit the ' +\n",
              "            '<a target=\"_blank\" href=https://colab.research.google.com/notebooks/data_table.ipynb>data table notebook</a>'\n",
              "            + ' to learn more about interactive tables.';\n",
              "          element.innerHTML = '';\n",
              "          dataTable['output_type'] = 'display_data';\n",
              "          await google.colab.output.renderOutput(dataTable, element);\n",
              "          const docLink = document.createElement('div');\n",
              "          docLink.innerHTML = docLinkHtml;\n",
              "          element.appendChild(docLink);\n",
              "        }\n",
              "      </script>\n",
              "    </div>\n",
              "  </div>\n",
              "  "
            ]
          },
          "metadata": {},
          "execution_count": 26
        }
      ]
    },
    {
      "cell_type": "code",
      "source": [
        "to_sub.to_csv('/content/drive/MyDrive/Data/to_sub.csv', sep=',', index=False)"
      ],
      "metadata": {
        "id": "WCikp4FqjcEx"
      },
      "execution_count": 31,
      "outputs": []
    }
  ]
}